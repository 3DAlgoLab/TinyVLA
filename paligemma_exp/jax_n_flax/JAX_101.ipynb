{
  "cells": [
    {
      "cell_type": "markdown",
      "metadata": {
        "id": "QjoDFOXcm0fx"
      },
      "source": [
        "# JAX 101"
      ]
    },
    {
      "cell_type": "markdown",
      "metadata": {
        "id": "QyVLdzdUm0fz"
      },
      "source": [
        "\n",
        "Click the image below to read the post online.\n",
        "\n",
        "<a target=\"_blank\" href=\"https://www.machinelearningnuggets.com/what-is-jax\n",
        "\"><img src=\"https://digitalpress.fra1.cdn.digitaloceanspaces.com/mhujhsj/2022/07/logo.png\" alt=\"Open in ML Nuggets\"></a>"
      ]
    },
    {
      "cell_type": "markdown",
      "metadata": {
        "id": "VksNICG0m0f0"
      },
      "source": [
        "JAX is an open source Python package for numerical computation in with accelearators and XLA."
      ]
    },
    {
      "cell_type": "markdown",
      "metadata": {
        "id": "KPaIoNwzm0f0"
      },
      "source": [
        "## Installing JAX"
      ]
    },
    {
      "cell_type": "markdown",
      "metadata": {
        "id": "h1H8NijYm0f0"
      },
      "source": [
        "\n",
        "\n",
        "pip install jax"
      ]
    },
    {
      "cell_type": "markdown",
      "metadata": {
        "id": "xyJRbYAPm0f0"
      },
      "source": [
        "### Why use JAX?"
      ]
    },
    {
      "cell_type": "markdown",
      "metadata": {
        "id": "3h8-OoEIm0f1"
      },
      "source": [
        "- faster than NumPy\n",
        "- consumes less memory and is convenient to use\n",
        "- Other data science packages are built on top of it, for example Flax, Haiku etc"
      ]
    },
    {
      "cell_type": "markdown",
      "metadata": {
        "id": "_hrtnuNqqG47"
      },
      "source": [
        "## Setting up TPUs on Google Colab\n",
        "\n",
        "Ensure you change the run time to TPUs"
      ]
    },
    {
      "cell_type": "code",
      "execution_count": 1,
      "metadata": {
        "id": "dcjM21W4qGkU"
      },
      "outputs": [
        {
          "data": {
            "text/plain": [
              "[cuda(id=0), cuda(id=1)]"
            ]
          },
          "execution_count": 1,
          "metadata": {},
          "output_type": "execute_result"
        }
      ],
      "source": [
        "import jax\n",
        "\n",
        "# import jax.tools.colab_tpu\n",
        "# jax.tools.colab_tpu.setup_tpu()\n",
        "jax.devices()"
      ]
    },
    {
      "cell_type": "code",
      "execution_count": 2,
      "metadata": {
        "id": "svFPvSPwm0f1"
      },
      "outputs": [],
      "source": [
        "import jax.numpy as jnp\n",
        "import numpy as np"
      ]
    },
    {
      "cell_type": "markdown",
      "metadata": {
        "id": "9NPwAyVam0f2"
      },
      "source": [
        "# Data Types in JAX"
      ]
    },
    {
      "cell_type": "code",
      "execution_count": 3,
      "metadata": {
        "id": "4Wb1Ojkgm0f2"
      },
      "outputs": [],
      "source": [
        "x = jnp.float32(1.25844)"
      ]
    },
    {
      "cell_type": "code",
      "execution_count": 4,
      "metadata": {
        "colab": {
          "base_uri": "https://localhost:8080/"
        },
        "id": "gtlTskCSm0f3",
        "outputId": "c98b0daf-7563-4569-8d2c-dabd2be127ab"
      },
      "outputs": [
        {
          "data": {
            "text/plain": [
              "Array(1.25844, dtype=float32)"
            ]
          },
          "execution_count": 4,
          "metadata": {},
          "output_type": "execute_result"
        }
      ],
      "source": [
        "x"
      ]
    },
    {
      "cell_type": "code",
      "execution_count": 5,
      "metadata": {
        "colab": {
          "base_uri": "https://localhost:8080/"
        },
        "id": "IefLqcChm0f3",
        "outputId": "1136831a-5ad0-4499-bc88-1901a04cefbd"
      },
      "outputs": [
        {
          "data": {
            "text/plain": [
              "jaxlib.xla_extension.ArrayImpl"
            ]
          },
          "execution_count": 5,
          "metadata": {},
          "output_type": "execute_result"
        }
      ],
      "source": [
        "type(x)"
      ]
    },
    {
      "cell_type": "code",
      "execution_count": 6,
      "metadata": {
        "id": "SrOrGUSyqznt"
      },
      "outputs": [],
      "source": [
        "x = jnp.int32(45.25844)"
      ]
    },
    {
      "cell_type": "code",
      "execution_count": 7,
      "metadata": {
        "colab": {
          "base_uri": "https://localhost:8080/"
        },
        "id": "0nfVaFtOq6TA",
        "outputId": "a8966834-acf7-4006-f955-eb734c794597"
      },
      "outputs": [
        {
          "data": {
            "text/plain": [
              "Array(45, dtype=int32)"
            ]
          },
          "execution_count": 7,
          "metadata": {},
          "output_type": "execute_result"
        }
      ],
      "source": [
        "x"
      ]
    },
    {
      "cell_type": "markdown",
      "metadata": {
        "id": "qCDDsVTEm0f3"
      },
      "source": [
        "## Ways to Create JAX NumPy Arrays"
      ]
    },
    {
      "cell_type": "markdown",
      "metadata": {
        "id": "JdJWNp7Wm0f4"
      },
      "source": [
        "A NumPy array is a multidimensional array-like data structure"
      ]
    },
    {
      "cell_type": "markdown",
      "metadata": {
        "id": "RMlWxDIPm0f4"
      },
      "source": [
        "### np.arange()"
      ]
    },
    {
      "cell_type": "code",
      "execution_count": 8,
      "metadata": {
        "colab": {
          "base_uri": "https://localhost:8080/"
        },
        "id": "z9GNw3qhm0f4",
        "outputId": "e95cde53-a5c3-4747-bb94-068a5e925528"
      },
      "outputs": [
        {
          "data": {
            "text/plain": [
              "Array([0, 1, 2, 3, 4, 5, 6, 7, 8, 9], dtype=int32)"
            ]
          },
          "execution_count": 8,
          "metadata": {},
          "output_type": "execute_result"
        }
      ],
      "source": [
        "jnp.arange(10)"
      ]
    },
    {
      "cell_type": "code",
      "execution_count": 9,
      "metadata": {
        "colab": {
          "base_uri": "https://localhost:8080/"
        },
        "id": "Y2W-0p0vm0f4",
        "outputId": "62835f6e-81ec-4448-92fc-346cc02f8b98"
      },
      "outputs": [
        {
          "data": {
            "text/plain": [
              "Array([0, 1, 2, 3, 4, 5, 6, 7, 8, 9], dtype=int32)"
            ]
          },
          "execution_count": 9,
          "metadata": {},
          "output_type": "execute_result"
        }
      ],
      "source": [
        "jnp.arange(0, 10)"
      ]
    },
    {
      "cell_type": "code",
      "execution_count": 10,
      "metadata": {
        "colab": {
          "base_uri": "https://localhost:8080/"
        },
        "id": "mrKXK3hRm0f4",
        "outputId": "6e8c1576-d331-4e2e-ca9d-13f8af4444a8"
      },
      "outputs": [
        {
          "data": {
            "text/plain": [
              "Array([0, 2, 4, 6, 8], dtype=int32)"
            ]
          },
          "execution_count": 10,
          "metadata": {},
          "output_type": "execute_result"
        }
      ],
      "source": [
        "jnp.arange(0, 10, 2)"
      ]
    },
    {
      "cell_type": "markdown",
      "metadata": {
        "id": "Akiq4c3ym0f4"
      },
      "source": [
        "### Covert Python List to a NumPy Array"
      ]
    },
    {
      "cell_type": "code",
      "execution_count": 11,
      "metadata": {
        "id": "Rl4rrfJwm0f4"
      },
      "outputs": [],
      "source": [
        "scores = [50, 60, 70, 30, 25, 70]"
      ]
    },
    {
      "cell_type": "code",
      "execution_count": 12,
      "metadata": {
        "id": "evQsnDHmm0f4"
      },
      "outputs": [],
      "source": [
        "scores_array = jnp.array(scores)"
      ]
    },
    {
      "cell_type": "code",
      "execution_count": 13,
      "metadata": {
        "id": "gI2B-KtPm0f4",
        "outputId": "10d5175f-f17c-4def-cf25-eb00668b85c8"
      },
      "outputs": [
        {
          "data": {
            "text/plain": [
              "Array([50, 60, 70, 30, 25, 70], dtype=int32)"
            ]
          },
          "execution_count": 13,
          "metadata": {},
          "output_type": "execute_result"
        }
      ],
      "source": [
        "scores_array"
      ]
    },
    {
      "cell_type": "code",
      "execution_count": 14,
      "metadata": {
        "id": "qT3fOpPLm0f4",
        "outputId": "0fba13a5-0536-4b89-fcc6-9a136f579eb8"
      },
      "outputs": [
        {
          "data": {
            "text/plain": [
              "jaxlib.xla_extension.ArrayImpl"
            ]
          },
          "execution_count": 14,
          "metadata": {},
          "output_type": "execute_result"
        }
      ],
      "source": [
        "type(scores_array)"
      ]
    },
    {
      "cell_type": "code",
      "execution_count": 15,
      "metadata": {
        "id": "H5PnpSc0m0f5",
        "outputId": "77e7cb71-9e08-455f-8159-940f159fb984"
      },
      "outputs": [
        {
          "data": {
            "text/plain": [
              "1"
            ]
          },
          "execution_count": 15,
          "metadata": {},
          "output_type": "execute_result"
        }
      ],
      "source": [
        "scores_array.ndim  # the dimension of the array"
      ]
    },
    {
      "cell_type": "code",
      "execution_count": 16,
      "metadata": {
        "id": "3jNjszDWm0f5",
        "outputId": "4620a721-92aa-467c-85cb-a64681b9d31b"
      },
      "outputs": [
        {
          "data": {
            "text/plain": [
              "6"
            ]
          },
          "execution_count": 16,
          "metadata": {},
          "output_type": "execute_result"
        }
      ],
      "source": [
        "scores_array.size  # the number of items in the array"
      ]
    },
    {
      "cell_type": "code",
      "execution_count": 17,
      "metadata": {
        "id": "Tw6sI4QIm0f5",
        "outputId": "4eda3953-7fa7-4973-8d08-bc5f316f7f6c"
      },
      "outputs": [
        {
          "data": {
            "text/plain": [
              "dtype('int32')"
            ]
          },
          "execution_count": 17,
          "metadata": {},
          "output_type": "execute_result"
        }
      ],
      "source": [
        "scores_array.dtype  # the type of data in the array"
      ]
    },
    {
      "cell_type": "code",
      "execution_count": 18,
      "metadata": {
        "id": "eKN3pBtYm0f5",
        "outputId": "95dd2937-7122-4055-94fa-c1f071901b33"
      },
      "outputs": [
        {
          "data": {
            "text/plain": [
              "Array([25, 30, 50, 60, 70], dtype=int32)"
            ]
          },
          "execution_count": 18,
          "metadata": {},
          "output_type": "execute_result"
        }
      ],
      "source": [
        "jnp.unique(scores_array)  # print unique items from the array"
      ]
    },
    {
      "cell_type": "code",
      "execution_count": 19,
      "metadata": {
        "id": "k_l-eK3sm0f5",
        "outputId": "73eba0af-5c26-4c87-8031-911c66c6d0fa"
      },
      "outputs": [
        {
          "data": {
            "text/plain": [
              "Array([50, 60, 70, 30, 25, 70], dtype=int32)"
            ]
          },
          "execution_count": 19,
          "metadata": {},
          "output_type": "execute_result"
        }
      ],
      "source": [
        "scores_array"
      ]
    },
    {
      "cell_type": "code",
      "execution_count": 20,
      "metadata": {},
      "outputs": [
        {
          "data": {
            "text/plain": [
              "{cuda(id=0)}"
            ]
          },
          "execution_count": 20,
          "metadata": {},
          "output_type": "execute_result"
        }
      ],
      "source": [
        "scores_array.devices()"
      ]
    },
    {
      "cell_type": "code",
      "execution_count": 21,
      "metadata": {
        "id": "3sscCvbbm0f5",
        "outputId": "1ddf6a77-47a5-4f0c-ca00-7b2ec39d423d"
      },
      "outputs": [
        {
          "data": {
            "text/plain": [
              "Array([70, 25, 30, 70, 60, 50], dtype=int32)"
            ]
          },
          "execution_count": 21,
          "metadata": {},
          "output_type": "execute_result"
        }
      ],
      "source": [
        "jnp.flip(scores_array)  # reverse the array"
      ]
    },
    {
      "cell_type": "code",
      "execution_count": 22,
      "metadata": {
        "id": "PW6DREP6m0f5",
        "outputId": "534b3a43-9b1e-4454-b697-c1b9da94a129"
      },
      "outputs": [
        {
          "data": {
            "text/plain": [
              "Array([25, 30, 50, 60, 70, 70], dtype=int32)"
            ]
          },
          "execution_count": 22,
          "metadata": {},
          "output_type": "execute_result"
        }
      ],
      "source": [
        "jnp.sort(scores_array)"
      ]
    },
    {
      "cell_type": "code",
      "execution_count": 23,
      "metadata": {
        "id": "bPbtIGFCm0f5",
        "outputId": "47ab38ed-e990-47f3-adc4-8ad4eb1ae0a1"
      },
      "outputs": [
        {
          "data": {
            "text/plain": [
              "Array([50, 60, 70, 30, 25, 70], dtype=int32)"
            ]
          },
          "execution_count": 23,
          "metadata": {},
          "output_type": "execute_result"
        }
      ],
      "source": [
        "scores_array"
      ]
    },
    {
      "cell_type": "code",
      "execution_count": 24,
      "metadata": {
        "id": "fjLVA2CMm0f5",
        "outputId": "84dda44c-1b0c-43d1-a529-62d721ea1d89"
      },
      "outputs": [
        {
          "data": {
            "text/plain": [
              "Array([50, 59, 59, 30, 25, 59], dtype=int32)"
            ]
          },
          "execution_count": 24,
          "metadata": {},
          "output_type": "execute_result"
        }
      ],
      "source": [
        "jnp.clip(scores_array, 20, 59)"
      ]
    },
    {
      "cell_type": "markdown",
      "metadata": {
        "id": "iOsp3mj6m0f5"
      },
      "source": [
        "# Part Two"
      ]
    },
    {
      "cell_type": "markdown",
      "metadata": {
        "id": "_oAPGBlim0f5"
      },
      "source": [
        "### Joining Two Arrays"
      ]
    },
    {
      "cell_type": "code",
      "execution_count": 25,
      "metadata": {
        "id": "tagorqcmm0f5"
      },
      "outputs": [],
      "source": [
        "array_two = jnp.array([90, 26, 37, 77, 65, 55])"
      ]
    },
    {
      "cell_type": "code",
      "execution_count": 26,
      "metadata": {
        "id": "oOqhRPlzm0f5",
        "outputId": "b87540c9-8a37-41b4-d7ef-476ed2e30b43"
      },
      "outputs": [
        {
          "data": {
            "text/plain": [
              "Array([50, 60, 70, 30, 25, 70], dtype=int32)"
            ]
          },
          "execution_count": 26,
          "metadata": {},
          "output_type": "execute_result"
        }
      ],
      "source": [
        "scores_array"
      ]
    },
    {
      "cell_type": "code",
      "execution_count": 27,
      "metadata": {
        "id": "cUBTmG-Fm0f5",
        "outputId": "4487cb52-1466-4bc7-91e5-874f035a49cf"
      },
      "outputs": [
        {
          "data": {
            "text/plain": [
              "Array([ 50.,  60.,  70.,  30.,  25.,  70.,  90.,  26.,  37.,  77.,  65.,\n",
              "        55., 100., 200., 300.], dtype=float32)"
            ]
          },
          "execution_count": 27,
          "metadata": {},
          "output_type": "execute_result"
        }
      ],
      "source": [
        "concatenated = jnp.concatenate((scores_array, array_two))\n",
        "\n",
        "jnp.concatenate((concatenated, jnp.array([100, 200.0, 300])))"
      ]
    },
    {
      "cell_type": "markdown",
      "metadata": {
        "id": "P1DNPZ_Im0f5"
      },
      "source": [
        "### jnp.zeros()"
      ]
    },
    {
      "cell_type": "code",
      "execution_count": 28,
      "metadata": {
        "id": "wqMQTh55m0f6",
        "outputId": "9f758718-c684-4bcc-8dbb-4ff5fbfed7bd"
      },
      "outputs": [
        {
          "data": {
            "text/plain": [
              "Array([0., 0., 0., 0., 0.], dtype=float32)"
            ]
          },
          "execution_count": 28,
          "metadata": {},
          "output_type": "execute_result"
        }
      ],
      "source": [
        "jnp.zeros(5)"
      ]
    },
    {
      "cell_type": "markdown",
      "metadata": {
        "id": "Tvpvd6ijm0f6"
      },
      "source": [
        "### jnp.ones()"
      ]
    },
    {
      "cell_type": "code",
      "execution_count": 29,
      "metadata": {
        "id": "IRAQc8lpm0f6",
        "outputId": "0bd70b5a-8a67-448b-f1d9-ca4bbcc4b7c8"
      },
      "outputs": [
        {
          "data": {
            "text/plain": [
              "(Array([1., 1., 1., 1., 1.], dtype=float32), 1)"
            ]
          },
          "execution_count": 29,
          "metadata": {},
          "output_type": "execute_result"
        }
      ],
      "source": [
        "o1 = jnp.ones(5)\n",
        "o1, o1.ndim"
      ]
    },
    {
      "cell_type": "code",
      "execution_count": 30,
      "metadata": {
        "id": "w262GExpm0f6",
        "outputId": "9bcd033f-17b7-4866-8a34-62eca19e1c90"
      },
      "outputs": [
        {
          "data": {
            "text/plain": [
              "Array([[1., 0., 0., 0., 0.],\n",
              "       [0., 1., 0., 0., 0.],\n",
              "       [0., 0., 1., 0., 0.],\n",
              "       [0., 0., 0., 1., 0.],\n",
              "       [0., 0., 0., 0., 1.]], dtype=float32)"
            ]
          },
          "execution_count": 30,
          "metadata": {},
          "output_type": "execute_result"
        }
      ],
      "source": [
        "jnp.eye(5)  # Return a 2-D array with ones on the diagonal\n",
        "# and zeros elsewhere."
      ]
    },
    {
      "cell_type": "code",
      "execution_count": 31,
      "metadata": {
        "id": "Js_CeN0Tm0f6",
        "outputId": "6d42dc43-18b9-49aa-8f68-8dfdadfe92e4"
      },
      "outputs": [
        {
          "data": {
            "text/plain": [
              "Array([[1., 0., 0., 0., 0.],\n",
              "       [0., 1., 0., 0., 0.],\n",
              "       [0., 0., 1., 0., 0.],\n",
              "       [0., 0., 0., 1., 0.],\n",
              "       [0., 0., 0., 0., 1.]], dtype=float32)"
            ]
          },
          "execution_count": 31,
          "metadata": {},
          "output_type": "execute_result"
        }
      ],
      "source": [
        "jnp.identity(5)"
      ]
    },
    {
      "cell_type": "markdown",
      "metadata": {
        "id": "r-2jWeh2m0f6"
      },
      "source": [
        "### jnp.linspace()"
      ]
    },
    {
      "cell_type": "code",
      "execution_count": 32,
      "metadata": {
        "id": "7Yg3dkdFm0f6",
        "outputId": "789cab2d-58e1-4573-fd7e-51d80b3373a6"
      },
      "outputs": [
        {
          "data": {
            "text/plain": [
              "Array([10., 18., 26., 34., 42., 50.], dtype=float32)"
            ]
          },
          "execution_count": 32,
          "metadata": {},
          "output_type": "execute_result"
        }
      ],
      "source": [
        "jnp.linspace(10, 50, 6)  # Return evenly spaced numbers over a\n",
        "# specified interval.\n",
        "# start,stop, num=5,"
      ]
    },
    {
      "cell_type": "code",
      "execution_count": 33,
      "metadata": {
        "id": "loeFeujXm0f6",
        "outputId": "0fe38cf5-3551-4808-e21d-97076cdce663"
      },
      "outputs": [
        {
          "data": {
            "text/plain": [
              "Array([10.  , 11.25, 12.5 , 13.75, 15.  ], dtype=float32)"
            ]
          },
          "execution_count": 33,
          "metadata": {},
          "output_type": "execute_result"
        }
      ],
      "source": [
        "jnp.linspace(10, 15, 5)"
      ]
    },
    {
      "cell_type": "markdown",
      "metadata": {
        "id": "XEnK3qIUrTO1"
      },
      "source": [
        "## Generating random numbers with JAX"
      ]
    },
    {
      "cell_type": "code",
      "execution_count": 34,
      "metadata": {
        "colab": {
          "base_uri": "https://localhost:8080/"
        },
        "id": "6dw37haAO9qt",
        "outputId": "7063a9a1-bec1-44a2-f009-468a8f76ccd3"
      },
      "outputs": [
        {
          "name": "stdout",
          "output_type": "stream",
          "text": [
            "0.978791172571429\n",
            "0.9898967073552775\n",
            "0.30208440392693026\n"
          ]
        }
      ],
      "source": [
        "print(np.random.random())\n",
        "print(np.random.random())\n",
        "print(np.random.random())"
      ]
    },
    {
      "cell_type": "code",
      "execution_count": 35,
      "metadata": {
        "id": "qB47-MznruGC"
      },
      "outputs": [],
      "source": [
        "seed = 98\n",
        "key = jax.random.PRNGKey(seed)"
      ]
    },
    {
      "cell_type": "code",
      "execution_count": 36,
      "metadata": {
        "colab": {
          "base_uri": "https://localhost:8080/"
        },
        "id": "Zrxf4Tcjrt-Q",
        "outputId": "20c79743-40dd-4733-b310-0d3fb86aff89"
      },
      "outputs": [
        {
          "data": {
            "text/plain": [
              "Array([ 0, 98], dtype=uint32)"
            ]
          },
          "execution_count": 36,
          "metadata": {},
          "output_type": "execute_result"
        }
      ],
      "source": [
        "key"
      ]
    },
    {
      "cell_type": "code",
      "execution_count": 37,
      "metadata": {
        "colab": {
          "base_uri": "https://localhost:8080/"
        },
        "id": "yvFHD8Vjscuv",
        "outputId": "0ffceb6e-0bdb-4eef-b868-86d685e75d0b"
      },
      "outputs": [
        {
          "data": {
            "text/plain": [
              "Array(0.3756802, dtype=float32)"
            ]
          },
          "execution_count": 37,
          "metadata": {},
          "output_type": "execute_result"
        }
      ],
      "source": [
        "jax.random.uniform(key)"
      ]
    },
    {
      "cell_type": "code",
      "execution_count": 38,
      "metadata": {
        "colab": {
          "base_uri": "https://localhost:8080/"
        },
        "id": "SkWxr0CXscsL",
        "outputId": "33244cf0-4455-422b-8566-6d0c46811f25"
      },
      "outputs": [
        {
          "data": {
            "text/plain": [
              "Array(0.3756802, dtype=float32)"
            ]
          },
          "execution_count": 38,
          "metadata": {},
          "output_type": "execute_result"
        }
      ],
      "source": [
        "jax.random.uniform(key)"
      ]
    },
    {
      "cell_type": "code",
      "execution_count": 39,
      "metadata": {
        "id": "sV1D9J82scpb"
      },
      "outputs": [],
      "source": [
        "key, subkey = jax.random.split(key)"
      ]
    },
    {
      "cell_type": "code",
      "execution_count": 40,
      "metadata": {
        "colab": {
          "base_uri": "https://localhost:8080/"
        },
        "id": "ssmUxMVpQ5nd",
        "outputId": "1db73bcf-631b-486e-f76c-44264b1f94f2"
      },
      "outputs": [
        {
          "data": {
            "text/plain": [
              "Array([3614062411, 3294896607], dtype=uint32)"
            ]
          },
          "execution_count": 40,
          "metadata": {},
          "output_type": "execute_result"
        }
      ],
      "source": [
        "subkey"
      ]
    },
    {
      "cell_type": "code",
      "execution_count": 41,
      "metadata": {
        "colab": {
          "base_uri": "https://localhost:8080/"
        },
        "id": "m7iCSZMnscfX",
        "outputId": "f4fc2b87-e64f-4051-b025-c83414d951a5"
      },
      "outputs": [
        {
          "data": {
            "text/plain": [
              "Array(0.95996785, dtype=float32)"
            ]
          },
          "execution_count": 41,
          "metadata": {},
          "output_type": "execute_result"
        }
      ],
      "source": [
        "jax.random.uniform(subkey)"
      ]
    },
    {
      "cell_type": "code",
      "execution_count": 42,
      "metadata": {
        "colab": {
          "base_uri": "https://localhost:8080/"
        },
        "id": "-iZJpFirsccb",
        "outputId": "04f603ca-5010-4234-b8ac-f24ac6009be8"
      },
      "outputs": [
        {
          "data": {
            "text/plain": [
              "Array(0.95996785, dtype=float32)"
            ]
          },
          "execution_count": 42,
          "metadata": {},
          "output_type": "execute_result"
        }
      ],
      "source": [
        "jax.random.uniform(subkey)"
      ]
    },
    {
      "cell_type": "markdown",
      "metadata": {
        "id": "M6ZtcqJVm0f6"
      },
      "source": [
        "# Part 3"
      ]
    },
    {
      "cell_type": "markdown",
      "metadata": {
        "id": "Eg469tGym0f6"
      },
      "source": [
        "# Checking Documentation"
      ]
    },
    {
      "cell_type": "code",
      "execution_count": 43,
      "metadata": {
        "id": "IdkHj6sfm0f6",
        "outputId": "cfd0fd24-d241-4be5-e65a-54affbbd5889"
      },
      "outputs": [
        {
          "name": "stdout",
          "output_type": "stream",
          "text": [
            "Help on function linspace in module jax._src.numpy.lax_numpy:\n",
            "\n",
            "linspace(start: 'ArrayLike', stop: 'ArrayLike', num: 'int' = 50, endpoint: 'bool' = True, retstep: 'bool' = False, dtype: 'DTypeLike | None' = None, axis: 'int' = 0) -> 'Array | tuple[Array, Array]'\n",
            "    Return evenly spaced numbers over a specified interval.\n",
            "    \n",
            "    LAX-backend implementation of :func:`numpy.linspace`.\n",
            "    \n",
            "    *Original docstring below.*\n",
            "    \n",
            "    Returns `num` evenly spaced samples, calculated over the\n",
            "    interval [`start`, `stop`].\n",
            "    \n",
            "    The endpoint of the interval can optionally be excluded.\n",
            "    \n",
            "    .. versionchanged:: 1.16.0\n",
            "        Non-scalar `start` and `stop` are now supported.\n",
            "    \n",
            "    .. versionchanged:: 1.20.0\n",
            "        Values are rounded towards ``-inf`` instead of ``0`` when an\n",
            "        integer ``dtype`` is specified. The old behavior can\n",
            "        still be obtained with ``np.linspace(start, stop, num).astype(int)``\n",
            "    \n",
            "    Parameters\n",
            "    ----------\n",
            "    start : array_like\n",
            "        The starting value of the sequence.\n",
            "    stop : array_like\n",
            "        The end value of the sequence, unless `endpoint` is set to False.\n",
            "        In that case, the sequence consists of all but the last of ``num + 1``\n",
            "        evenly spaced samples, so that `stop` is excluded.  Note that the step\n",
            "        size changes when `endpoint` is False.\n",
            "    num : int, optional\n",
            "        Number of samples to generate. Default is 50. Must be non-negative.\n",
            "    endpoint : bool, optional\n",
            "        If True, `stop` is the last sample. Otherwise, it is not included.\n",
            "        Default is True.\n",
            "    retstep : bool, optional\n",
            "        If True, return (`samples`, `step`), where `step` is the spacing\n",
            "        between samples.\n",
            "    dtype : dtype, optional\n",
            "        The type of the output array.  If `dtype` is not given, the data type\n",
            "        is inferred from `start` and `stop`. The inferred dtype will never be\n",
            "        an integer; `float` is chosen even if the arguments would produce an\n",
            "        array of integers.\n",
            "    axis : int, optional\n",
            "        The axis in the result to store the samples.  Relevant only if start\n",
            "        or stop are array-like.  By default (0), the samples will be along a\n",
            "        new axis inserted at the beginning. Use -1 to get an axis at the end.\n",
            "    \n",
            "    Returns\n",
            "    -------\n",
            "    samples : ndarray\n",
            "        There are `num` equally spaced samples in the closed interval\n",
            "        ``[start, stop]`` or the half-open interval ``[start, stop)``\n",
            "        (depending on whether `endpoint` is True or False).\n",
            "    step : float, optional\n",
            "        Only returned if `retstep` is True\n",
            "    \n",
            "        Size of spacing between samples.\n",
            "\n"
          ]
        }
      ],
      "source": [
        "help(jnp.linspace)"
      ]
    },
    {
      "cell_type": "code",
      "execution_count": 44,
      "metadata": {
        "id": "OJlND6yOm0f6",
        "outputId": "94f9ed07-225e-400f-d616-658d1b610e6e"
      },
      "outputs": [
        {
          "name": "stdout",
          "output_type": "stream",
          "text": [
            "\u001b[0;31mSignature:\u001b[0m\n",
            "\u001b[0mjnp\u001b[0m\u001b[0;34m.\u001b[0m\u001b[0mlinspace\u001b[0m\u001b[0;34m(\u001b[0m\u001b[0;34m\u001b[0m\n",
            "\u001b[0;34m\u001b[0m    \u001b[0mstart\u001b[0m\u001b[0;34m:\u001b[0m \u001b[0;34m'ArrayLike'\u001b[0m\u001b[0;34m,\u001b[0m\u001b[0;34m\u001b[0m\n",
            "\u001b[0;34m\u001b[0m    \u001b[0mstop\u001b[0m\u001b[0;34m:\u001b[0m \u001b[0;34m'ArrayLike'\u001b[0m\u001b[0;34m,\u001b[0m\u001b[0;34m\u001b[0m\n",
            "\u001b[0;34m\u001b[0m    \u001b[0mnum\u001b[0m\u001b[0;34m:\u001b[0m \u001b[0;34m'int'\u001b[0m \u001b[0;34m=\u001b[0m \u001b[0;36m50\u001b[0m\u001b[0;34m,\u001b[0m\u001b[0;34m\u001b[0m\n",
            "\u001b[0;34m\u001b[0m    \u001b[0mendpoint\u001b[0m\u001b[0;34m:\u001b[0m \u001b[0;34m'bool'\u001b[0m \u001b[0;34m=\u001b[0m \u001b[0;32mTrue\u001b[0m\u001b[0;34m,\u001b[0m\u001b[0;34m\u001b[0m\n",
            "\u001b[0;34m\u001b[0m    \u001b[0mretstep\u001b[0m\u001b[0;34m:\u001b[0m \u001b[0;34m'bool'\u001b[0m \u001b[0;34m=\u001b[0m \u001b[0;32mFalse\u001b[0m\u001b[0;34m,\u001b[0m\u001b[0;34m\u001b[0m\n",
            "\u001b[0;34m\u001b[0m    \u001b[0mdtype\u001b[0m\u001b[0;34m:\u001b[0m \u001b[0;34m'DTypeLike | None'\u001b[0m \u001b[0;34m=\u001b[0m \u001b[0;32mNone\u001b[0m\u001b[0;34m,\u001b[0m\u001b[0;34m\u001b[0m\n",
            "\u001b[0;34m\u001b[0m    \u001b[0maxis\u001b[0m\u001b[0;34m:\u001b[0m \u001b[0;34m'int'\u001b[0m \u001b[0;34m=\u001b[0m \u001b[0;36m0\u001b[0m\u001b[0;34m,\u001b[0m\u001b[0;34m\u001b[0m\n",
            "\u001b[0;34m\u001b[0m\u001b[0;34m)\u001b[0m \u001b[0;34m->\u001b[0m \u001b[0;34m'Array | tuple[Array, Array]'\u001b[0m\u001b[0;34m\u001b[0m\u001b[0;34m\u001b[0m\u001b[0m\n",
            "\u001b[0;31mDocstring:\u001b[0m\n",
            "Return evenly spaced numbers over a specified interval.\n",
            "\n",
            "LAX-backend implementation of :func:`numpy.linspace`.\n",
            "\n",
            "*Original docstring below.*\n",
            "\n",
            "Returns `num` evenly spaced samples, calculated over the\n",
            "interval [`start`, `stop`].\n",
            "\n",
            "The endpoint of the interval can optionally be excluded.\n",
            "\n",
            ".. versionchanged:: 1.16.0\n",
            "    Non-scalar `start` and `stop` are now supported.\n",
            "\n",
            ".. versionchanged:: 1.20.0\n",
            "    Values are rounded towards ``-inf`` instead of ``0`` when an\n",
            "    integer ``dtype`` is specified. The old behavior can\n",
            "    still be obtained with ``np.linspace(start, stop, num).astype(int)``\n",
            "\n",
            "Parameters\n",
            "----------\n",
            "start : array_like\n",
            "    The starting value of the sequence.\n",
            "stop : array_like\n",
            "    The end value of the sequence, unless `endpoint` is set to False.\n",
            "    In that case, the sequence consists of all but the last of ``num + 1``\n",
            "    evenly spaced samples, so that `stop` is excluded.  Note that the step\n",
            "    size changes when `endpoint` is False.\n",
            "num : int, optional\n",
            "    Number of samples to generate. Default is 50. Must be non-negative.\n",
            "endpoint : bool, optional\n",
            "    If True, `stop` is the last sample. Otherwise, it is not included.\n",
            "    Default is True.\n",
            "retstep : bool, optional\n",
            "    If True, return (`samples`, `step`), where `step` is the spacing\n",
            "    between samples.\n",
            "dtype : dtype, optional\n",
            "    The type of the output array.  If `dtype` is not given, the data type\n",
            "    is inferred from `start` and `stop`. The inferred dtype will never be\n",
            "    an integer; `float` is chosen even if the arguments would produce an\n",
            "    array of integers.\n",
            "axis : int, optional\n",
            "    The axis in the result to store the samples.  Relevant only if start\n",
            "    or stop are array-like.  By default (0), the samples will be along a\n",
            "    new axis inserted at the beginning. Use -1 to get an axis at the end.\n",
            "\n",
            "Returns\n",
            "-------\n",
            "samples : ndarray\n",
            "    There are `num` equally spaced samples in the closed interval\n",
            "    ``[start, stop]`` or the half-open interval ``[start, stop)``\n",
            "    (depending on whether `endpoint` is True or False).\n",
            "step : float, optional\n",
            "    Only returned if `retstep` is True\n",
            "\n",
            "    Size of spacing between samples.\n",
            "\u001b[0;31mFile:\u001b[0m      ~/envs/tiny/lib/python3.11/site-packages/jax/_src/numpy/lax_numpy.py\n",
            "\u001b[0;31mType:\u001b[0m      function"
          ]
        }
      ],
      "source": [
        "jnp.linspace?"
      ]
    },
    {
      "cell_type": "markdown",
      "metadata": {
        "id": "zL-gf-FWm0f7"
      },
      "source": [
        "JAX NumPy Operations"
      ]
    },
    {
      "cell_type": "code",
      "execution_count": 45,
      "metadata": {
        "id": "VgeLA7MIm0f7"
      },
      "outputs": [],
      "source": [
        "matrix = jnp.arange(17, 33)"
      ]
    },
    {
      "cell_type": "code",
      "execution_count": 46,
      "metadata": {
        "id": "e6y3MrZPoZ0w"
      },
      "outputs": [],
      "source": [
        "matrix = matrix.reshape(4, 4)"
      ]
    },
    {
      "cell_type": "code",
      "execution_count": 47,
      "metadata": {
        "colab": {
          "base_uri": "https://localhost:8080/"
        },
        "id": "N7petHc0oZ3W",
        "outputId": "8ae3fda2-5ca8-47d8-a481-51ecc238ecb7"
      },
      "outputs": [
        {
          "data": {
            "text/plain": [
              "Array([[17, 18, 19, 20],\n",
              "       [21, 22, 23, 24],\n",
              "       [25, 26, 27, 28],\n",
              "       [29, 30, 31, 32]], dtype=int32)"
            ]
          },
          "execution_count": 47,
          "metadata": {},
          "output_type": "execute_result"
        }
      ],
      "source": [
        "matrix"
      ]
    },
    {
      "cell_type": "code",
      "execution_count": 48,
      "metadata": {
        "colab": {
          "base_uri": "https://localhost:8080/"
        },
        "id": "6B1zhJM-QAEm",
        "outputId": "f7177b4c-f88d-4404-a279-4b7b130e89de"
      },
      "outputs": [
        {
          "name": "stdout",
          "output_type": "stream",
          "text": [
            "TypeError: sum requires ndarray or scalar arguments, got <class 'list'> at position 0.\n"
          ]
        }
      ],
      "source": [
        "try:\n",
        "    jnp.sum([1, 2, 3])\n",
        "except TypeError as e:\n",
        "    print(f\"TypeError: {e}\")"
      ]
    },
    {
      "cell_type": "code",
      "execution_count": 49,
      "metadata": {
        "colab": {
          "base_uri": "https://localhost:8080/"
        },
        "id": "60sQAA6zoZ5_",
        "outputId": "642c8a64-c0cd-4a67-b027-5622e1f0af6f"
      },
      "outputs": [
        {
          "data": {
            "text/plain": [
              "(4, 4)"
            ]
          },
          "execution_count": 49,
          "metadata": {},
          "output_type": "execute_result"
        }
      ],
      "source": [
        "matrix.shape"
      ]
    },
    {
      "cell_type": "code",
      "execution_count": 50,
      "metadata": {
        "colab": {
          "base_uri": "https://localhost:8080/"
        },
        "id": "STs9xoHPoZ8Q",
        "outputId": "67d17ce1-39b2-42dd-8a47-64bb9908f413"
      },
      "outputs": [
        {
          "data": {
            "text/plain": [
              "2"
            ]
          },
          "execution_count": 50,
          "metadata": {},
          "output_type": "execute_result"
        }
      ],
      "source": [
        "matrix.ndim"
      ]
    },
    {
      "cell_type": "code",
      "execution_count": 51,
      "metadata": {
        "colab": {
          "base_uri": "https://localhost:8080/"
        },
        "id": "A_yRZSRJoZ-n",
        "outputId": "386e559a-a713-4ab6-f19b-1bc63769bbb9"
      },
      "outputs": [
        {
          "data": {
            "text/plain": [
              "Array(32, dtype=int32)"
            ]
          },
          "execution_count": 51,
          "metadata": {},
          "output_type": "execute_result"
        }
      ],
      "source": [
        "jnp.max(matrix)"
      ]
    },
    {
      "cell_type": "code",
      "execution_count": 52,
      "metadata": {
        "colab": {
          "base_uri": "https://localhost:8080/"
        },
        "id": "myeLBTsUoaBO",
        "outputId": "decc18db-deb6-4906-b34e-b4c6bc601ce0"
      },
      "outputs": [
        {
          "data": {
            "text/plain": [
              "Array([[17, 18, 19, 20],\n",
              "       [21, 22, 23, 24],\n",
              "       [25, 26, 27, 28],\n",
              "       [29, 30, 31, 32]], dtype=int32)"
            ]
          },
          "execution_count": 52,
          "metadata": {},
          "output_type": "execute_result"
        }
      ],
      "source": [
        "matrix"
      ]
    },
    {
      "cell_type": "code",
      "execution_count": 53,
      "metadata": {
        "colab": {
          "base_uri": "https://localhost:8080/"
        },
        "id": "ZfI5FA9moaDj",
        "outputId": "42939794-121f-4e09-be0d-16e0b473b0f4"
      },
      "outputs": [
        {
          "data": {
            "text/plain": [
              "Array(15, dtype=int32)"
            ]
          },
          "execution_count": 53,
          "metadata": {},
          "output_type": "execute_result"
        }
      ],
      "source": [
        "jnp.argmax(matrix)"
      ]
    },
    {
      "cell_type": "code",
      "execution_count": 54,
      "metadata": {
        "colab": {
          "base_uri": "https://localhost:8080/"
        },
        "id": "5tP2kB0goaIA",
        "outputId": "33b2464c-2e17-44d1-fe9f-cd486dfece7f"
      },
      "outputs": [
        {
          "data": {
            "text/plain": [
              "Array(17, dtype=int32)"
            ]
          },
          "execution_count": 54,
          "metadata": {},
          "output_type": "execute_result"
        }
      ],
      "source": [
        "jnp.min(matrix)"
      ]
    },
    {
      "cell_type": "code",
      "execution_count": 55,
      "metadata": {
        "colab": {
          "base_uri": "https://localhost:8080/"
        },
        "id": "XI8ilC6noaKW",
        "outputId": "57acc1ca-eb46-4df4-9e7b-9f57660cd863"
      },
      "outputs": [
        {
          "data": {
            "text/plain": [
              "Array(0, dtype=int32)"
            ]
          },
          "execution_count": 55,
          "metadata": {},
          "output_type": "execute_result"
        }
      ],
      "source": [
        "jnp.argmin(matrix)"
      ]
    },
    {
      "cell_type": "code",
      "execution_count": 56,
      "metadata": {
        "colab": {
          "base_uri": "https://localhost:8080/"
        },
        "id": "_OHrMe7MoaMv",
        "outputId": "f3c30230-da8a-4a6c-edea-ad65e7e067c3"
      },
      "outputs": [
        {
          "data": {
            "text/plain": [
              "Array(392, dtype=int32)"
            ]
          },
          "execution_count": 56,
          "metadata": {},
          "output_type": "execute_result"
        }
      ],
      "source": [
        "jnp.sum(matrix)"
      ]
    },
    {
      "cell_type": "code",
      "execution_count": 57,
      "metadata": {
        "colab": {
          "base_uri": "https://localhost:8080/"
        },
        "id": "o6gkEj5LoqOw",
        "outputId": "e4b559b9-1f51-4efc-9ae5-633d1ccc6e42"
      },
      "outputs": [
        {
          "data": {
            "text/plain": [
              "Array([[4.1231055, 4.2426405, 4.3588986, 4.4721355],\n",
              "       [4.5825753, 4.6904154, 4.795831 , 4.898979 ],\n",
              "       [5.       , 5.0990195, 5.196152 , 5.2915025],\n",
              "       [5.3851647, 5.4772253, 5.5677643, 5.656854 ]], dtype=float32)"
            ]
          },
          "execution_count": 57,
          "metadata": {},
          "output_type": "execute_result"
        }
      ],
      "source": [
        "jnp.sqrt(matrix)"
      ]
    },
    {
      "cell_type": "code",
      "execution_count": 58,
      "metadata": {
        "colab": {
          "base_uri": "https://localhost:8080/"
        },
        "id": "irYgozusoqMo",
        "outputId": "5209fe22-29ca-40b0-c484-d8392d269269"
      },
      "outputs": [
        {
          "data": {
            "text/plain": [
              "Array([[17, 21, 25, 29],\n",
              "       [18, 22, 26, 30],\n",
              "       [19, 23, 27, 31],\n",
              "       [20, 24, 28, 32]], dtype=int32)"
            ]
          },
          "execution_count": 58,
          "metadata": {},
          "output_type": "execute_result"
        }
      ],
      "source": [
        "matrix.transpose()"
      ]
    },
    {
      "cell_type": "code",
      "execution_count": 59,
      "metadata": {
        "colab": {
          "base_uri": "https://localhost:8080/"
        },
        "id": "uVcfs7QLoqKT",
        "outputId": "1dbc1762-4912-43ff-9264-92b60914efe1"
      },
      "outputs": [
        {
          "data": {
            "text/plain": [
              "Array([17, 18, 19, 20, 21, 22, 23, 24, 25, 26, 27, 28, 29, 30, 31, 32],      dtype=int32)"
            ]
          },
          "execution_count": 59,
          "metadata": {},
          "output_type": "execute_result"
        }
      ],
      "source": [
        "matrix.flatten()"
      ]
    },
    {
      "cell_type": "code",
      "execution_count": 60,
      "metadata": {
        "colab": {
          "base_uri": "https://localhost:8080/"
        },
        "id": "mckqylIOoqHp",
        "outputId": "39c1a8cb-54c1-4f4e-e62e-501e12c3f7c3"
      },
      "outputs": [
        {
          "data": {
            "text/plain": [
              "Array([17, 18, 19, 20, 21, 22, 23, 24, 25, 26, 27, 28, 29, 30, 31, 32],      dtype=int32)"
            ]
          },
          "execution_count": 60,
          "metadata": {},
          "output_type": "execute_result"
        }
      ],
      "source": [
        "matrix.ravel()"
      ]
    },
    {
      "cell_type": "code",
      "execution_count": 61,
      "metadata": {
        "id": "FqA7B5NyoqEz"
      },
      "outputs": [],
      "source": [
        "matrix2 = jnp.arange(1, 17).reshape(4, 4)"
      ]
    },
    {
      "cell_type": "code",
      "execution_count": 62,
      "metadata": {
        "colab": {
          "base_uri": "https://localhost:8080/"
        },
        "id": "GvarPLLVop8_",
        "outputId": "4c2324d4-acba-42e5-d569-f10f7a1c7b9f"
      },
      "outputs": [
        {
          "data": {
            "text/plain": [
              "Array([[18, 20, 22, 24],\n",
              "       [26, 28, 30, 32],\n",
              "       [34, 36, 38, 40],\n",
              "       [42, 44, 46, 48]], dtype=int32)"
            ]
          },
          "execution_count": 62,
          "metadata": {},
          "output_type": "execute_result"
        }
      ],
      "source": [
        "matrix + matrix2"
      ]
    },
    {
      "cell_type": "code",
      "execution_count": 63,
      "metadata": {
        "id": "2aQkq3ghdduy"
      },
      "outputs": [],
      "source": [
        "matrix = np.arange(17, 33)\n",
        "matrix = matrix.reshape(4, 4)\n",
        "matrix2 = np.arange(1, 17).reshape(4, 4)"
      ]
    },
    {
      "cell_type": "code",
      "execution_count": 64,
      "metadata": {
        "colab": {
          "base_uri": "https://localhost:8080/"
        },
        "id": "BGDtTtglop18",
        "outputId": "003c9361-084d-4105-eb01-271a7556d1a9"
      },
      "outputs": [
        {
          "name": "stdout",
          "output_type": "stream",
          "text": [
            "747 ns ± 2.87 ns per loop (mean ± std. dev. of 7 runs, 1,000,000 loops each)\n"
          ]
        }
      ],
      "source": [
        "%timeit matrix * matrix2"
      ]
    },
    {
      "cell_type": "code",
      "execution_count": 65,
      "metadata": {
        "colab": {
          "base_uri": "https://localhost:8080/"
        },
        "id": "4dsdRr57vf5l",
        "outputId": "eb61dad6-3480-4efd-9703-0252a526a763"
      },
      "outputs": [
        {
          "name": "stdout",
          "output_type": "stream",
          "text": [
            "720 µs ± 6.71 µs per loop (mean ± std. dev. of 7 runs, 1,000 loops each)\n"
          ]
        }
      ],
      "source": [
        "%timeit jnp.dot(jnp.arange(17,33).reshape(4,4), jnp.arange(1,17).reshape(4,4)).block_until_ready()"
      ]
    },
    {
      "cell_type": "code",
      "execution_count": 66,
      "metadata": {
        "colab": {
          "base_uri": "https://localhost:8080/"
        },
        "id": "HtNq9J-QopxS",
        "outputId": "f28a16bf-b6e2-4b1f-88b8-698c502d666f"
      },
      "outputs": [
        {
          "data": {
            "text/plain": [
              "array([[17.        ,  9.        ,  6.33333333,  5.        ],\n",
              "       [ 4.2       ,  3.66666667,  3.28571429,  3.        ],\n",
              "       [ 2.77777778,  2.6       ,  2.45454545,  2.33333333],\n",
              "       [ 2.23076923,  2.14285714,  2.06666667,  2.        ]])"
            ]
          },
          "execution_count": 66,
          "metadata": {},
          "output_type": "execute_result"
        }
      ],
      "source": [
        "matrix / matrix2"
      ]
    },
    {
      "cell_type": "code",
      "execution_count": 67,
      "metadata": {
        "colab": {
          "base_uri": "https://localhost:8080/"
        },
        "id": "Y8vUuHN6pINQ",
        "outputId": "cf13df21-d159-4a0a-adeb-10db76374398"
      },
      "outputs": [
        {
          "data": {
            "text/plain": [
              "array([[0, 0, 1, 0],\n",
              "       [1, 4, 2, 0],\n",
              "       [7, 6, 5, 4],\n",
              "       [3, 2, 1, 0]])"
            ]
          },
          "execution_count": 67,
          "metadata": {},
          "output_type": "execute_result"
        }
      ],
      "source": [
        "matrix % matrix2"
      ]
    },
    {
      "cell_type": "markdown",
      "metadata": {
        "id": "8O5K7_x6xHQI"
      },
      "source": [
        "## Device put"
      ]
    },
    {
      "cell_type": "code",
      "execution_count": 68,
      "metadata": {
        "id": "awrYKU5rxJzN"
      },
      "outputs": [
        {
          "name": "stderr",
          "output_type": "stream",
          "text": [
            "2024-06-03 00:17:42.420344: W external/tsl/tsl/framework/bfc_allocator.cc:482] Allocator (GPU_0_bfc) ran out of memory trying to allocate 95.37MiB (rounded to 100000000)requested by op \n",
            "2024-06-03 00:17:42.420436: W external/tsl/tsl/framework/bfc_allocator.cc:494] *___________________________________________________________________________________________________\n"
          ]
        },
        {
          "ename": "XlaRuntimeError",
          "evalue": "RESOURCE_EXHAUSTED: Out of memory while trying to allocate 100000000 bytes.",
          "output_type": "error",
          "traceback": [
            "\u001b[0;31m---------------------------------------------------------------------------\u001b[0m",
            "\u001b[0;31mXlaRuntimeError\u001b[0m                           Traceback (most recent call last)",
            "Cell \u001b[0;32mIn[68], line 6\u001b[0m\n\u001b[1;32m      4\u001b[0m size \u001b[38;5;241m=\u001b[39m \u001b[38;5;241m5000\u001b[39m\n\u001b[1;32m      5\u001b[0m x \u001b[38;5;241m=\u001b[39m np\u001b[38;5;241m.\u001b[39mrandom\u001b[38;5;241m.\u001b[39mnormal(size\u001b[38;5;241m=\u001b[39m(size, size))\u001b[38;5;241m.\u001b[39mastype(np\u001b[38;5;241m.\u001b[39mfloat32)\n\u001b[0;32m----> 6\u001b[0m x \u001b[38;5;241m=\u001b[39m \u001b[43mdevice_put\u001b[49m\u001b[43m(\u001b[49m\u001b[43mx\u001b[49m\u001b[43m)\u001b[49m\n",
            "File \u001b[0;32m~/envs/tiny/lib/python3.11/site-packages/jax/_src/api.py:2472\u001b[0m, in \u001b[0;36mdevice_put\u001b[0;34m(x, device, src)\u001b[0m\n\u001b[1;32m   2469\u001b[0m     _check_sharding(shaped_abstractify(y), s\u001b[38;5;241m=\u001b[39mdevice)\n\u001b[1;32m   2470\u001b[0m     \u001b[38;5;28;01mreturn\u001b[39;00m dispatch\u001b[38;5;241m.\u001b[39mdevice_put_p\u001b[38;5;241m.\u001b[39mbind(\n\u001b[1;32m   2471\u001b[0m         y, device\u001b[38;5;241m=\u001b[39mdevice, src\u001b[38;5;241m=\u001b[39m_infer_src_sharding(src, y))\n\u001b[0;32m-> 2472\u001b[0m   \u001b[38;5;28;01mreturn\u001b[39;00m \u001b[43mtree_map\u001b[49m\u001b[43m(\u001b[49m\u001b[43m_map\u001b[49m\u001b[43m,\u001b[49m\u001b[43m \u001b[49m\u001b[43mx\u001b[49m\u001b[43m)\u001b[49m\n\u001b[1;32m   2474\u001b[0m x_flat, treedef \u001b[38;5;241m=\u001b[39m tree_flatten(x)\n\u001b[1;32m   2475\u001b[0m device_flat \u001b[38;5;241m=\u001b[39m flatten_axes(\u001b[38;5;124m\"\u001b[39m\u001b[38;5;124mdevice_put device\u001b[39m\u001b[38;5;124m\"\u001b[39m, treedef, device)\n",
            "File \u001b[0;32m~/envs/tiny/lib/python3.11/site-packages/jax/_src/tree_util.py:320\u001b[0m, in \u001b[0;36mtree_map\u001b[0;34m(f, tree, is_leaf, *rest)\u001b[0m\n\u001b[1;32m    318\u001b[0m leaves, treedef \u001b[38;5;241m=\u001b[39m tree_flatten(tree, is_leaf)\n\u001b[1;32m    319\u001b[0m all_leaves \u001b[38;5;241m=\u001b[39m [leaves] \u001b[38;5;241m+\u001b[39m [treedef\u001b[38;5;241m.\u001b[39mflatten_up_to(r) \u001b[38;5;28;01mfor\u001b[39;00m r \u001b[38;5;129;01min\u001b[39;00m rest]\n\u001b[0;32m--> 320\u001b[0m \u001b[38;5;28;01mreturn\u001b[39;00m \u001b[43mtreedef\u001b[49m\u001b[38;5;241;43m.\u001b[39;49m\u001b[43munflatten\u001b[49m\u001b[43m(\u001b[49m\u001b[43mf\u001b[49m\u001b[43m(\u001b[49m\u001b[38;5;241;43m*\u001b[39;49m\u001b[43mxs\u001b[49m\u001b[43m)\u001b[49m\u001b[43m \u001b[49m\u001b[38;5;28;43;01mfor\u001b[39;49;00m\u001b[43m \u001b[49m\u001b[43mxs\u001b[49m\u001b[43m \u001b[49m\u001b[38;5;129;43;01min\u001b[39;49;00m\u001b[43m \u001b[49m\u001b[38;5;28;43mzip\u001b[39;49m\u001b[43m(\u001b[49m\u001b[38;5;241;43m*\u001b[39;49m\u001b[43mall_leaves\u001b[49m\u001b[43m)\u001b[49m\u001b[43m)\u001b[49m\n",
            "File \u001b[0;32m~/envs/tiny/lib/python3.11/site-packages/jax/_src/tree_util.py:320\u001b[0m, in \u001b[0;36m<genexpr>\u001b[0;34m(.0)\u001b[0m\n\u001b[1;32m    318\u001b[0m leaves, treedef \u001b[38;5;241m=\u001b[39m tree_flatten(tree, is_leaf)\n\u001b[1;32m    319\u001b[0m all_leaves \u001b[38;5;241m=\u001b[39m [leaves] \u001b[38;5;241m+\u001b[39m [treedef\u001b[38;5;241m.\u001b[39mflatten_up_to(r) \u001b[38;5;28;01mfor\u001b[39;00m r \u001b[38;5;129;01min\u001b[39;00m rest]\n\u001b[0;32m--> 320\u001b[0m \u001b[38;5;28;01mreturn\u001b[39;00m treedef\u001b[38;5;241m.\u001b[39munflatten(\u001b[43mf\u001b[49m\u001b[43m(\u001b[49m\u001b[38;5;241;43m*\u001b[39;49m\u001b[43mxs\u001b[49m\u001b[43m)\u001b[49m \u001b[38;5;28;01mfor\u001b[39;00m xs \u001b[38;5;129;01min\u001b[39;00m \u001b[38;5;28mzip\u001b[39m(\u001b[38;5;241m*\u001b[39mall_leaves))\n",
            "File \u001b[0;32m~/envs/tiny/lib/python3.11/site-packages/jax/_src/api.py:2470\u001b[0m, in \u001b[0;36mdevice_put.<locals>._map\u001b[0;34m(y)\u001b[0m\n\u001b[1;32m   2468\u001b[0m \u001b[38;5;28;01mdef\u001b[39;00m \u001b[38;5;21m_map\u001b[39m(y):\n\u001b[1;32m   2469\u001b[0m   _check_sharding(shaped_abstractify(y), s\u001b[38;5;241m=\u001b[39mdevice)\n\u001b[0;32m-> 2470\u001b[0m   \u001b[38;5;28;01mreturn\u001b[39;00m \u001b[43mdispatch\u001b[49m\u001b[38;5;241;43m.\u001b[39;49m\u001b[43mdevice_put_p\u001b[49m\u001b[38;5;241;43m.\u001b[39;49m\u001b[43mbind\u001b[49m\u001b[43m(\u001b[49m\n\u001b[1;32m   2471\u001b[0m \u001b[43m      \u001b[49m\u001b[43my\u001b[49m\u001b[43m,\u001b[49m\u001b[43m \u001b[49m\u001b[43mdevice\u001b[49m\u001b[38;5;241;43m=\u001b[39;49m\u001b[43mdevice\u001b[49m\u001b[43m,\u001b[49m\u001b[43m \u001b[49m\u001b[43msrc\u001b[49m\u001b[38;5;241;43m=\u001b[39;49m\u001b[43m_infer_src_sharding\u001b[49m\u001b[43m(\u001b[49m\u001b[43msrc\u001b[49m\u001b[43m,\u001b[49m\u001b[43m \u001b[49m\u001b[43my\u001b[49m\u001b[43m)\u001b[49m\u001b[43m)\u001b[49m\n",
            "File \u001b[0;32m~/envs/tiny/lib/python3.11/site-packages/jax/_src/core.py:387\u001b[0m, in \u001b[0;36mPrimitive.bind\u001b[0;34m(self, *args, **params)\u001b[0m\n\u001b[1;32m    384\u001b[0m \u001b[38;5;28;01mdef\u001b[39;00m \u001b[38;5;21mbind\u001b[39m(\u001b[38;5;28mself\u001b[39m, \u001b[38;5;241m*\u001b[39margs, \u001b[38;5;241m*\u001b[39m\u001b[38;5;241m*\u001b[39mparams):\n\u001b[1;32m    385\u001b[0m   \u001b[38;5;28;01massert\u001b[39;00m (\u001b[38;5;129;01mnot\u001b[39;00m config\u001b[38;5;241m.\u001b[39menable_checks\u001b[38;5;241m.\u001b[39mvalue \u001b[38;5;129;01mor\u001b[39;00m\n\u001b[1;32m    386\u001b[0m           \u001b[38;5;28mall\u001b[39m(\u001b[38;5;28misinstance\u001b[39m(arg, Tracer) \u001b[38;5;129;01mor\u001b[39;00m valid_jaxtype(arg) \u001b[38;5;28;01mfor\u001b[39;00m arg \u001b[38;5;129;01min\u001b[39;00m args)), args\n\u001b[0;32m--> 387\u001b[0m   \u001b[38;5;28;01mreturn\u001b[39;00m \u001b[38;5;28;43mself\u001b[39;49m\u001b[38;5;241;43m.\u001b[39;49m\u001b[43mbind_with_trace\u001b[49m\u001b[43m(\u001b[49m\u001b[43mfind_top_trace\u001b[49m\u001b[43m(\u001b[49m\u001b[43margs\u001b[49m\u001b[43m)\u001b[49m\u001b[43m,\u001b[49m\u001b[43m \u001b[49m\u001b[43margs\u001b[49m\u001b[43m,\u001b[49m\u001b[43m \u001b[49m\u001b[43mparams\u001b[49m\u001b[43m)\u001b[49m\n",
            "File \u001b[0;32m~/envs/tiny/lib/python3.11/site-packages/jax/_src/core.py:391\u001b[0m, in \u001b[0;36mPrimitive.bind_with_trace\u001b[0;34m(self, trace, args, params)\u001b[0m\n\u001b[1;32m    389\u001b[0m \u001b[38;5;28;01mdef\u001b[39;00m \u001b[38;5;21mbind_with_trace\u001b[39m(\u001b[38;5;28mself\u001b[39m, trace, args, params):\n\u001b[1;32m    390\u001b[0m   \u001b[38;5;28;01mwith\u001b[39;00m pop_level(trace\u001b[38;5;241m.\u001b[39mlevel):\n\u001b[0;32m--> 391\u001b[0m     out \u001b[38;5;241m=\u001b[39m \u001b[43mtrace\u001b[49m\u001b[38;5;241;43m.\u001b[39;49m\u001b[43mprocess_primitive\u001b[49m\u001b[43m(\u001b[49m\u001b[38;5;28;43mself\u001b[39;49m\u001b[43m,\u001b[49m\u001b[43m \u001b[49m\u001b[38;5;28;43mmap\u001b[39;49m\u001b[43m(\u001b[49m\u001b[43mtrace\u001b[49m\u001b[38;5;241;43m.\u001b[39;49m\u001b[43mfull_raise\u001b[49m\u001b[43m,\u001b[49m\u001b[43m \u001b[49m\u001b[43margs\u001b[49m\u001b[43m)\u001b[49m\u001b[43m,\u001b[49m\u001b[43m \u001b[49m\u001b[43mparams\u001b[49m\u001b[43m)\u001b[49m\n\u001b[1;32m    392\u001b[0m   \u001b[38;5;28;01mreturn\u001b[39;00m \u001b[38;5;28mmap\u001b[39m(full_lower, out) \u001b[38;5;28;01mif\u001b[39;00m \u001b[38;5;28mself\u001b[39m\u001b[38;5;241m.\u001b[39mmultiple_results \u001b[38;5;28;01melse\u001b[39;00m full_lower(out)\n",
            "File \u001b[0;32m~/envs/tiny/lib/python3.11/site-packages/jax/_src/core.py:879\u001b[0m, in \u001b[0;36mEvalTrace.process_primitive\u001b[0;34m(self, primitive, tracers, params)\u001b[0m\n\u001b[1;32m    877\u001b[0m   \u001b[38;5;28;01mreturn\u001b[39;00m call_impl_with_key_reuse_checks(primitive, primitive\u001b[38;5;241m.\u001b[39mimpl, \u001b[38;5;241m*\u001b[39mtracers, \u001b[38;5;241m*\u001b[39m\u001b[38;5;241m*\u001b[39mparams)\n\u001b[1;32m    878\u001b[0m \u001b[38;5;28;01melse\u001b[39;00m:\n\u001b[0;32m--> 879\u001b[0m   \u001b[38;5;28;01mreturn\u001b[39;00m \u001b[43mprimitive\u001b[49m\u001b[38;5;241;43m.\u001b[39;49m\u001b[43mimpl\u001b[49m\u001b[43m(\u001b[49m\u001b[38;5;241;43m*\u001b[39;49m\u001b[43mtracers\u001b[49m\u001b[43m,\u001b[49m\u001b[43m \u001b[49m\u001b[38;5;241;43m*\u001b[39;49m\u001b[38;5;241;43m*\u001b[39;49m\u001b[43mparams\u001b[49m\u001b[43m)\u001b[49m\n",
            "File \u001b[0;32m~/envs/tiny/lib/python3.11/site-packages/jax/_src/dispatch.py:463\u001b[0m, in \u001b[0;36m_device_put_impl\u001b[0;34m(x, device, src)\u001b[0m\n\u001b[1;32m    460\u001b[0m     \u001b[38;5;28;01mreturn\u001b[39;00m _device_put_sharding_impl(x, aval, l\u001b[38;5;241m.\u001b[39msharding)\n\u001b[1;32m    461\u001b[0m   \u001b[38;5;28;01mreturn\u001b[39;00m api\u001b[38;5;241m.\u001b[39mjit(_identity_fn, out_shardings\u001b[38;5;241m=\u001b[39ml)(x)\n\u001b[0;32m--> 463\u001b[0m \u001b[38;5;28;01mreturn\u001b[39;00m \u001b[43m_device_put_sharding_impl\u001b[49m\u001b[43m(\u001b[49m\u001b[43mx\u001b[49m\u001b[43m,\u001b[49m\u001b[43m \u001b[49m\u001b[43maval\u001b[49m\u001b[43m,\u001b[49m\u001b[43m \u001b[49m\u001b[43mdevice\u001b[49m\u001b[43m)\u001b[49m\n",
            "File \u001b[0;32m~/envs/tiny/lib/python3.11/site-packages/jax/_src/dispatch.py:427\u001b[0m, in \u001b[0;36m_device_put_sharding_impl\u001b[0;34m(x, aval, device)\u001b[0m\n\u001b[1;32m    422\u001b[0m     \u001b[38;5;28;01mreturn\u001b[39;00m pxla\u001b[38;5;241m.\u001b[39mbatched_device_put(aval, SingleDeviceSharding(device), [x],\n\u001b[1;32m    423\u001b[0m                                    [device])\n\u001b[1;32m    425\u001b[0m sh \u001b[38;5;241m=\u001b[39m SingleDeviceSharding(pxla\u001b[38;5;241m.\u001b[39m_get_default_device()\n\u001b[1;32m    426\u001b[0m                           \u001b[38;5;28;01mif\u001b[39;00m device \u001b[38;5;129;01mis\u001b[39;00m \u001b[38;5;28;01mNone\u001b[39;00m \u001b[38;5;28;01melse\u001b[39;00m device)\n\u001b[0;32m--> 427\u001b[0m \u001b[38;5;28;01mreturn\u001b[39;00m \u001b[43m_put_x\u001b[49m\u001b[43m(\u001b[49m\u001b[43mx\u001b[49m\u001b[43m,\u001b[49m\u001b[43m \u001b[49m\u001b[43msh\u001b[49m\u001b[43m,\u001b[49m\u001b[43m \u001b[49m\u001b[43maval\u001b[49m\u001b[43m,\u001b[49m\u001b[43m \u001b[49m\u001b[43mdevice\u001b[49m\u001b[43m \u001b[49m\u001b[38;5;129;43;01mis\u001b[39;49;00m\u001b[43m \u001b[49m\u001b[38;5;129;43;01mnot\u001b[39;49;00m\u001b[43m \u001b[49m\u001b[38;5;28;43;01mNone\u001b[39;49;00m\u001b[43m)\u001b[49m\n",
            "File \u001b[0;32m~/envs/tiny/lib/python3.11/site-packages/jax/_src/dispatch.py:333\u001b[0m, in \u001b[0;36m_put_x\u001b[0;34m(x, s, aval, committed)\u001b[0m\n\u001b[1;32m    331\u001b[0m \u001b[38;5;28;01mdef\u001b[39;00m \u001b[38;5;21m_put_x\u001b[39m(x, s: Sharding, aval: core\u001b[38;5;241m.\u001b[39mAbstractValue, committed: \u001b[38;5;28mbool\u001b[39m):\n\u001b[1;32m    332\u001b[0m   result_handler \u001b[38;5;241m=\u001b[39m pxla\u001b[38;5;241m.\u001b[39mglobal_aval_to_result_handler(aval, s, committed)\n\u001b[0;32m--> 333\u001b[0m   \u001b[38;5;28;01mreturn\u001b[39;00m result_handler(\u001b[43mpxla\u001b[49m\u001b[38;5;241;43m.\u001b[39;49m\u001b[43mshard_arg\u001b[49m\u001b[43m(\u001b[49m\u001b[43mx\u001b[49m\u001b[43m,\u001b[49m\u001b[43m \u001b[49m\u001b[43ms\u001b[49m\u001b[43m)\u001b[49m)\n",
            "File \u001b[0;32m~/envs/tiny/lib/python3.11/site-packages/jax/_src/interpreters/pxla.py:112\u001b[0m, in \u001b[0;36mshard_arg\u001b[0;34m(arg, sharding, canonicalize)\u001b[0m\n\u001b[1;32m    110\u001b[0m \u001b[38;5;28;01mif\u001b[39;00m canonicalize:\n\u001b[1;32m    111\u001b[0m   arg \u001b[38;5;241m=\u001b[39m xla\u001b[38;5;241m.\u001b[39mcanonicalize_dtype(arg)\n\u001b[0;32m--> 112\u001b[0m \u001b[38;5;28;01mreturn\u001b[39;00m \u001b[43mshard_arg_handlers\u001b[49m\u001b[43m[\u001b[49m\u001b[38;5;28;43mtype\u001b[39;49m\u001b[43m(\u001b[49m\u001b[43marg\u001b[49m\u001b[43m)\u001b[49m\u001b[43m]\u001b[49m\u001b[43m(\u001b[49m\u001b[43marg\u001b[49m\u001b[43m,\u001b[49m\u001b[43m \u001b[49m\u001b[43msharding\u001b[49m\u001b[43m)\u001b[49m\n",
            "File \u001b[0;32m~/envs/tiny/lib/python3.11/site-packages/jax/_src/interpreters/pxla.py:144\u001b[0m, in \u001b[0;36m_shard_array\u001b[0;34m(x, sharding)\u001b[0m\n\u001b[1;32m    142\u001b[0m   indices \u001b[38;5;241m=\u001b[39m \u001b[38;5;28mtuple\u001b[39m(sharding\u001b[38;5;241m.\u001b[39maddressable_devices_indices_map(x\u001b[38;5;241m.\u001b[39mshape)\u001b[38;5;241m.\u001b[39mvalues())\n\u001b[1;32m    143\u001b[0m   shards \u001b[38;5;241m=\u001b[39m [x[i] \u001b[38;5;28;01mfor\u001b[39;00m i \u001b[38;5;129;01min\u001b[39;00m indices]\n\u001b[0;32m--> 144\u001b[0m \u001b[38;5;28;01mreturn\u001b[39;00m \u001b[43mbatched_device_put\u001b[49m\u001b[43m(\u001b[49m\u001b[43maval\u001b[49m\u001b[43m,\u001b[49m\u001b[43m \u001b[49m\u001b[43msharding\u001b[49m\u001b[43m,\u001b[49m\u001b[43m \u001b[49m\u001b[43mshards\u001b[49m\u001b[43m,\u001b[49m\u001b[43m \u001b[49m\u001b[43mdevices\u001b[49m\u001b[43m)\u001b[49m\n",
            "File \u001b[0;32m~/envs/tiny/lib/python3.11/site-packages/jax/_src/interpreters/pxla.py:168\u001b[0m, in \u001b[0;36mbatched_device_put\u001b[0;34m(aval, sharding, xs, devices, committed)\u001b[0m\n\u001b[1;32m    165\u001b[0m \u001b[38;5;28;01mif\u001b[39;00m \u001b[38;5;28mlen\u001b[39m(bufs) \u001b[38;5;241m==\u001b[39m \u001b[38;5;28mlen\u001b[39m(xs):\n\u001b[1;32m    166\u001b[0m   \u001b[38;5;28;01mreturn\u001b[39;00m array\u001b[38;5;241m.\u001b[39mArrayImpl(\n\u001b[1;32m    167\u001b[0m       aval, sharding, bufs, committed\u001b[38;5;241m=\u001b[39mcommitted, _skip_checks\u001b[38;5;241m=\u001b[39m\u001b[38;5;28;01mTrue\u001b[39;00m)\n\u001b[0;32m--> 168\u001b[0m \u001b[38;5;28;01mreturn\u001b[39;00m \u001b[43mxc\u001b[49m\u001b[38;5;241;43m.\u001b[39;49m\u001b[43mbatched_device_put\u001b[49m\u001b[43m(\u001b[49m\u001b[43maval\u001b[49m\u001b[43m,\u001b[49m\u001b[43m \u001b[49m\u001b[43msharding\u001b[49m\u001b[43m,\u001b[49m\u001b[43m \u001b[49m\u001b[43mxs\u001b[49m\u001b[43m,\u001b[49m\u001b[43m \u001b[49m\u001b[38;5;28;43mlist\u001b[39;49m\u001b[43m(\u001b[49m\u001b[43mdevices\u001b[49m\u001b[43m)\u001b[49m\u001b[43m,\u001b[49m\u001b[43m \u001b[49m\u001b[43mcommitted\u001b[49m\u001b[43m)\u001b[49m\n",
            "\u001b[0;31mXlaRuntimeError\u001b[0m: RESOURCE_EXHAUSTED: Out of memory while trying to allocate 100000000 bytes."
          ]
        }
      ],
      "source": [
        "from jax import device_put\n",
        "import numpy as np\n",
        "\n",
        "size = 5000\n",
        "x = np.random.normal(size=(size, size)).astype(np.float32)\n",
        "x = device_put(x)"
      ]
    },
    {
      "cell_type": "code",
      "execution_count": null,
      "metadata": {
        "colab": {
          "base_uri": "https://localhost:8080/"
        },
        "id": "wJQ0OOCo5UHS",
        "outputId": "42d6205e-b9fc-4c2a-fd98-cde2825b8e00"
      },
      "outputs": [
        {
          "data": {
            "text/plain": [
              "Array([[-0.79447454,  1.2171433 ,  1.1587267 , ..., -1.1149006 ,\n",
              "         0.5576706 ,  0.65717304],\n",
              "       [ 0.06404939, -0.6359419 , -1.6473819 , ..., -0.79355246,\n",
              "        -0.31298083, -1.437376  ],\n",
              "       [-0.33799973,  0.19041944,  0.2353706 , ...,  1.4031185 ,\n",
              "        -2.2811759 , -0.64421403],\n",
              "       ...,\n",
              "       [ 0.5736245 ,  0.15064004, -0.7230288 , ..., -0.62920284,\n",
              "         0.18096147,  0.12478388],\n",
              "       [ 0.5002141 , -0.16310322, -0.01618477, ..., -0.74241334,\n",
              "         0.39063206, -0.38532573],\n",
              "       [-0.46491575,  0.8566468 ,  0.9910643 , ..., -0.05014795,\n",
              "        -1.3024176 , -0.2784468 ]], dtype=float32)"
            ]
          },
          "execution_count": 72,
          "metadata": {},
          "output_type": "execute_result"
        }
      ],
      "source": [
        "x"
      ]
    },
    {
      "cell_type": "markdown",
      "metadata": {
        "id": "hSXBFtGZpK1B"
      },
      "source": [
        "# Indexing & Broadcasting in Numpy"
      ]
    },
    {
      "cell_type": "code",
      "execution_count": null,
      "metadata": {
        "id": "au_MsUFApIK0"
      },
      "outputs": [],
      "source": [
        "matrix = jnp.arange(1, 17)"
      ]
    },
    {
      "cell_type": "code",
      "execution_count": null,
      "metadata": {
        "colab": {
          "base_uri": "https://localhost:8080/"
        },
        "id": "IOA3dhS8PJU7",
        "outputId": "ec9d9fcb-8549-4ae6-937f-a0b071d2ba0a"
      },
      "outputs": [
        {
          "data": {
            "text/plain": [
              "Array([ 1,  2,  3,  4,  5,  6,  7,  8,  9, 10, 11, 12, 13, 14, 15, 16],      dtype=int32)"
            ]
          },
          "execution_count": 74,
          "metadata": {},
          "output_type": "execute_result"
        }
      ],
      "source": [
        "matrix"
      ]
    },
    {
      "cell_type": "code",
      "execution_count": null,
      "metadata": {
        "colab": {
          "base_uri": "https://localhost:8080/"
        },
        "id": "35vQJbEbpIIV",
        "outputId": "f11f3bca-94b8-442c-a15b-7041a164ae6e"
      },
      "outputs": [
        {
          "data": {
            "text/plain": [
              "Array(1, dtype=int32)"
            ]
          },
          "execution_count": 75,
          "metadata": {},
          "output_type": "execute_result"
        }
      ],
      "source": [
        "matrix[0]"
      ]
    },
    {
      "cell_type": "markdown",
      "metadata": {
        "id": "DClRSGl4R8eP"
      },
      "source": [
        "## Out-of-Bounds Indexing"
      ]
    },
    {
      "cell_type": "code",
      "execution_count": null,
      "metadata": {
        "colab": {
          "base_uri": "https://localhost:8080/"
        },
        "id": "YLVmYChtPFQQ",
        "outputId": "be83de0f-aba7-4bbb-9131-210fb5be1cc2"
      },
      "outputs": [
        {
          "name": "stdout",
          "output_type": "stream",
          "text": [
            "(16,)\n"
          ]
        },
        {
          "data": {
            "text/plain": [
              "Array(16, dtype=int32)"
            ]
          },
          "execution_count": 77,
          "metadata": {},
          "output_type": "execute_result"
        }
      ],
      "source": [
        "# Out-of-Bounds Indexing\n",
        "print(jnp.shape(matrix))\n",
        "matrix[20]"
      ]
    },
    {
      "cell_type": "code",
      "execution_count": null,
      "metadata": {
        "colab": {
          "base_uri": "https://localhost:8080/"
        },
        "id": "u-EzWSD8pIF8",
        "outputId": "3ce8ec74-57e9-4e1c-a69c-b296eac1662d"
      },
      "outputs": [
        {
          "data": {
            "text/plain": [
              "Array(3, dtype=int32)"
            ]
          },
          "execution_count": 78,
          "metadata": {},
          "output_type": "execute_result"
        }
      ],
      "source": [
        "matrix[2]"
      ]
    },
    {
      "cell_type": "code",
      "execution_count": null,
      "metadata": {
        "colab": {
          "base_uri": "https://localhost:8080/"
        },
        "id": "-sfd5nNRpYuf",
        "outputId": "083d661b-28b3-4e04-f5ed-f5581b2506a8"
      },
      "outputs": [
        {
          "data": {
            "text/plain": [
              "Array([3, 4, 5, 6], dtype=int32)"
            ]
          },
          "execution_count": 80,
          "metadata": {},
          "output_type": "execute_result"
        }
      ],
      "source": [
        "matrix[2:6]"
      ]
    },
    {
      "cell_type": "code",
      "execution_count": null,
      "metadata": {
        "colab": {
          "base_uri": "https://localhost:8080/"
        },
        "id": "0n1FOeIspYsJ",
        "outputId": "1ede35a7-9f4b-4912-a448-46083851438a"
      },
      "outputs": [
        {
          "data": {
            "text/plain": [
              "Array([13, 14, 15, 16], dtype=int32)"
            ]
          },
          "execution_count": 81,
          "metadata": {},
          "output_type": "execute_result"
        }
      ],
      "source": [
        "matrix[12:]"
      ]
    },
    {
      "cell_type": "markdown",
      "metadata": {
        "id": "pEe4MxIlpdiO"
      },
      "source": [
        "### Indexing Two Dimensional Array"
      ]
    },
    {
      "cell_type": "code",
      "execution_count": null,
      "metadata": {
        "id": "H_TBgzFopYp0"
      },
      "outputs": [
        {
          "data": {
            "text/plain": [
              "Array([[ 1,  2,  3,  4],\n",
              "       [ 5,  6,  7,  8],\n",
              "       [ 9, 10, 11, 12],\n",
              "       [13, 14, 15, 16]], dtype=int32)"
            ]
          },
          "execution_count": 86,
          "metadata": {},
          "output_type": "execute_result"
        }
      ],
      "source": [
        "matrix = matrix.reshape(4, 4)\n",
        "matrix"
      ]
    },
    {
      "cell_type": "code",
      "execution_count": null,
      "metadata": {
        "colab": {
          "base_uri": "https://localhost:8080/"
        },
        "id": "wxskXLNGpYnK",
        "outputId": "7e8af7ae-fb69-430c-aedc-e90d0a7d0b5f"
      },
      "outputs": [
        {
          "data": {
            "text/plain": [
              "Array([1, 2, 3, 4], dtype=int32)"
            ]
          },
          "execution_count": 83,
          "metadata": {},
          "output_type": "execute_result"
        }
      ],
      "source": [
        "matrix[0]"
      ]
    },
    {
      "cell_type": "code",
      "execution_count": null,
      "metadata": {
        "colab": {
          "base_uri": "https://localhost:8080/"
        },
        "id": "4MH-268vpYkz",
        "outputId": "e40be872-cc23-4fa5-85e9-507642594fd5"
      },
      "outputs": [
        {
          "data": {
            "text/plain": [
              "Array([[1, 2, 3, 4],\n",
              "       [5, 6, 7, 8]], dtype=int32)"
            ]
          },
          "execution_count": 84,
          "metadata": {},
          "output_type": "execute_result"
        }
      ],
      "source": [
        "matrix[0:2]"
      ]
    },
    {
      "cell_type": "code",
      "execution_count": null,
      "metadata": {
        "colab": {
          "base_uri": "https://localhost:8080/"
        },
        "id": "tQwVO6idpYfH",
        "outputId": "585880c0-d943-4101-9c79-b459af80f757"
      },
      "outputs": [
        {
          "data": {
            "text/plain": [
              "Array([[ 6,  7],\n",
              "       [10, 11]], dtype=int32)"
            ]
          },
          "execution_count": 85,
          "metadata": {},
          "output_type": "execute_result"
        }
      ],
      "source": [
        "matrix[1:3, 1:3]  # [startrow:endrow, startcolumn:endcolumn]"
      ]
    },
    {
      "cell_type": "code",
      "execution_count": null,
      "metadata": {
        "colab": {
          "base_uri": "https://localhost:8080/"
        },
        "id": "3GataaH6ppUN",
        "outputId": "7340d1a0-e69b-4d05-c45c-963f8cff60c2"
      },
      "outputs": [
        {
          "data": {
            "text/plain": [
              "Array([[10],\n",
              "       [14]], dtype=int32)"
            ]
          },
          "execution_count": 87,
          "metadata": {},
          "output_type": "execute_result"
        }
      ],
      "source": [
        "matrix[2:4, 1:2]"
      ]
    },
    {
      "cell_type": "code",
      "execution_count": null,
      "metadata": {
        "colab": {
          "base_uri": "https://localhost:8080/"
        },
        "id": "qr9yno1-ppRW",
        "outputId": "5fb5fe06-8dfc-4fd7-d0b8-1cc6fd098c15"
      },
      "outputs": [
        {
          "data": {
            "text/plain": [
              "Array([[11, 12],\n",
              "       [15, 16]], dtype=int32)"
            ]
          },
          "execution_count": 90,
          "metadata": {},
          "output_type": "execute_result"
        }
      ],
      "source": [
        "matrix[2:4, 2:4]"
      ]
    },
    {
      "cell_type": "code",
      "execution_count": null,
      "metadata": {
        "colab": {
          "base_uri": "https://localhost:8080/"
        },
        "id": "ZhKy6bovppL2",
        "outputId": "a84c832b-9575-4e6e-e080-ab0745ee219f"
      },
      "outputs": [
        {
          "data": {
            "text/plain": [
              "Array([[11, 12],\n",
              "       [15, 16]], dtype=int32)"
            ]
          },
          "execution_count": 91,
          "metadata": {},
          "output_type": "execute_result"
        }
      ],
      "source": [
        "matrix[2:, 2:]"
      ]
    },
    {
      "cell_type": "markdown",
      "metadata": {
        "id": "1BKHznL-px4n"
      },
      "source": [
        "### Broadcasting in NumPy"
      ]
    },
    {
      "cell_type": "code",
      "execution_count": null,
      "metadata": {
        "id": "432COJJ0ppHB"
      },
      "outputs": [],
      "source": [
        "scores = [50, 60, 70, 30, 25]"
      ]
    },
    {
      "cell_type": "code",
      "execution_count": null,
      "metadata": {
        "id": "J4TUr_xIppEk"
      },
      "outputs": [],
      "source": [
        "scores_array = jnp.array(scores)"
      ]
    },
    {
      "cell_type": "code",
      "execution_count": null,
      "metadata": {
        "colab": {
          "base_uri": "https://localhost:8080/"
        },
        "id": "F8oyekYCppB9",
        "outputId": "1cce8c76-f332-4816-85f3-f12b2c70bf41"
      },
      "outputs": [
        {
          "data": {
            "text/plain": [
              "Array([50, 60, 70, 30, 25], dtype=int32)"
            ]
          },
          "execution_count": 94,
          "metadata": {},
          "output_type": "execute_result"
        }
      ],
      "source": [
        "scores_array"
      ]
    },
    {
      "cell_type": "code",
      "execution_count": null,
      "metadata": {
        "colab": {
          "base_uri": "https://localhost:8080/"
        },
        "id": "rc50YgU4po_G",
        "outputId": "d9e3ad9b-7e0a-4595-c0cd-5a64d37d87a7"
      },
      "outputs": [
        {
          "data": {
            "text/plain": [
              "Array([50, 60, 70], dtype=int32)"
            ]
          },
          "execution_count": 95,
          "metadata": {},
          "output_type": "execute_result"
        }
      ],
      "source": [
        "scores_array[0:3]"
      ]
    },
    {
      "cell_type": "markdown",
      "metadata": {
        "id": "9sQ3DXCKtvLL"
      },
      "source": [
        "### JAX arrays are immutable"
      ]
    },
    {
      "cell_type": "code",
      "execution_count": null,
      "metadata": {
        "colab": {
          "base_uri": "https://localhost:8080/",
          "height": 312
        },
        "id": "tZd0bOqcp9GE",
        "outputId": "aae47a99-6995-4fb3-9081-56217c763c09"
      },
      "outputs": [
        {
          "ename": "TypeError",
          "evalue": "'<class 'jaxlib.xla_extension.ArrayImpl'>' object does not support item assignment. JAX arrays are immutable. Instead of ``x[idx] = y``, use ``x = x.at[idx].set(y)`` or another .at[] method: https://jax.readthedocs.io/en/latest/_autosummary/jax.numpy.ndarray.at.html",
          "output_type": "error",
          "traceback": [
            "\u001b[0;31m---------------------------------------------------------------------------\u001b[0m",
            "\u001b[0;31mTypeError\u001b[0m                                 Traceback (most recent call last)",
            "Cell \u001b[0;32mIn[96], line 1\u001b[0m\n\u001b[0;32m----> 1\u001b[0m \u001b[43mscores_array\u001b[49m\u001b[43m[\u001b[49m\u001b[38;5;241;43m0\u001b[39;49m\u001b[43m:\u001b[49m\u001b[38;5;241;43m3\u001b[39;49m\u001b[43m]\u001b[49m \u001b[38;5;241m=\u001b[39m [\u001b[38;5;241m20\u001b[39m, \u001b[38;5;241m40\u001b[39m, \u001b[38;5;241m90\u001b[39m]\n",
            "File \u001b[0;32m~/envs/tiny/lib/python3.11/site-packages/jax/_src/numpy/array_methods.py:279\u001b[0m, in \u001b[0;36m_unimplemented_setitem\u001b[0;34m(self, i, x)\u001b[0m\n\u001b[1;32m    274\u001b[0m \u001b[38;5;28;01mdef\u001b[39;00m \u001b[38;5;21m_unimplemented_setitem\u001b[39m(\u001b[38;5;28mself\u001b[39m, i, x):\n\u001b[1;32m    275\u001b[0m   msg \u001b[38;5;241m=\u001b[39m (\u001b[38;5;124m\"\u001b[39m\u001b[38;5;124m'\u001b[39m\u001b[38;5;132;01m{}\u001b[39;00m\u001b[38;5;124m'\u001b[39m\u001b[38;5;124m object does not support item assignment. JAX arrays are \u001b[39m\u001b[38;5;124m\"\u001b[39m\n\u001b[1;32m    276\u001b[0m          \u001b[38;5;124m\"\u001b[39m\u001b[38;5;124mimmutable. Instead of ``x[idx] = y``, use ``x = x.at[idx].set(y)`` \u001b[39m\u001b[38;5;124m\"\u001b[39m\n\u001b[1;32m    277\u001b[0m          \u001b[38;5;124m\"\u001b[39m\u001b[38;5;124mor another .at[] method: \u001b[39m\u001b[38;5;124m\"\u001b[39m\n\u001b[1;32m    278\u001b[0m          \u001b[38;5;124m\"\u001b[39m\u001b[38;5;124mhttps://jax.readthedocs.io/en/latest/_autosummary/jax.numpy.ndarray.at.html\u001b[39m\u001b[38;5;124m\"\u001b[39m)\n\u001b[0;32m--> 279\u001b[0m   \u001b[38;5;28;01mraise\u001b[39;00m \u001b[38;5;167;01mTypeError\u001b[39;00m(msg\u001b[38;5;241m.\u001b[39mformat(\u001b[38;5;28mtype\u001b[39m(\u001b[38;5;28mself\u001b[39m)))\n",
            "\u001b[0;31mTypeError\u001b[0m: '<class 'jaxlib.xla_extension.ArrayImpl'>' object does not support item assignment. JAX arrays are immutable. Instead of ``x[idx] = y``, use ``x = x.at[idx].set(y)`` or another .at[] method: https://jax.readthedocs.io/en/latest/_autosummary/jax.numpy.ndarray.at.html"
          ]
        }
      ],
      "source": [
        "scores_array[0:3] = [20, 40, 90]"
      ]
    },
    {
      "cell_type": "code",
      "execution_count": null,
      "metadata": {
        "id": "LIyMVccBp_Ge"
      },
      "outputs": [],
      "source": [
        "new_scores_array = scores_array.at[0:3].set([20, 40, 90])"
      ]
    },
    {
      "cell_type": "code",
      "execution_count": null,
      "metadata": {
        "colab": {
          "base_uri": "https://localhost:8080/"
        },
        "id": "x8LffCzQtrgp",
        "outputId": "8ce02168-a3a2-4790-f58c-b419164302c2"
      },
      "outputs": [
        {
          "data": {
            "text/plain": [
              "Array([20, 40, 90, 30, 25], dtype=int32)"
            ]
          },
          "execution_count": 98,
          "metadata": {},
          "output_type": "execute_result"
        }
      ],
      "source": [
        "new_scores_array"
      ]
    },
    {
      "cell_type": "code",
      "execution_count": null,
      "metadata": {},
      "outputs": [
        {
          "data": {
            "text/plain": [
              "Array([50, 60, 70, 30, 25], dtype=int32)"
            ]
          },
          "execution_count": 99,
          "metadata": {},
          "output_type": "execute_result"
        }
      ],
      "source": [
        "scores_array"
      ]
    },
    {
      "cell_type": "markdown",
      "metadata": {
        "id": "qGWkbxgUxoaI"
      },
      "source": [
        "## Using jit() to speed up functions"
      ]
    },
    {
      "cell_type": "code",
      "execution_count": null,
      "metadata": {
        "id": "LG13MQaKuMUA"
      },
      "outputs": [],
      "source": [
        "def test_fn(sample_rate=3000, frequency=3):\n",
        "    x = jnp.arange(sample_rate)\n",
        "    y = jnp.sin(2 * jnp.pi * frequency * (frequency / sample_rate))\n",
        "    return jnp.dot(x, y)"
      ]
    },
    {
      "cell_type": "code",
      "execution_count": null,
      "metadata": {
        "colab": {
          "base_uri": "https://localhost:8080/"
        },
        "id": "I5kdhTKizTT9",
        "outputId": "954921b4-ea46-4950-b757-3316a6770690"
      },
      "outputs": [
        {
          "name": "stdout",
          "output_type": "stream",
          "text": [
            "249 µs ± 333 ns per loop (mean ± std. dev. of 7 runs, 1,000 loops each)\n"
          ]
        }
      ],
      "source": [
        "%timeit test_fn()"
      ]
    },
    {
      "cell_type": "code",
      "execution_count": null,
      "metadata": {
        "colab": {
          "base_uri": "https://localhost:8080/"
        },
        "id": "qPR5kG2ezTV3",
        "outputId": "e94aaeb7-769c-4c7b-a322-c743aba9514a"
      },
      "outputs": [
        {
          "name": "stdout",
          "output_type": "stream",
          "text": [
            "69.3 µs ± 1.86 µs per loop (mean ± std. dev. of 7 runs, 10,000 loops each)\n"
          ]
        }
      ],
      "source": [
        "test_fn_jit = jax.jit(test_fn)\n",
        "%timeit test_fn_jit().block_until_ready()"
      ]
    },
    {
      "cell_type": "markdown",
      "metadata": {
        "id": "E52-kxUBCSAs"
      },
      "source": [
        "## How JIT works"
      ]
    },
    {
      "cell_type": "markdown",
      "metadata": {
        "id": "INKbAOnaDP-S"
      },
      "source": [
        "By default JAX executes operations one at a time, in sequence.\n",
        "\n",
        "Using a just-in-time (JIT) compilation decorator, sequences of operations can be optimized together and run at once.\n",
        "\n",
        "Not all JAX code can be JIT compiled, as it requires array shapes to be static & known at compile time.\n",
        "\n",
        "The fact that all JAX operations are expressed in terms of XLA allows JAX to use the XLA compiler to execute blocks of code very efficiently."
      ]
    },
    {
      "cell_type": "code",
      "execution_count": null,
      "metadata": {
        "colab": {
          "base_uri": "https://localhost:8080/"
        },
        "id": "jOMsDeIpCV-m",
        "outputId": "36b8e203-8410-40b8-b216-33894e67a8a3"
      },
      "outputs": [
        {
          "name": "stdout",
          "output_type": "stream",
          "text": [
            "Running f():\n",
            "  x = Traced<ShapedArray(float32[3,4])>with<DynamicJaxprTrace(level=1/0)>\n",
            "  y = Traced<ShapedArray(float32[4])>with<DynamicJaxprTrace(level=1/0)>\n",
            "  result = Traced<ShapedArray(float32[3])>with<DynamicJaxprTrace(level=1/0)>\n"
          ]
        },
        {
          "data": {
            "text/plain": [
              "Array([6.6637564, 5.8385086, 4.8083467], dtype=float32)"
            ]
          },
          "execution_count": 104,
          "metadata": {},
          "output_type": "execute_result"
        }
      ],
      "source": [
        "@jax.jit\n",
        "def f(x, y):\n",
        "    print(\"Running f():\")\n",
        "    print(f\"  x = {x}\")\n",
        "    print(f\"  y = {y}\")\n",
        "    result = jnp.dot(x + 1, y + 1)\n",
        "    print(f\"  result = {result}\")\n",
        "    return result\n",
        "\n",
        "\n",
        "x = np.random.randn(3, 4)\n",
        "y = np.random.randn(4)\n",
        "f(x, y)"
      ]
    },
    {
      "cell_type": "code",
      "execution_count": null,
      "metadata": {
        "colab": {
          "base_uri": "https://localhost:8080/"
        },
        "id": "hpXZFlOTCVvv",
        "outputId": "fb6fbbb0-20f3-4722-fff7-9830ca3f3020"
      },
      "outputs": [
        {
          "data": {
            "text/plain": [
              "Array([1.9138228, 2.2620401, 5.1799603], dtype=float32)"
            ]
          },
          "execution_count": 105,
          "metadata": {},
          "output_type": "execute_result"
        }
      ],
      "source": [
        "x2 = np.random.randn(3, 4)\n",
        "y2 = np.random.randn(4)\n",
        "f(x2, y2)"
      ]
    },
    {
      "cell_type": "code",
      "execution_count": null,
      "metadata": {
        "colab": {
          "base_uri": "https://localhost:8080/"
        },
        "id": "RQ7fvDZxGSms",
        "outputId": "f64f0961-2450-48de-c0b3-0a4ad9de1873"
      },
      "outputs": [
        {
          "data": {
            "text/plain": [
              "{ \u001b[34m\u001b[22m\u001b[1mlambda \u001b[39m\u001b[22m\u001b[22m; a\u001b[35m:f32[3,4]\u001b[39m b\u001b[35m:f32[4]\u001b[39m. \u001b[34m\u001b[22m\u001b[1mlet\n",
              "    \u001b[39m\u001b[22m\u001b[22mc\u001b[35m:f32[3,4]\u001b[39m = add a 1.0\n",
              "    d\u001b[35m:f32[4]\u001b[39m = add b 1.0\n",
              "    e\u001b[35m:f32[3]\u001b[39m = dot_general[\n",
              "      dimension_numbers=(([1], [0]), ([], []))\n",
              "      preferred_element_type=float32\n",
              "    ] c d\n",
              "  \u001b[34m\u001b[22m\u001b[1min \u001b[39m\u001b[22m\u001b[22m(e,) }"
            ]
          },
          "execution_count": 106,
          "metadata": {},
          "output_type": "execute_result"
        }
      ],
      "source": [
        "from jax import make_jaxpr\n",
        "\n",
        "\n",
        "def f(x, y):\n",
        "    return jnp.dot(x + 1, y + 1)\n",
        "\n",
        "\n",
        "make_jaxpr(f)(x, y)"
      ]
    },
    {
      "cell_type": "code",
      "execution_count": null,
      "metadata": {
        "colab": {
          "base_uri": "https://localhost:8080/",
          "height": 728
        },
        "id": "GPqk7g_WHuKC",
        "outputId": "dd41fca6-8735-465c-9f01-da33cddd8e39"
      },
      "outputs": [
        {
          "ename": "TracerBoolConversionError",
          "evalue": "Attempted boolean conversion of traced array with shape bool[]..\nThe error occurred while tracing the function f at /tmp/ipykernel_23106/3541786643.py:1 for jit. This concrete value was not available in Python because it depends on the value of the argument boolean.\nSee https://jax.readthedocs.io/en/latest/errors.html#jax.errors.TracerBoolConversionError",
          "output_type": "error",
          "traceback": [
            "\u001b[0;31m---------------------------------------------------------------------------\u001b[0m",
            "\u001b[0;31mTracerBoolConversionError\u001b[0m                 Traceback (most recent call last)",
            "Cell \u001b[0;32mIn[107], line 6\u001b[0m\n\u001b[1;32m      1\u001b[0m \u001b[38;5;129m@jax\u001b[39m\u001b[38;5;241m.\u001b[39mjit\n\u001b[1;32m      2\u001b[0m \u001b[38;5;28;01mdef\u001b[39;00m \u001b[38;5;21mf\u001b[39m(boolean, x):\n\u001b[1;32m      3\u001b[0m     \u001b[38;5;28;01mreturn\u001b[39;00m \u001b[38;5;241m-\u001b[39mx \u001b[38;5;28;01mif\u001b[39;00m boolean \u001b[38;5;28;01melse\u001b[39;00m x\n\u001b[0;32m----> 6\u001b[0m \u001b[43mf\u001b[49m\u001b[43m(\u001b[49m\u001b[38;5;28;43;01mTrue\u001b[39;49;00m\u001b[43m,\u001b[49m\u001b[43m \u001b[49m\u001b[38;5;241;43m1\u001b[39;49m\u001b[43m)\u001b[49m\n",
            "    \u001b[0;31m[... skipping hidden 11 frame]\u001b[0m\n",
            "Cell \u001b[0;32mIn[107], line 3\u001b[0m, in \u001b[0;36mf\u001b[0;34m(boolean, x)\u001b[0m\n\u001b[1;32m      1\u001b[0m \u001b[38;5;129m@jax\u001b[39m\u001b[38;5;241m.\u001b[39mjit\n\u001b[1;32m      2\u001b[0m \u001b[38;5;28;01mdef\u001b[39;00m \u001b[38;5;21mf\u001b[39m(boolean, x):\n\u001b[0;32m----> 3\u001b[0m     \u001b[38;5;28;01mreturn\u001b[39;00m \u001b[38;5;241m-\u001b[39mx \u001b[38;5;28;01mif\u001b[39;00m boolean \u001b[38;5;28;01melse\u001b[39;00m x\n",
            "    \u001b[0;31m[... skipping hidden 1 frame]\u001b[0m\n",
            "File \u001b[0;32m~/envs/tiny/lib/python3.11/site-packages/jax/_src/core.py:1475\u001b[0m, in \u001b[0;36mconcretization_function_error.<locals>.error\u001b[0;34m(self, arg)\u001b[0m\n\u001b[1;32m   1474\u001b[0m \u001b[38;5;28;01mdef\u001b[39;00m \u001b[38;5;21merror\u001b[39m(\u001b[38;5;28mself\u001b[39m, arg):\n\u001b[0;32m-> 1475\u001b[0m   \u001b[38;5;28;01mraise\u001b[39;00m TracerBoolConversionError(arg)\n",
            "\u001b[0;31mTracerBoolConversionError\u001b[0m: Attempted boolean conversion of traced array with shape bool[]..\nThe error occurred while tracing the function f at /tmp/ipykernel_23106/3541786643.py:1 for jit. This concrete value was not available in Python because it depends on the value of the argument boolean.\nSee https://jax.readthedocs.io/en/latest/errors.html#jax.errors.TracerBoolConversionError"
          ]
        }
      ],
      "source": [
        "@jax.jit\n",
        "def f(boolean, x):\n",
        "    return -x if boolean else x\n",
        "\n",
        "\n",
        "f(True, 1)"
      ]
    },
    {
      "cell_type": "code",
      "execution_count": null,
      "metadata": {
        "colab": {
          "base_uri": "https://localhost:8080/"
        },
        "id": "yU65BFb_ISJ5",
        "outputId": "fa5b35da-7bde-482d-8ef8-b7dce3ca44f9"
      },
      "outputs": [
        {
          "data": {
            "text/plain": [
              "Array(-1, dtype=int32, weak_type=True)"
            ]
          },
          "execution_count": 108,
          "metadata": {},
          "output_type": "execute_result"
        }
      ],
      "source": [
        "from functools import partial\n",
        "\n",
        "\n",
        "@partial(jax.jit, static_argnums=(0,))\n",
        "def f(boolean, x):\n",
        "    return -x if boolean else x\n",
        "\n",
        "\n",
        "f(True, 1)"
      ]
    },
    {
      "cell_type": "code",
      "execution_count": null,
      "metadata": {
        "colab": {
          "base_uri": "https://localhost:8080/"
        },
        "id": "vev6kS9rIlQl",
        "outputId": "a36df310-d399-4833-eef4-a613a654a4f4"
      },
      "outputs": [
        {
          "data": {
            "text/plain": [
              "Array(1, dtype=int32, weak_type=True)"
            ]
          },
          "execution_count": 109,
          "metadata": {},
          "output_type": "execute_result"
        }
      ],
      "source": [
        "f(False, 1)"
      ]
    },
    {
      "cell_type": "markdown",
      "metadata": {
        "id": "M36xke8Zz83q"
      },
      "source": [
        "## Taking derivatives with grad()"
      ]
    },
    {
      "cell_type": "code",
      "execution_count": null,
      "metadata": {
        "colab": {
          "base_uri": "https://localhost:8080/"
        },
        "id": "iG2-92D5z2MZ",
        "outputId": "eb27470e-9202-4055-ca6d-45807935c1f9"
      },
      "outputs": [
        {
          "name": "stdout",
          "output_type": "stream",
          "text": [
            "[0.25       0.19661194 0.10499357 0.04517666 0.01766271 0.00664806]\n"
          ]
        }
      ],
      "source": [
        "@jax.jit\n",
        "def sum_logistic(x):\n",
        "    return jnp.sum(1.0 / (1.0 + jnp.exp(-x)))\n",
        "\n",
        "\n",
        "x_small = jnp.arange(6.0)\n",
        "derivative_fn = jax.grad(sum_logistic)\n",
        "print(derivative_fn(x_small))"
      ]
    },
    {
      "cell_type": "code",
      "execution_count": null,
      "metadata": {
        "colab": {
          "base_uri": "https://localhost:8080/"
        },
        "id": "MCt2xn4m-tkJ",
        "outputId": "55b8dc6e-96c7-44c9-d703-422050340499"
      },
      "outputs": [
        {
          "name": "stdout",
          "output_type": "stream",
          "text": [
            "(Array([0.25      , 0.19661194, 0.10499357, 0.04517666, 0.01766271,\n",
            "       0.00664806], dtype=float32), Array([1., 2., 3., 4., 5., 6.], dtype=float32))\n"
          ]
        }
      ],
      "source": [
        "@jax.jit\n",
        "def sum_logistic(x):\n",
        "    return jnp.sum(1.0 / (1.0 + jnp.exp(-x))), (x + 1)\n",
        "\n",
        "\n",
        "x_small = jnp.arange(6.0)\n",
        "derivative_fn = jax.grad(sum_logistic, has_aux=True)\n",
        "print(derivative_fn(x_small))"
      ]
    },
    {
      "cell_type": "code",
      "execution_count": null,
      "metadata": {
        "colab": {
          "base_uri": "https://localhost:8080/"
        },
        "id": "Q-tSAXWf33tW",
        "outputId": "9e798284-1f7d-4162-a6e8-1bad39fe3fd6"
      },
      "outputs": [
        {
          "name": "stdout",
          "output_type": "stream",
          "text": [
            "0.7432942\n"
          ]
        }
      ],
      "source": [
        "arcsinh = jax.grad(jax.numpy.arcsinh)\n",
        "print(arcsinh(0.9))"
      ]
    },
    {
      "cell_type": "markdown",
      "metadata": {
        "id": "DYtLKr5B6Axm"
      },
      "source": [
        "## Auto-vectorization with vmap()"
      ]
    },
    {
      "cell_type": "code",
      "execution_count": null,
      "metadata": {
        "id": "04PiW-V-6S-Z"
      },
      "outputs": [],
      "source": [
        "mat = jax.random.normal(key, (150, 100))\n",
        "batched_x = jax.random.normal(key, (10, 100))\n",
        "\n",
        "\n",
        "def apply_matrix(v):\n",
        "    return jnp.dot(mat, v)"
      ]
    },
    {
      "cell_type": "code",
      "execution_count": null,
      "metadata": {
        "colab": {
          "base_uri": "https://localhost:8080/"
        },
        "id": "90KHD9-N6axi",
        "outputId": "66ef53d8-8377-4a29-cef1-df354b1cd18c"
      },
      "outputs": [
        {
          "name": "stdout",
          "output_type": "stream",
          "text": [
            "Naively batched\n",
            "3.82 ms ± 78.9 µs per loop (mean ± std. dev. of 7 runs, 1 loop each)\n"
          ]
        }
      ],
      "source": [
        "def naively_batched_apply_matrix(v_batched):\n",
        "  return jnp.stack([apply_matrix(v) for v in v_batched])\n",
        "\n",
        "print('Naively batched')\n",
        "%timeit naively_batched_apply_matrix(batched_x).block_until_ready()"
      ]
    },
    {
      "cell_type": "code",
      "execution_count": null,
      "metadata": {
        "colab": {
          "base_uri": "https://localhost:8080/"
        },
        "id": "3z6DH--96a_V",
        "outputId": "8108f43e-85da-417e-cd7c-8f67bcabe7e5"
      },
      "outputs": [
        {
          "name": "stdout",
          "output_type": "stream",
          "text": [
            "Manually batched\n",
            "87.5 µs ± 520 ns per loop (mean ± std. dev. of 7 runs, 10,000 loops each)\n"
          ]
        }
      ],
      "source": [
        "@jax.jit\n",
        "def batched_apply_matrix(v_batched):\n",
        "  return jnp.dot(v_batched, mat.T)\n",
        "\n",
        "print('Manually batched')\n",
        "%timeit batched_apply_matrix(batched_x).block_until_ready()"
      ]
    },
    {
      "cell_type": "code",
      "execution_count": null,
      "metadata": {
        "colab": {
          "base_uri": "https://localhost:8080/"
        },
        "id": "RqyvNzjp6S7q",
        "outputId": "95b6552c-a839-41b5-d57d-17e64c17b9c6"
      },
      "outputs": [
        {
          "name": "stdout",
          "output_type": "stream",
          "text": [
            "Auto-vectorized with vmap\n",
            "86 µs ± 410 ns per loop (mean ± std. dev. of 7 runs, 10,000 loops each)\n"
          ]
        }
      ],
      "source": [
        "@jax.jit\n",
        "def vmap_batched_apply_matrix(v_batched):\n",
        "  return jax.vmap(apply_matrix)(v_batched)\n",
        "\n",
        "print('Auto-vectorized with vmap')\n",
        "%timeit vmap_batched_apply_matrix(batched_x).block_until_ready()"
      ]
    },
    {
      "cell_type": "markdown",
      "metadata": {
        "id": "-hrqRY_B7a8D"
      },
      "source": [
        "## Parallelization with pmap"
      ]
    },
    {
      "cell_type": "code",
      "execution_count": null,
      "metadata": {
        "colab": {
          "base_uri": "https://localhost:8080/"
        },
        "id": "3nsxw5S57dId",
        "outputId": "4295724c-c503-423c-8dea-4f32cb25be02"
      },
      "outputs": [
        {
          "data": {
            "text/plain": [
              "DeviceArray([11., 20., 29.], dtype=float32)"
            ]
          },
          "execution_count": 3,
          "metadata": {},
          "output_type": "execute_result"
        }
      ],
      "source": [
        "x = np.arange(5)\n",
        "w = np.array([2.0, 3.0, 4.0])\n",
        "\n",
        "\n",
        "def convolve(x, w):\n",
        "    output = []\n",
        "    for i in range(1, len(x) - 1):\n",
        "        output.append(jnp.dot(x[i - 1 : i + 2], w))\n",
        "    return jnp.array(output)\n",
        "\n",
        "\n",
        "convolve(x, w)"
      ]
    },
    {
      "cell_type": "code",
      "execution_count": null,
      "metadata": {
        "colab": {
          "base_uri": "https://localhost:8080/"
        },
        "id": "3SZn5V1lj6nN",
        "outputId": "aceb477d-758c-415d-a621-f382351cc1fd"
      },
      "outputs": [
        {
          "data": {
            "text/plain": [
              "array([[ 0,  1,  2,  3,  4],\n",
              "       [ 5,  6,  7,  8,  9],\n",
              "       [10, 11, 12, 13, 14],\n",
              "       [15, 16, 17, 18, 19],\n",
              "       [20, 21, 22, 23, 24],\n",
              "       [25, 26, 27, 28, 29],\n",
              "       [30, 31, 32, 33, 34],\n",
              "       [35, 36, 37, 38, 39]])"
            ]
          },
          "execution_count": 4,
          "metadata": {},
          "output_type": "execute_result"
        }
      ],
      "source": [
        "n_devices = jax.local_device_count()\n",
        "xs = np.arange(5 * n_devices).reshape(-1, 5)\n",
        "ws = np.stack([w] * n_devices)\n",
        "\n",
        "xs"
      ]
    },
    {
      "cell_type": "code",
      "execution_count": null,
      "metadata": {
        "colab": {
          "base_uri": "https://localhost:8080/"
        },
        "id": "jKbFb9xHkBVJ",
        "outputId": "a9799cae-6528-4bd4-9234-f8bfdd83f28b"
      },
      "outputs": [
        {
          "data": {
            "text/plain": [
              "DeviceArray([[ 11.,  20.,  29.],\n",
              "             [ 56.,  65.,  74.],\n",
              "             [101., 110., 119.],\n",
              "             [146., 155., 164.],\n",
              "             [191., 200., 209.],\n",
              "             [236., 245., 254.],\n",
              "             [281., 290., 299.],\n",
              "             [326., 335., 344.]], dtype=float32)"
            ]
          },
          "execution_count": 5,
          "metadata": {},
          "output_type": "execute_result"
        }
      ],
      "source": [
        "jax.vmap(convolve)(xs, ws)"
      ]
    },
    {
      "cell_type": "code",
      "execution_count": null,
      "metadata": {
        "colab": {
          "base_uri": "https://localhost:8080/"
        },
        "id": "g1ijPKpSEFG_",
        "outputId": "a0f4b3a5-bf52-44fd-f861-153a6df06edc"
      },
      "outputs": [
        {
          "data": {
            "text/plain": [
              "ShardedDeviceArray([[ 11.,  20.,  29.],\n",
              "                    [ 56.,  65.,  74.],\n",
              "                    [101., 110., 119.],\n",
              "                    [146., 155., 164.],\n",
              "                    [191., 200., 209.],\n",
              "                    [236., 245., 254.],\n",
              "                    [281., 290., 299.],\n",
              "                    [326., 335., 344.]], dtype=float32)"
            ]
          },
          "execution_count": 6,
          "metadata": {},
          "output_type": "execute_result"
        }
      ],
      "source": [
        "jax.pmap(convolve)(xs, ws)"
      ]
    },
    {
      "cell_type": "markdown",
      "metadata": {
        "id": "p8rwRLiQHqtB"
      },
      "source": [
        "## Debugging NaNs"
      ]
    },
    {
      "cell_type": "code",
      "execution_count": null,
      "metadata": {
        "colab": {
          "base_uri": "https://localhost:8080/"
        },
        "id": "yfHSFexBHqFn",
        "outputId": "4c6a2931-0e88-426c-8e71-70e5e3f35da7"
      },
      "outputs": [
        {
          "data": {
            "text/plain": [
              "Array(nan, dtype=float32, weak_type=True)"
            ]
          },
          "execution_count": 117,
          "metadata": {},
          "output_type": "execute_result"
        }
      ],
      "source": [
        "jnp.divide(0.0, 0.0)"
      ]
    },
    {
      "cell_type": "code",
      "execution_count": null,
      "metadata": {
        "colab": {
          "base_uri": "https://localhost:8080/",
          "height": 746
        },
        "id": "rLkQtLagIS6t",
        "outputId": "5c047874-bd0f-4e87-a174-0c9c92ea24f6"
      },
      "outputs": [
        {
          "name": "stderr",
          "output_type": "stream",
          "text": [
            "/tmp/ipykernel_23106/4186766748.py:1: DeprecationWarning: Importing the jax.config submodule via `import jax.config` is deprecated. To configure JAX use `import jax` and then reference the config object via `jax.config`.\n",
            "  from jax.config import config\n"
          ]
        },
        {
          "ename": "ImportError",
          "evalue": "cannot import name 'config' from 'jax.config' (/home/j2y/envs/tiny/lib/python3.11/site-packages/jax/config.py)",
          "output_type": "error",
          "traceback": [
            "\u001b[0;31m---------------------------------------------------------------------------\u001b[0m",
            "\u001b[0;31mImportError\u001b[0m                               Traceback (most recent call last)",
            "Cell \u001b[0;32mIn[118], line 1\u001b[0m\n\u001b[0;32m----> 1\u001b[0m \u001b[38;5;28;01mfrom\u001b[39;00m \u001b[38;5;21;01mjax\u001b[39;00m\u001b[38;5;21;01m.\u001b[39;00m\u001b[38;5;21;01mconfig\u001b[39;00m \u001b[38;5;28;01mimport\u001b[39;00m config\n\u001b[1;32m      3\u001b[0m config\u001b[38;5;241m.\u001b[39mupdate(\u001b[38;5;124m\"\u001b[39m\u001b[38;5;124mjax_debug_nans\u001b[39m\u001b[38;5;124m\"\u001b[39m, \u001b[38;5;28;01mTrue\u001b[39;00m)\n\u001b[1;32m      4\u001b[0m jnp\u001b[38;5;241m.\u001b[39mdivide(\u001b[38;5;241m0.0\u001b[39m, \u001b[38;5;241m0.0\u001b[39m)\n",
            "\u001b[0;31mImportError\u001b[0m: cannot import name 'config' from 'jax.config' (/home/j2y/envs/tiny/lib/python3.11/site-packages/jax/config.py)"
          ]
        }
      ],
      "source": [
        "from jax.config import config\n",
        "\n",
        "config.update(\"jax_debug_nans\", True)\n",
        "jnp.divide(0.0, 0.0)"
      ]
    },
    {
      "cell_type": "markdown",
      "metadata": {
        "id": "7cfKTrlEK_Pu"
      },
      "source": [
        "## Double (64bit) precision"
      ]
    },
    {
      "cell_type": "code",
      "execution_count": null,
      "metadata": {
        "colab": {
          "base_uri": "https://localhost:8080/"
        },
        "id": "Twp3YOLOLD-y",
        "outputId": "e0fa31c9-de87-4c99-f3b5-4e10b43376e6"
      },
      "outputs": [
        {
          "name": "stderr",
          "output_type": "stream",
          "text": [
            "/home/j2y/envs/tiny/lib/python3.11/site-packages/jax/_src/numpy/lax_numpy.py:166: UserWarning: Explicitly requested dtype float64 requested in asarray is not available, and will be truncated to dtype float32. To enable more dtypes, set the jax_enable_x64 configuration option or the JAX_ENABLE_X64 shell environment variable. See https://github.com/google/jax#current-gotchas for more.\n",
            "  return asarray(x, dtype=self.dtype)\n"
          ]
        }
      ],
      "source": [
        "x = jnp.float64(1.25844)"
      ]
    },
    {
      "cell_type": "code",
      "execution_count": null,
      "metadata": {
        "colab": {
          "base_uri": "https://localhost:8080/"
        },
        "id": "-PbvtQLMLD7-",
        "outputId": "be7c1f15-2bfb-4fc0-d1cb-e9613479e7f5"
      },
      "outputs": [
        {
          "data": {
            "text/plain": [
              "Array(1.25844, dtype=float32)"
            ]
          },
          "execution_count": 120,
          "metadata": {},
          "output_type": "execute_result"
        }
      ],
      "source": [
        "x"
      ]
    },
    {
      "cell_type": "code",
      "execution_count": null,
      "metadata": {
        "colab": {
          "base_uri": "https://localhost:8080/"
        },
        "id": "E7fQzRznLMuN",
        "outputId": "e6289eb2-367a-46af-a5c4-e82da7b45303"
      },
      "outputs": [
        {
          "ename": "ImportError",
          "evalue": "cannot import name 'config' from 'jax.config' (/home/j2y/envs/tiny/lib/python3.11/site-packages/jax/config.py)",
          "output_type": "error",
          "traceback": [
            "\u001b[0;31m---------------------------------------------------------------------------\u001b[0m",
            "\u001b[0;31mImportError\u001b[0m                               Traceback (most recent call last)",
            "Cell \u001b[0;32mIn[121], line 2\u001b[0m\n\u001b[1;32m      1\u001b[0m \u001b[38;5;66;03m# set this config at the begining of the program\u001b[39;00m\n\u001b[0;32m----> 2\u001b[0m \u001b[38;5;28;01mfrom\u001b[39;00m \u001b[38;5;21;01mjax\u001b[39;00m\u001b[38;5;21;01m.\u001b[39;00m\u001b[38;5;21;01mconfig\u001b[39;00m \u001b[38;5;28;01mimport\u001b[39;00m config\n\u001b[1;32m      4\u001b[0m config\u001b[38;5;241m.\u001b[39mupdate(\u001b[38;5;124m\"\u001b[39m\u001b[38;5;124mjax_enable_x64\u001b[39m\u001b[38;5;124m\"\u001b[39m, \u001b[38;5;28;01mTrue\u001b[39;00m)\n\u001b[1;32m      5\u001b[0m x \u001b[38;5;241m=\u001b[39m jnp\u001b[38;5;241m.\u001b[39mfloat64(\u001b[38;5;241m1.25844\u001b[39m)\n",
            "\u001b[0;31mImportError\u001b[0m: cannot import name 'config' from 'jax.config' (/home/j2y/envs/tiny/lib/python3.11/site-packages/jax/config.py)"
          ]
        }
      ],
      "source": [
        "# set this config at the begining of the program\n",
        "from jax.config import config\n",
        "\n",
        "config.update(\"jax_enable_x64\", True)\n",
        "x = jnp.float64(1.25844)\n",
        "x"
      ]
    },
    {
      "cell_type": "markdown",
      "metadata": {
        "id": "UMf3fgekwQlj"
      },
      "source": [
        "## PyTrees"
      ]
    },
    {
      "cell_type": "code",
      "execution_count": null,
      "metadata": {
        "id": "H_L1oyPRwSnR"
      },
      "outputs": [],
      "source": [
        "example_trees = [\n",
        "    [1, \"a\", object()],\n",
        "    (1, (2, 3), ()),\n",
        "    [1, {\"k1\": 2, \"k2\": (3, 4)}, 5],\n",
        "    {\"a\": 2, \"b\": (2, 3)},\n",
        "    jnp.array([1, 2, 3]),\n",
        "    None,\n",
        "]"
      ]
    },
    {
      "cell_type": "code",
      "execution_count": null,
      "metadata": {
        "colab": {
          "base_uri": "https://localhost:8080/"
        },
        "id": "g_YY86tvO6ce",
        "outputId": "5b1b7bfe-68b2-48de-bfc2-64d0684d2ca8"
      },
      "outputs": [
        {
          "name": "stdout",
          "output_type": "stream",
          "text": [
            "[1, 'a', <object object at 0x7ca98c4de670>]   has 3 leaves: [1, 'a', <object object at 0x7ca98c4de670>]\n",
            "(1, (2, 3), ())                               has 3 leaves: [1, 2, 3]\n",
            "[1, {'k1': 2, 'k2': (3, 4)}, 5]               has 5 leaves: [1, 2, 3, 4, 5]\n",
            "{'a': 2, 'b': (2, 3)}                         has 3 leaves: [2, 2, 3]\n",
            "Array([1, 2, 3], dtype=int32)                 has 1 leaves: [Array([1, 2, 3], dtype=int32)]\n",
            "None                                          has 0 leaves: []\n"
          ]
        }
      ],
      "source": [
        "# Let's see how many leaves they have:\n",
        "for pytree in example_trees:\n",
        "    leaves = jax.tree.leaves(pytree)\n",
        "    print(f\"{repr(pytree):<45} has {len(leaves)} leaves: {leaves}\")"
      ]
    },
    {
      "cell_type": "markdown",
      "metadata": {
        "id": "9vnE60MYZIzW"
      },
      "source": [
        "## Where to go from here\n",
        "Follow us on [LinkedIn](https://www.linkedin.com/company/mlnuggets), [Twitter](https://twitter.com/ml_nuggets), [GitHub](https://github.com/mlnuggets) and subscribe to our [blog](https://www.machinelearningnuggets.com/#/portal) so that you don't miss a new issue."
      ]
    },
    {
      "cell_type": "code",
      "execution_count": null,
      "metadata": {
        "id": "oRpCYdUTk_Yl",
        "pycharm": {
          "name": "#%%\n"
        }
      },
      "outputs": [
        {
          "data": {
            "text/plain": [
              "Array(9, dtype=int32)"
            ]
          },
          "execution_count": 125,
          "metadata": {},
          "output_type": "execute_result"
        }
      ],
      "source": [
        "jnp.arange(10)[11]"
      ]
    },
    {
      "cell_type": "code",
      "execution_count": null,
      "metadata": {},
      "outputs": [
        {
          "data": {
            "text/plain": [
              "Array(9., dtype=float32)"
            ]
          },
          "execution_count": 127,
          "metadata": {},
          "output_type": "execute_result"
        }
      ],
      "source": [
        "jnp.arange(10.0).at[11].get()"
      ]
    },
    {
      "cell_type": "code",
      "execution_count": null,
      "metadata": {},
      "outputs": [
        {
          "name": "stderr",
          "output_type": "stream",
          "text": [
            "/home/j2y/envs/tiny/lib/python3.11/site-packages/jax/_src/lax/lax.py:2481: RuntimeWarning: invalid value encountered in cast\n",
            "  out = np.array(c).astype(eqn.params['new_dtype'])\n"
          ]
        },
        {
          "data": {
            "text/plain": [
              "Array(-2147483648, dtype=int32)"
            ]
          },
          "execution_count": 126,
          "metadata": {},
          "output_type": "execute_result"
        }
      ],
      "source": [
        "jnp.arange(10).at[11].get(mode=\"fill\", fill_value=jnp.nan)"
      ]
    },
    {
      "cell_type": "code",
      "execution_count": null,
      "metadata": {},
      "outputs": [
        {
          "data": {
            "text/plain": [
              "Array(6, dtype=int32)"
            ]
          },
          "execution_count": 129,
          "metadata": {},
          "output_type": "execute_result"
        }
      ],
      "source": [
        "jnp.sum(jnp.array([1, 2, 3]))"
      ]
    },
    {
      "cell_type": "code",
      "execution_count": null,
      "metadata": {},
      "outputs": [],
      "source": []
    }
  ],
  "metadata": {
    "accelerator": "TPU",
    "colab": {
      "name": "JAX 101",
      "provenance": []
    },
    "gpuClass": "standard",
    "kernelspec": {
      "display_name": "Python 3 (ipykernel)",
      "language": "python",
      "name": "python3"
    },
    "language_info": {
      "codemirror_mode": {
        "name": "ipython",
        "version": 3
      },
      "file_extension": ".py",
      "mimetype": "text/x-python",
      "name": "python",
      "nbconvert_exporter": "python",
      "pygments_lexer": "ipython3",
      "version": "3.11.9"
    }
  },
  "nbformat": 4,
  "nbformat_minor": 0
}
