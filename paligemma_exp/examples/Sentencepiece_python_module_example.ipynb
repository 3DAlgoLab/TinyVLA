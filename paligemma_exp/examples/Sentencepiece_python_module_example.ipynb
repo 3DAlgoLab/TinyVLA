{
  "cells": [
    {
      "cell_type": "markdown",
      "metadata": {
        "id": "T9BDzLVkUFT4"
      },
      "source": [
        "# Sentencepiece python module\n",
        "\n",
        "\n",
        "This notebook describes comprehensive examples of sentencepiece Python module.\n",
        "Since Python module calls C++ API through SWIG,  this document is also useful for developing C++ client."
      ]
    },
    {
      "cell_type": "markdown",
      "metadata": {
        "id": "kIgXb6P2Yg6g"
      },
      "source": [
        "## Install and data preparation\n",
        "\n",
        "We use the small training data (botchan.txt) in this example.\n",
        "([Botchan](https://en.wikipedia.org/wiki/Botchan) is a novel written by Natsume Sōseki in 1906.  The sample is English-translated one.)"
      ]
    },
    {
      "cell_type": "code",
      "execution_count": 1,
      "metadata": {
        "colab": {
          "base_uri": "https://localhost:8080/"
        },
        "id": "SUcAbKnRVAv6",
        "outputId": "396a27eb-3e16-4efa-f993-1a87819bc10c"
      },
      "outputs": [
        {
          "name": "stdout",
          "output_type": "stream",
          "text": [
            "Requirement already satisfied: sentencepiece in /usr/local/lib/python3.10/dist-packages (0.1.99)\n",
            "--2024-06-04 06:24:27--  https://raw.githubusercontent.com/google/sentencepiece/master/data/botchan.txt\n",
            "Resolving raw.githubusercontent.com (raw.githubusercontent.com)... 185.199.108.133, 185.199.109.133, 185.199.110.133, ...\n",
            "Connecting to raw.githubusercontent.com (raw.githubusercontent.com)|185.199.108.133|:443... connected.\n",
            "HTTP request sent, awaiting response... 200 OK\n",
            "Length: 278779 (272K) [text/plain]\n",
            "Saving to: ‘botchan.txt’\n",
            "\n",
            "botchan.txt         100%[===================>] 272.25K  --.-KB/s    in 0.04s   \n",
            "\n",
            "2024-06-04 06:24:28 (7.06 MB/s) - ‘botchan.txt’ saved [278779/278779]\n",
            "\n"
          ]
        }
      ],
      "source": [
        "!pip install sentencepiece\n",
        "!wget https://raw.githubusercontent.com/google/sentencepiece/master/data/botchan.txt"
      ]
    },
    {
      "cell_type": "markdown",
      "metadata": {
        "id": "-k5KbVgiYae-"
      },
      "source": [
        "## Basic  end-to-end example\n",
        "\n"
      ]
    },
    {
      "cell_type": "code",
      "execution_count": 3,
      "metadata": {
        "colab": {
          "base_uri": "https://localhost:8080/"
        },
        "id": "MKpWUlCm8Fo4",
        "outputId": "3eefbc7e-fd0e-4847-d909-114d9a0d9a2e"
      },
      "outputs": [
        {
          "name": "stdout",
          "output_type": "stream",
          "text": [
            "Collecting icecream\n",
            "  Downloading icecream-2.1.3-py2.py3-none-any.whl (8.4 kB)\n",
            "Collecting colorama>=0.3.9 (from icecream)\n",
            "  Downloading colorama-0.4.6-py2.py3-none-any.whl (25 kB)\n",
            "Requirement already satisfied: pygments>=2.2.0 in /usr/local/lib/python3.10/dist-packages (from icecream) (2.16.1)\n",
            "Collecting executing>=0.3.1 (from icecream)\n",
            "  Downloading executing-2.0.1-py2.py3-none-any.whl (24 kB)\n",
            "Collecting asttokens>=2.0.1 (from icecream)\n",
            "  Downloading asttokens-2.4.1-py2.py3-none-any.whl (27 kB)\n",
            "Requirement already satisfied: six>=1.12.0 in /usr/local/lib/python3.10/dist-packages (from asttokens>=2.0.1->icecream) (1.16.0)\n",
            "Installing collected packages: executing, colorama, asttokens, icecream\n",
            "Successfully installed asttokens-2.4.1 colorama-0.4.6 executing-2.0.1 icecream-2.1.3\n"
          ]
        }
      ],
      "source": [
        "!pip install icecream"
      ]
    },
    {
      "cell_type": "code",
      "execution_count": 4,
      "metadata": {
        "cellView": "code",
        "colab": {
          "base_uri": "https://localhost:8080/",
          "height": 105
        },
        "id": "ee9W6wGnVteW",
        "outputId": "e2c46100-fb5f-48f5-b53b-369d22082bbe"
      },
      "outputs": [
        {
          "name": "stderr",
          "output_type": "stream",
          "text": [
            "ic| sp.encode_as_pieces('This is a test'): ['▁This', '▁is', '▁a', '▁t', 'est']\n",
            "ic| sp.encode_as_ids('This is a test'): [208, 31, 9, 434, 601]\n",
            "ic| sp.decode_pieces(['▁This', '▁is', '▁a', '▁t', 'est']): 'This is a test'\n",
            "ic| sp.decode_ids([209, 31, 9, 375, 586]): 'il is a con live'\n"
          ]
        },
        {
          "data": {
            "application/vnd.google.colaboratory.intrinsic+json": {
              "type": "string"
            },
            "text/plain": [
              "'il is a con live'"
            ]
          },
          "execution_count": 4,
          "metadata": {},
          "output_type": "execute_result"
        }
      ],
      "source": [
        "import sentencepiece as spm\n",
        "from icecream import ic\n",
        "\n",
        "# train sentencepiece model from `botchan.txt` and makes `m.model` and `m.vocab`\n",
        "# `m.vocab` is just a reference. not used in the segmentation.\n",
        "spm.SentencePieceTrainer.train(\"--input=botchan.txt --model_prefix=m --vocab_size=2000\")\n",
        "\n",
        "# makes segmenter instance and loads the model file (m.model)\n",
        "sp = spm.SentencePieceProcessor()\n",
        "sp.load(\"m.model\")\n",
        "\n",
        "# encode: text => id\n",
        "ic(sp.encode_as_pieces(\"This is a test\"))\n",
        "ic(sp.encode_as_ids(\"This is a test\"))\n",
        "\n",
        "# decode: id => text\n",
        "ic(sp.decode_pieces([\"▁This\", \"▁is\", \"▁a\", \"▁t\", \"est\"]))\n",
        "ic(sp.decode_ids([209, 31, 9, 375, 586]))"
      ]
    },
    {
      "cell_type": "code",
      "execution_count": 6,
      "metadata": {
        "colab": {
          "base_uri": "https://localhost:8080/",
          "height": 53
        },
        "id": "IStevyIz8agR",
        "outputId": "4ed49e02-6a7d-45d5-c91b-c3d6bc09d8aa"
      },
      "outputs": [
        {
          "name": "stderr",
          "output_type": "stream",
          "text": [
            "ic| sp.decode_ids([208, 31, 9, 434, 601]): 'This is a test'\n"
          ]
        },
        {
          "data": {
            "application/vnd.google.colaboratory.intrinsic+json": {
              "type": "string"
            },
            "text/plain": [
              "'This is a test'"
            ]
          },
          "execution_count": 6,
          "metadata": {},
          "output_type": "execute_result"
        }
      ],
      "source": [
        "ic(sp.decode_ids([208, 31, 9, 434, 601]))"
      ]
    },
    {
      "cell_type": "code",
      "execution_count": 7,
      "metadata": {
        "colab": {
          "base_uri": "https://localhost:8080/"
        },
        "id": "4vHnQbBOltZo",
        "outputId": "417d6da9-5c1f-4ff4-abed-2e4e76b589ab"
      },
      "outputs": [
        {
          "name": "stderr",
          "output_type": "stream",
          "text": [
            "ic| sp.get_piece_size(): 2000\n",
            "ic| sp.id_to_piece(209): 'il'\n",
            "ic| sp.piece_to_id('▁This'): 208\n",
            "ic| sp.piece_to_id('__MUST_BE_UNKNOWN__'): 0\n",
            "ic| sp.id_to_piece(id): '<unk>', sp.is_control(id): False\n",
            "ic| sp.id_to_piece(id): '<s>', sp.is_control(id): True\n",
            "ic| sp.id_to_piece(id): '</s>', sp.is_control(id): True\n"
          ]
        }
      ],
      "source": [
        "# returns vocab size\n",
        "ic(sp.get_piece_size())\n",
        "\n",
        "# id <=> piece conversion\n",
        "ic(sp.id_to_piece(209))\n",
        "ic(sp.piece_to_id(\"▁This\"))\n",
        "\n",
        "# returns 0 for unknown tokens (we can change the id for UNK)\n",
        "ic(sp.piece_to_id(\"__MUST_BE_UNKNOWN__\"))\n",
        "\n",
        "# <unk>, <s>, </s> are defined by default. Their ids are (0, 1, 2)\n",
        "# <s> and </s> are defined as 'control' symbol.\n",
        "for id in range(3):\n",
        "    ic(sp.id_to_piece(id), sp.is_control(id))"
      ]
    },
    {
      "cell_type": "markdown",
      "metadata": {
        "id": "MRv6EeC2Y2PE"
      },
      "source": [
        "## Loads model from byte stream\n",
        "\n",
        "Sentencepiece's model file is just a serialized [protocol buffer](https://developers.google.com/protocol-buffers/). We can instantiate sentencepiece processor from byte object with **load_from_serialized_proto** method."
      ]
    },
    {
      "cell_type": "code",
      "execution_count": 8,
      "metadata": {
        "colab": {
          "base_uri": "https://localhost:8080/"
        },
        "id": "0Bdi9SuxYAud",
        "outputId": "42f7d53a-1cd1-41d0-9bb8-cac58e317b0f"
      },
      "outputs": [
        {
          "name": "stdout",
          "output_type": "stream",
          "text": [
            "['▁this', '▁is', '▁a', '▁t', 'est']\n"
          ]
        }
      ],
      "source": [
        "import tensorflow as tf\n",
        "\n",
        "# Assumes that m.model is stored in non-Posix file system.\n",
        "serialized_model_proto = tf.io.gfile.GFile(\"m.model\", \"rb\").read()\n",
        "\n",
        "sp = spm.SentencePieceProcessor()\n",
        "sp.load_from_serialized_proto(serialized_model_proto)\n",
        "\n",
        "print(sp.encode_as_pieces(\"this is a test\"))"
      ]
    },
    {
      "cell_type": "markdown",
      "metadata": {
        "id": "imfPyYlVZmxz"
      },
      "source": [
        "## User defined and control symbols\n",
        "\n",
        "We can define special tokens (symbols) to tweak the DNN behavior through the tokens.   Typical examples are  [BERT](https://arxiv.org/abs/1810.04805)'s special symbols., e.g., [SEP] and [CLS].\n",
        "\n",
        "There are two types of special tokens:\n",
        "\n",
        "- **user defined symbols**: Always treated as one token in any context. These symbols can appear in the input sentence.\n",
        "- **control symbol**:  We only reserve ids for these tokens. Even if these tokens appear in the input text, they are not handled as one token. User needs to insert ids explicitly after encoding.\n",
        "\n",
        "For experimental purposes, user defined symbols are easier to use since user can change the behavior just by modifying the input text. However,  we want to use control symbols in the production setting in order to avoid users from tweaking the behavior by feeding these special symbols in their input text."
      ]
    },
    {
      "cell_type": "code",
      "execution_count": null,
      "metadata": {
        "colab": {
          "base_uri": "https://localhost:8080/",
          "height": 110
        },
        "id": "dngckiPMcWbA",
        "outputId": "e52883b1-6452-4a90-8802-945c9ac9d5b5"
      },
      "outputs": [
        {
          "name": "stdout",
          "output_type": "stream",
          "text": [
            "['▁this', '▁is', '▁a', '▁t', 'est', '<sep>', '▁he', 'll', 'o', '▁world', '<cls>']\n",
            "3\n",
            "4\n",
            "3= <sep>\n",
            "4= <cls>\n"
          ]
        }
      ],
      "source": [
        "# Example of user defined symbols\n",
        "spm.SentencePieceTrainer.train(\n",
        "    \"--input=botchan.txt --model_prefix=m_user --user_defined_symbols=<sep>,<cls> --vocab_size=2000\"\n",
        ")\n",
        "\n",
        "sp_user = spm.SentencePieceProcessor()\n",
        "sp_user.load(\"m_user.model\")\n",
        "\n",
        "# ids are reserved in both mode.\n",
        "# <unk>=0, <s>=1, </s>=2, <sep>=3, <cls>=4\n",
        "# user defined symbols allow these symbols to appear in the text.\n",
        "print(sp_user.encode_as_pieces(\"this is a test<sep> hello world<cls>\"))\n",
        "print(sp_user.piece_to_id(\"<sep>\"))  # 3\n",
        "print(sp_user.piece_to_id(\"<cls>\"))  # 4\n",
        "print(\"3=\", sp_user.decode_ids([3]))  # decoded to <sep>\n",
        "print(\"4=\", sp_user.decode_ids([4]))  # decoded to <cls>"
      ]
    },
    {
      "cell_type": "code",
      "execution_count": null,
      "metadata": {
        "colab": {
          "base_uri": "https://localhost:8080/",
          "height": 110
        },
        "id": "5awRJ0y1oYm-",
        "outputId": "a5fa1ef9-ee5f-4f7d-b6bd-b611979b7350"
      },
      "outputs": [
        {
          "name": "stdout",
          "output_type": "stream",
          "text": [
            "['▁this', '▁is', '▁a', '▁t', 'est', '<', 'se', 'p', '>', '▁he', 'll', 'o', '▁world', '<', 'c', 'l', 's', '>']\n",
            "3\n",
            "4\n",
            "3= \n",
            "4= \n"
          ]
        }
      ],
      "source": [
        "# Example of control symbols\n",
        "spm.SentencePieceTrainer.train(\n",
        "    \"--input=botchan.txt --model_prefix=m_ctrl --control_symbols=<sep>,<cls> --vocab_size=2000\"\n",
        ")\n",
        "\n",
        "sp_ctrl = spm.SentencePieceProcessor()\n",
        "sp_ctrl.load(\"m_ctrl.model\")\n",
        "\n",
        "# control symbols just reserve ids.\n",
        "print(sp_ctrl.encode_as_pieces(\"this is a test<sep> hello world<cls>\"))\n",
        "print(sp_ctrl.piece_to_id(\"<sep>\"))  # 3\n",
        "print(sp_ctrl.piece_to_id(\"<cls>\"))  # 4\n",
        "print(\"3=\", sp_ctrl.decode_ids([3]))  # decoded to empty\n",
        "print(\"4=\", sp_ctrl.decode_ids([4]))  # decoded to empty"
      ]
    },
    {
      "cell_type": "markdown",
      "metadata": {
        "id": "8ppZck91s0rq"
      },
      "source": [
        " BOS/EOS (&lt;s&gt;, &lt;/s&gt;) are defined as control symbols, but we can define them as user defined symbols."
      ]
    },
    {
      "cell_type": "code",
      "execution_count": null,
      "metadata": {
        "colab": {
          "base_uri": "https://localhost:8080/",
          "height": 54
        },
        "id": "PQoZ8paVhcEL",
        "outputId": "c17d2ae2-17cd-4875-997c-fe66dba23dde"
      },
      "outputs": [
        {
          "name": "stdout",
          "output_type": "stream",
          "text": [
            "['▁', '<', 's', '>', '▁he', 'll', 'o', '</', 's', '>']\n",
            "['▁', '<s>', '▁he', 'll', 'o', '</s>']\n"
          ]
        }
      ],
      "source": [
        "spm.SentencePieceTrainer.train(\n",
        "    \"--input=botchan.txt --model_prefix=m_bos_as_user --user_defined_symbols=<s>,</s> --vocab_size=2000\"\n",
        ")\n",
        "\n",
        "sp = spm.SentencePieceProcessor()\n",
        "sp.load(\"m.model\")\n",
        "print(\n",
        "    sp.encode_as_pieces(\"<s> hello</s>\")\n",
        ")  # <s>,</s> are segmented. (default behavior)\n",
        "\n",
        "sp = spm.SentencePieceProcessor()\n",
        "sp.load(\"m_bos_as_user.model\")\n",
        "print(sp.encode_as_pieces(\"<s> hello</s>\"))  # <s>,</s> are handled as one token."
      ]
    },
    {
      "cell_type": "markdown",
      "metadata": {
        "id": "RZ2GjO5Tmjk9"
      },
      "source": [
        "## Manipulating BOS/EOS/EOS/PAD symbols\n",
        "\n",
        "BOS, EOS, UNK, and PAD ids can be obtained with **bos_id()**, **eos_id()**,  **unk_id()**, and **pad_id()** methods. We can explicitly insert these ids as follows."
      ]
    },
    {
      "cell_type": "code",
      "execution_count": null,
      "metadata": {
        "colab": {
          "base_uri": "https://localhost:8080/",
          "height": 128
        },
        "id": "UtFQqK3tmp7G",
        "outputId": "03e82bec-be40-4574-ab62-c66cdc3f28a6"
      },
      "outputs": [
        {
          "name": "stdout",
          "output_type": "stream",
          "text": [
            "bos= 1\n",
            "eos= 2\n",
            "unk= 0\n",
            "pad= -1\n",
            "[12, 1828, 1038]\n",
            "[1, 12, 1828, 1038, 2]\n"
          ]
        }
      ],
      "source": [
        "spm.SentencePieceTrainer.train(\"--input=botchan.txt --model_prefix=m --vocab_size=2000\")\n",
        "\n",
        "sp = spm.SentencePieceProcessor()\n",
        "sp.load(\"m.model\")\n",
        "\n",
        "print(\"bos=\", sp.bos_id())\n",
        "print(\"eos=\", sp.eos_id())\n",
        "print(\"unk=\", sp.unk_id())\n",
        "print(\"pad=\", sp.pad_id())  # disabled by default\n",
        "\n",
        "\n",
        "print(sp.encode_as_ids(\"Hello world\"))\n",
        "\n",
        "# Prepend or append bos/eos ids.\n",
        "print([sp.bos_id()] + sp.encode_as_ids(\"Hello world\") + [sp.eos_id()])"
      ]
    },
    {
      "cell_type": "markdown",
      "metadata": {
        "id": "2CLaMlHUh4Dk"
      },
      "source": [
        "## Changing the vocab id and surface representation of UNK/BOS/EOS/PAD symbols\n",
        "\n",
        "By default, UNK/BOS/EOS/PAD tokens and their ids are defined as follows:\n",
        "\n",
        "|token|UNK|BOS|EOS|PAD|\n",
        "---|---\n",
        "|surface|&lt;unk&gt;|&lt;s&gt;|&lt;/s&gt;|&lt;pad&gt;|\n",
        "|id|0|1|2|undefined (-1)|\n",
        "\n",
        "\n",
        "We can change these mappings with **--{unk|bos|eos|pad}_id** and **--{unk|bos|eos|pad}_piece** flags."
      ]
    },
    {
      "cell_type": "code",
      "execution_count": null,
      "metadata": {
        "colab": {
          "base_uri": "https://localhost:8080/",
          "height": 91
        },
        "id": "PKn1f3eih_We",
        "outputId": "a9349dd9-0cd7-49d7-8ed3-5b35658b3116"
      },
      "outputs": [
        {
          "name": "stdout",
          "output_type": "stream",
          "text": [
            "[PAD] True\n",
            "[UNK] False\n",
            "[BOS] True\n",
            "[EOS] True\n"
          ]
        }
      ],
      "source": [
        "spm.SentencePieceTrainer.train(\n",
        "    \"--input=botchan.txt --vocab_size=2000 --model_prefix=m --pad_id=0 --unk_id=1 --bos_id=2 --eos_id=3 --pad_piece=[PAD] --unk_piece=[UNK] --bos_piece=[BOS] --eos_piece=[EOS]\"\n",
        ")\n",
        "sp = spm.SentencePieceProcessor()\n",
        "sp.load(\"m.model\")\n",
        "\n",
        "\n",
        "for id in range(4):\n",
        "    print(sp.id_to_piece(id), sp.is_control(id))"
      ]
    },
    {
      "cell_type": "markdown",
      "metadata": {
        "id": "jPVnkpQstMOw"
      },
      "source": [
        "When -1 is set,  this special symbol is disabled. UNK must not be undefined."
      ]
    },
    {
      "cell_type": "code",
      "execution_count": null,
      "metadata": {
        "colab": {
          "base_uri": "https://localhost:8080/",
          "height": 73
        },
        "id": "59jHBemKlU8b",
        "outputId": "893ce083-7a31-468c-a49c-33d4ba962014"
      },
      "outputs": [
        {
          "name": "stdout",
          "output_type": "stream",
          "text": [
            "0\n",
            "0\n",
            "0\n"
          ]
        }
      ],
      "source": [
        "# Disable BOS/EOS\n",
        "spm.SentencePieceTrainer.train(\n",
        "    \"--input=botchan.txt --vocab_size=2000 --model_prefix=m --bos_id=-1 --eos_id=-1\"\n",
        ")\n",
        "sp = spm.SentencePieceProcessor()\n",
        "sp.load(\"m.model\")\n",
        "\n",
        "# <s>, </s> are UNK.\n",
        "print(sp.unk_id())\n",
        "print(sp.piece_to_id(\"<s>\"))\n",
        "print(sp.piece_to_id(\"</s>\"))"
      ]
    },
    {
      "cell_type": "markdown",
      "metadata": {
        "id": "frGQ-lhkU03z"
      },
      "source": [
        "UNK id is decoded into U+2047\t(⁇) by default.  We can change UNK surface with **--unk_surface=&lt;STR&gt;** flag."
      ]
    },
    {
      "cell_type": "code",
      "execution_count": null,
      "metadata": {
        "colab": {
          "base_uri": "https://localhost:8080/",
          "height": 54
        },
        "id": "S34JDUUAVe41",
        "outputId": "25b0349b-4ddd-40f3-a7fb-1f4810b645c2"
      },
      "outputs": [
        {
          "name": "stdout",
          "output_type": "stream",
          "text": [
            " ⁇ \n",
            "__UNKNOWN__\n"
          ]
        }
      ],
      "source": [
        "spm.SentencePieceTrainer.train(\"--input=botchan.txt --vocab_size=2000 --model_prefix=m\")\n",
        "sp = spm.SentencePieceProcessor()\n",
        "sp.load(\"m.model\")\n",
        "print(sp.decode_ids([sp.unk_id()]))  # default is U+2047\n",
        "\n",
        "spm.SentencePieceTrainer.train(\n",
        "    \"--input=botchan.txt --vocab_size=2000 --model_prefix=m --unk_surface=__UNKNOWN__\"\n",
        ")\n",
        "sp = spm.SentencePieceProcessor()\n",
        "sp.load(\"m.model\")\n",
        "print(sp.decode_ids([sp.unk_id()]))"
      ]
    },
    {
      "cell_type": "markdown",
      "metadata": {
        "id": "5vDXA3Q6kjCS"
      },
      "source": [
        "## Sampling and nbest segmentation for subword regularization\n",
        "\n",
        "When **--model_type=unigram** (default) is used,  we can perform sampling and n-best segmentation for data augmentation. See subword regularization paper [[kudo18]](https://www.google.com/search?q=subword+regularization&rlz=1CAASUL_enJP841&oq=subword+regu&aqs=chrome.0.69i59j69i61j69i57j69i61l2j0.1571j0j7&sourceid=chrome&ie=UTF-8) for more detail."
      ]
    },
    {
      "cell_type": "code",
      "execution_count": null,
      "metadata": {
        "colab": {
          "base_uri": "https://localhost:8080/",
          "height": 388
        },
        "id": "nSQp93qflZO3",
        "outputId": "d5b45b62-2789-4879-b80b-f441e8b594af"
      },
      "outputs": [
        {
          "name": "stdout",
          "output_type": "stream",
          "text": [
            "['▁', 'h', 'e', 'll', 'o', '▁w', 'o', 'r', 'l', 'd']\n",
            "['▁he', 'l', 'l', 'o', '▁world']\n",
            "['▁he', 'l', 'l', 'o', '▁w', 'or', 'l', 'd']\n",
            "['▁', 'he', 'l', 'l', 'o', '▁world']\n",
            "['▁', 'he', 'll', 'o', '▁w', 'o', 'r', 'l', 'd']\n",
            "['▁', 'he', 'll', 'o', '▁world']\n",
            "['▁he', 'll', 'o', '▁world']\n",
            "['▁', 'he', 'll', 'o', '▁world']\n",
            "['▁he', 'll', 'o', '▁w', 'o', 'r', 'l', 'd']\n",
            "['▁', 'h', 'e', 'l', 'l', 'o', '▁w', 'o', 'r', 'l', 'd']\n",
            "[12, 489, 57, 57, 38, 1246, 57, 20]\n",
            "[28, 98, 38, 1038]\n",
            "[12, 489, 98, 38, 12, 151, 105, 57, 20]\n",
            "[12, 489, 98, 38, 1038]\n",
            "[28, 98, 38, 254, 105, 57, 20]\n",
            "[12, 489, 98, 38, 12, 151, 38, 46, 57, 20]\n",
            "[28, 57, 57, 38, 1038]\n",
            "[28, 98, 38, 1038]\n",
            "[12, 96, 351, 57, 38, 1038]\n",
            "[28, 98, 38, 1038]\n"
          ]
        }
      ],
      "source": [
        "spm.SentencePieceTrainer.train(\"--input=botchan.txt --model_prefix=m --vocab_size=2000\")\n",
        "\n",
        "# Can obtain different segmentations per request.\n",
        "# There are two hyperparameters for sampling (nbest_size and inverse temperature). see the paper [kudo18] for detail.\n",
        "for n in range(10):\n",
        "    print(sp.sample_encode_as_pieces(\"hello world\", -1, 0.1))\n",
        "\n",
        "for n in range(10):\n",
        "    print(sp.sample_encode_as_ids(\"hello world\", -1, 0.1))"
      ]
    },
    {
      "cell_type": "code",
      "execution_count": null,
      "metadata": {
        "colab": {
          "base_uri": "https://localhost:8080/",
          "height": 74
        },
        "id": "9V1snUZdlb_v",
        "outputId": "bae2ca99-aca3-4013-c240-53b09a0bb684"
      },
      "outputs": [
        {
          "name": "stdout",
          "output_type": "stream",
          "text": [
            "[['▁he', 'll', 'o', '▁world'], ['▁he', 'l', 'l', 'o', '▁world'], ['▁', 'he', 'll', 'o', '▁world'], ['▁', 'h', 'e', 'll', 'o', '▁world'], ['▁he', 'll', 'o', '▁wor', 'l', 'd'], ['▁', 'he', 'l', 'l', 'o', '▁world'], ['▁', 'h', 'el', 'l', 'o', '▁world'], ['▁he', 'll', 'o', '▁w', 'or', 'l', 'd'], ['▁', 'h', 'e', 'l', 'l', 'o', '▁world'], ['▁he', 'l', 'l', 'o', '▁wor', 'l', 'd']]\n",
            "[[28, 98, 38, 1038], [28, 57, 57, 38, 1038], [12, 489, 98, 38, 1038], [12, 96, 25, 98, 38, 1038], [28, 98, 38, 1246, 57, 20], [12, 489, 57, 57, 38, 1038], [12, 96, 351, 57, 38, 1038], [28, 98, 38, 254, 105, 57, 20], [12, 96, 25, 57, 57, 38, 1038], [28, 57, 57, 38, 1246, 57, 20]]\n"
          ]
        }
      ],
      "source": [
        "# get 10 best\n",
        "print(sp.nbest_encode_as_pieces(\"hello world\", 10))\n",
        "print(sp.nbest_encode_as_ids(\"hello world\", 10))"
      ]
    },
    {
      "cell_type": "markdown",
      "metadata": {
        "id": "cH6cxuVNcDKh"
      },
      "source": [
        "## BPE (Byte pair encoding) model\n",
        "\n",
        "Sentencepiece supports BPE (byte-pair-encoding) for subword segmentation with **--model_type=bpe** flag.   We do not find empirical differences in translation quality between BPE and unigram model, but unigram model can perform sampling and n-best segmentation. See subword regularization paper [[kudo18]](https://www.google.com/search?q=subword+regularization&rlz=1CAASUL_enJP841&oq=subword+regu&aqs=chrome.0.69i59j69i61j69i57j69i61l2j0.1571j0j7&sourceid=chrome&ie=UTF-8) for more detail."
      ]
    },
    {
      "cell_type": "code",
      "execution_count": null,
      "metadata": {
        "colab": {
          "base_uri": "https://localhost:8080/",
          "height": 73
        },
        "id": "MNQxuX4Mc0KY",
        "outputId": "a6ed3e99-46c3-4c5e-dc8e-80394e17e363"
      },
      "outputs": [
        {
          "name": "stdout",
          "output_type": "stream",
          "text": [
            "*** BPE ***\n",
            "['▁this', 'is', 'at', 'est', 'he', 'llow', 'or', 'ld']\n",
            "[]\n"
          ]
        }
      ],
      "source": [
        "spm.SentencePieceTrainer.train(\n",
        "    \"--input=botchan.txt --model_prefix=m_bpe --vocab_size=2000 --model_type=bpe\"\n",
        ")\n",
        "sp_bpe = spm.SentencePieceProcessor()\n",
        "sp_bpe.load(\"m_bpe.model\")\n",
        "\n",
        "print(\"*** BPE ***\")\n",
        "print(sp_bpe.encode_as_pieces(\"thisisatesthelloworld\"))\n",
        "print(sp_bpe.nbest_encode_as_pieces(\"hello world\", 5))  # returns an empty list."
      ]
    },
    {
      "cell_type": "code",
      "execution_count": null,
      "metadata": {
        "colab": {
          "base_uri": "https://localhost:8080/",
          "height": 93
        },
        "id": "EZrj1zCkvK8v",
        "outputId": "8d5421d9-9b89-440d-c91a-f03c081947d9"
      },
      "outputs": [
        {
          "name": "stdout",
          "output_type": "stream",
          "text": [
            "*** Unigram ***\n",
            "['▁this', 'is', 'ate', 's', 'the', 'llow', 'or', 'l', 'd']\n",
            "[['▁this', 'is', 'ate', 's', 'the', 'llow', 'or', 'l', 'd'], ['▁this', 'i', 's', 'ate', 's', 'the', 'llow', 'or', 'l', 'd'], ['▁this', 'is', 'ate', 'st', 'he', 'llow', 'or', 'l', 'd'], ['▁this', 'is', 'at', 'es', 'the', 'llow', 'or', 'l', 'd'], ['▁this', 'is', 'at', 'est', 'he', 'llow', 'or', 'l', 'd']]\n"
          ]
        }
      ],
      "source": [
        "spm.SentencePieceTrainer.train(\n",
        "    \"--input=botchan.txt --model_prefix=m_unigram --vocab_size=2000 --model_type=unigram\"\n",
        ")\n",
        "sp_unigram = spm.SentencePieceProcessor()\n",
        "sp_unigram.load(\"m_unigram.model\")\n",
        "\n",
        "print(\"*** Unigram ***\")\n",
        "print(sp_unigram.encode_as_pieces(\"thisisatesthelloworld\"))\n",
        "print(sp_unigram.nbest_encode_as_pieces(\"thisisatesthelloworld\", 5))"
      ]
    },
    {
      "cell_type": "markdown",
      "metadata": {
        "id": "yJXHCoAHoZWg"
      },
      "source": [
        "## Character and word model\n",
        "\n",
        "Sentencepiece supports character and word segmentation with **--model_type=char** and **--model_type=character** flags.\n",
        "\n",
        "In `word` segmentation, sentencepiece just segments tokens with whitespaces, so the input text must be pre-tokenized.\n",
        "We can apply different segmentation algorithms transparently without changing pre/post processors."
      ]
    },
    {
      "cell_type": "code",
      "execution_count": null,
      "metadata": {
        "colab": {
          "base_uri": "https://localhost:8080/",
          "height": 54
        },
        "id": "pOAOmQGQpBhg",
        "outputId": "0bcfa075-4231-4299-e117-c4d02dae0872"
      },
      "outputs": [
        {
          "name": "stdout",
          "output_type": "stream",
          "text": [
            "['▁', 't', 'h', 'i', 's', '▁', 'i', 's', '▁', 'a', '▁', 't', 'e', 's', 't', '.']\n",
            "[3, 5, 10, 9, 11, 3, 9, 11, 3, 7, 3, 5, 4, 11, 5, 23]\n"
          ]
        }
      ],
      "source": [
        "spm.SentencePieceTrainer.train(\n",
        "    \"--input=botchan.txt --model_prefix=m_char --model_type=char --vocab_size=2000\"\n",
        ")\n",
        "\n",
        "sp_char = spm.SentencePieceProcessor()\n",
        "sp_char.load(\"m_char.model\")\n",
        "\n",
        "print(sp_char.encode_as_pieces(\"this is a test.\"))\n",
        "print(sp_char.encode_as_ids(\"this is a test.\"))"
      ]
    },
    {
      "cell_type": "code",
      "execution_count": null,
      "metadata": {
        "colab": {
          "base_uri": "https://localhost:8080/",
          "height": 54
        },
        "id": "uzBiPAm4ljor",
        "outputId": "299083c5-e453-4a4b-86eb-c1abd0aa34e3"
      },
      "outputs": [
        {
          "name": "stdout",
          "output_type": "stream",
          "text": [
            "['▁this', '▁is', '▁a', '▁test.']\n",
            "[31, 17, 8, 0]\n"
          ]
        }
      ],
      "source": [
        "spm.SentencePieceTrainer.train(\n",
        "    \"--input=botchan.txt --model_prefix=m_word --model_type=word --vocab_size=2000\"\n",
        ")\n",
        "\n",
        "sp_word = spm.SentencePieceProcessor()\n",
        "sp_word.load(\"m_word.model\")\n",
        "\n",
        "print(sp_word.encode_as_pieces(\"this is a test.\"))  # '.' will not be one token.\n",
        "print(sp_word.encode_as_ids(\"this is a test.\"))"
      ]
    },
    {
      "cell_type": "markdown",
      "metadata": {
        "id": "UZvkFnw9pt-D"
      },
      "source": [
        "## Text normalization\n",
        "\n",
        "Sentencepiece provides the following general pre-defined normalization rules. We can change the normalizer with **--normaliation_rule_name=&lt;NAME&gt;** flag.\n",
        "\n",
        "- **nmt_nfkc**: NFKC normalization with some additional normalization around spaces. (default)\n",
        "- **nfkc: original**: NFKC normalization.\n",
        "- **nmt_nfkc_cf**: nmt_nfkc + Unicode case folding (mostly lower casing)\n",
        "- **nfkc_cf**: nfkc + Unicode case folding.\n",
        "- **identity**: no normalization\n",
        "\n"
      ]
    },
    {
      "cell_type": "code",
      "execution_count": null,
      "metadata": {
        "colab": {
          "base_uri": "https://localhost:8080/",
          "height": 36
        },
        "id": "jSJiwIeBqFcO",
        "outputId": "c35ec700-dbb9-4601-9d00-6c04a5eef147"
      },
      "outputs": [
        {
          "name": "stdout",
          "output_type": "stream",
          "text": [
            "['▁', 'hello', '▁world', '.']\n"
          ]
        }
      ],
      "source": [
        "# NFKC normalization and lower casing.\n",
        "spm.SentencePieceTrainer.train(\n",
        "    \"--input=botchan.txt --model_prefix=m --vocab_size=2000 --normalization_rule_name=nfkc_cf\"\n",
        ")\n",
        "\n",
        "sp = spm.SentencePieceProcessor()\n",
        "sp.load(\"m.model\")\n",
        "print(sp.encode_as_pieces(\"ＨＥＬＬＯ　ＷＯＲＬＤ.\"))  # lower casing and normalization"
      ]
    },
    {
      "cell_type": "markdown",
      "metadata": {
        "id": "Fp1QiTjprER4"
      },
      "source": [
        "The normalization is performed with user-defined string-to-string mappings and leftmost longest matching.\n",
        "We can also define the custom normalization rules as TSV file. The TSV files for pre-defined normalization rules can be found in the data directory ([sample](https://raw.githubusercontent.com/google/sentencepiece/master/data/nfkc.tsv)). The normalization rule is compiled into FST and embedded in the model file. We don't need to specify the normalization configuration in the segmentation phase.\n",
        "\n",
        "Here's the example of custom normalization. The TSV file is fed with **--normalization_rule_tsv=&lt;FILE&gt;** flag."
      ]
    },
    {
      "cell_type": "code",
      "execution_count": null,
      "metadata": {
        "colab": {
          "base_uri": "https://localhost:8080/",
          "height": 110
        },
        "id": "xHM5aGYTrfXg",
        "outputId": "b9652d0d-6e03-486b-fe69-710153e4c906"
      },
      "outputs": [
        {
          "name": "stdout",
          "output_type": "stream",
          "text": [
            "U+49 U+27 U+6d\tU+49 U+20 U+61 U+6d\n",
            "U+64 U+6f U+6e U+27 U+74\tU+64 U+6f U+20 U+6e U+6f U+74\n",
            "\n",
            "['▁I', '▁am', '▁bu', 's', 'y']\n",
            "['▁I', '▁do', '▁not', '▁know', '▁it', '.']\n"
          ]
        }
      ],
      "source": [
        "def tocode(s):\n",
        "    out = []\n",
        "    for c in s:\n",
        "        out.append(str(hex(ord(c))).replace(\"0x\", \"U+\"))\n",
        "    return \" \".join(out)\n",
        "\n",
        "\n",
        "# TSV format:  source Unicode code points <tab> target code points\n",
        "# normalize \"don't => do not,  I'm => I am\"\n",
        "with open(\"normalization_rule.tsv\", \"w\") as f:\n",
        "    f.write(tocode(\"I'm\") + \"\\t\" + tocode(\"I am\") + \"\\n\")\n",
        "    f.write(tocode(\"don't\") + \"\\t\" + tocode(\"do not\") + \"\\n\")\n",
        "\n",
        "print(open(\"normalization_rule.tsv\", \"r\").read())\n",
        "\n",
        "spm.SentencePieceTrainer.train(\n",
        "    \"--input=botchan.txt --model_prefix=m --vocab_size=2000 --normalization_rule_tsv=normalization_rule.tsv\"\n",
        ")\n",
        "\n",
        "sp = spm.SentencePieceProcessor()\n",
        "# m.model embeds the normalization rule compiled into an FST.\n",
        "sp.load(\"m.model\")\n",
        "print(sp.encode_as_pieces(\"I'm busy\"))  # normalized to `I am busy'\n",
        "print(sp.encode_as_pieces(\"I don't know it.\"))  # normalized to 'I do not know it.'"
      ]
    },
    {
      "cell_type": "markdown",
      "metadata": {
        "id": "YdSx1bizvSbH"
      },
      "source": [
        "## Randomizing training data\n",
        "\n",
        "Sentencepiece loads all the lines of training data into memory to train the model.  However, larger training data increases the training time and memory usage, though they are linear to the training data. When **--input_sentence_size=&lt;SIZE&gt;** is specified,  Sentencepiece randomly samples &lt;SIZE&gt; lines from the whole training data.   **--shuffle_input_sentence=false** disables the random shuffle and takes the first &lt;SIZE&gt; lines."
      ]
    },
    {
      "cell_type": "code",
      "execution_count": null,
      "metadata": {
        "colab": {
          "base_uri": "https://localhost:8080/",
          "height": 36
        },
        "id": "FZ089HOXwppS",
        "outputId": "607ec114-f443-44e1-ce88-002b5e6deb36"
      },
      "outputs": [
        {
          "data": {
            "text/plain": [
              "['▁this', '▁is', '▁a', '▁t', 'est', '.']"
            ]
          },
          "execution_count": 35,
          "metadata": {
            "tags": []
          },
          "output_type": "execute_result"
        }
      ],
      "source": [
        "spm.SentencePieceTrainer.train(\n",
        "    \"--input=botchan.txt --model_prefix=m --vocab_size=2000 --input_sentence_size=1000\"\n",
        ")\n",
        "\n",
        "sp = spm.SentencePieceProcessor()\n",
        "sp.load(\"m.model\")\n",
        "\n",
        "sp.encode_as_pieces(\"this is a test.\")"
      ]
    },
    {
      "cell_type": "markdown",
      "metadata": {
        "id": "07FMNoCmglil"
      },
      "source": [
        "## Vocabulary restriction\n",
        "\n",
        "We can encode the text only using the tokens specified with **set_vocabulary** method.  The background of this feature is described in [subword-nmt page](https://github.com/rsennrich/subword-nmt#best-practice-advice-for-byte-pair-encoding-in-nmt)."
      ]
    },
    {
      "cell_type": "code",
      "execution_count": null,
      "metadata": {
        "colab": {
          "base_uri": "https://localhost:8080/",
          "height": 73
        },
        "id": "H2soU1eZhdH_",
        "outputId": "b1e725d4-a80b-4741-ef1f-1ef0cd3d2665"
      },
      "outputs": [
        {
          "name": "stdout",
          "output_type": "stream",
          "text": [
            "['▁this', '▁is', '▁a', '▁t', 'est', '.']\n",
            "['▁', 't', 'h', 'i', 's', '▁', 'i', 's', '▁a', '▁', 't', 'e', 's', 't', '.']\n",
            "['▁this', '▁is', '▁a', '▁t', 'est', '.']\n"
          ]
        }
      ],
      "source": [
        "spm.SentencePieceTrainer.train(\"--input=botchan.txt --model_prefix=m --vocab_size=2000\")\n",
        "\n",
        "sp = spm.SentencePieceProcessor()\n",
        "sp.load(\"m.model\")\n",
        "\n",
        "print(sp.encode_as_pieces(\"this is a test.\"))\n",
        "\n",
        "# Gets all tokens as Python list.\n",
        "vocabs = [sp.id_to_piece(id) for id in range(sp.get_piece_size())]\n",
        "\n",
        "# Aggregates the frequency of each token in the training data.\n",
        "freq = {}\n",
        "with open(\"botchan.txt\", \"r\") as f:\n",
        "    for line in f:\n",
        "        line = line.rstrip()\n",
        "        for piece in sp.encode_as_pieces(line):\n",
        "            freq.setdefault(piece, 0)\n",
        "            freq[piece] += 1\n",
        "\n",
        "# only uses the token appearing more than 1000 times in the training data.\n",
        "vocabs = list(filter(lambda x: x in freq and freq[x] > 1000, vocabs))\n",
        "sp.set_vocabulary(vocabs)\n",
        "print(sp.encode_as_pieces(\"this is a test.\"))\n",
        "\n",
        "# reset the restriction\n",
        "sp.reset_vocabulary()\n",
        "print(sp.encode_as_pieces(\"this is a test.\"))"
      ]
    },
    {
      "cell_type": "markdown",
      "metadata": {
        "id": "z8rQLqCTHk40"
      },
      "source": [
        "## Extracting crossing-words pieces\n",
        "\n",
        "Sentencepieces does not extract pieces crossing multiple words (here the `word` means the space delimited tokens). The piece will never contain the whitespace marker (_) in the middle.\n",
        "\n",
        "**--split_by_whtespace=false** disables this restriction and allows to extract pieces crossing multiple words.  In CJK (Chinese/Japanese/Korean), this flag will not affect the final segmentation results so much as  words are not tokenized with whitespaces in CJK."
      ]
    },
    {
      "cell_type": "code",
      "execution_count": null,
      "metadata": {
        "colab": {
          "base_uri": "https://localhost:8080/",
          "height": 147
        },
        "id": "Lf5Fs_pPIKif",
        "outputId": "fc1cff92-bb97-4ab9-c52a-8e3c47d1d88f"
      },
      "outputs": [
        {
          "name": "stdout",
          "output_type": "stream",
          "text": [
            "ed▁to\n",
            "s▁of\n",
            "ing▁the\n",
            "s▁and\n",
            "ed▁by\n",
            "ed▁the\n",
            "ed▁me\n"
          ]
        }
      ],
      "source": [
        "import re\n",
        "\n",
        "spm.SentencePieceTrainer.train(\n",
        "    \"--input=botchan.txt --model_prefix=m --vocab_size=2000 --split_by_whitespace=false\"\n",
        ")\n",
        "\n",
        "sp = spm.SentencePieceProcessor()\n",
        "sp.load(\"m.model\")\n",
        "\n",
        "# Gets all tokens as Python list.\n",
        "vocabs = [sp.id_to_piece(id) for id in range(sp.get_piece_size())]\n",
        "\n",
        "for piece in vocabs[0:500]:\n",
        "    if re.match(\"\\w+▁\\w+\", piece):\n",
        "        print(piece)"
      ]
    },
    {
      "cell_type": "markdown",
      "metadata": {
        "id": "WWjA7yOX1Rlg"
      },
      "source": [
        "## Training sentencepiece model from the word list with frequency\n",
        "\n",
        "We can train the sentencepiece model from the pair of &lt;word, frequency&gt;. First, you make a TSV file where the first column is the word and the second column is the frequency. Then, feed this TSV file with **--input_format=tsv** flag. Note that when feeding TSV as training data, we implicitly assume that **--split_by_whtespace=true**."
      ]
    },
    {
      "cell_type": "code",
      "execution_count": null,
      "metadata": {
        "colab": {
          "base_uri": "https://localhost:8080/",
          "height": 36
        },
        "id": "T7F349Sd2Bzg",
        "outputId": "3453d1f2-2614-4258-ed7d-5a2e230b29ec"
      },
      "outputs": [
        {
          "name": "stdout",
          "output_type": "stream",
          "text": [
            "['▁this', '▁is', '▁a', '▁t', 'est', '.']\n"
          ]
        }
      ],
      "source": [
        "freq = {}\n",
        "with open(\"botchan.txt\", \"r\") as f:\n",
        "    for line in f:\n",
        "        line = line.rstrip()\n",
        "        for piece in line.split():\n",
        "            freq.setdefault(piece, 0)\n",
        "            freq[piece] += 1\n",
        "\n",
        "with open(\"word_freq_list.tsv\", \"w\") as f:\n",
        "    for k, v in freq.items():\n",
        "        f.write(\"%s\\t%d\\n\" % (k, v))\n",
        "\n",
        "spm.SentencePieceTrainer.train(\n",
        "    \"--input=word_freq_list.tsv --input_format=tsv --model_prefix=m --vocab_size=2000\"\n",
        ")\n",
        "sp = spm.SentencePieceProcessor()\n",
        "sp.load(\"m.model\")\n",
        "\n",
        "print(sp.encode_as_pieces(\"this is a test.\"))"
      ]
    },
    {
      "cell_type": "markdown",
      "metadata": {
        "id": "fiWMoTpA-pHx"
      },
      "source": [
        "## Getting byte offsets of tokens\n",
        "\n",
        "Sentencepiece keeps track of byte offset (span) of each token, which is useful for highlighting the token on top of unnormalized text.\n",
        "\n",
        "We first need to install protobuf module as the byte offsets and all other meta data for segementation are encoded in protocol buffer.\n",
        "**encode_as_serialized_proto** method resturns serialized SentencePieceText proto. You can get the deserialized object by calling ParseFromString method.\n",
        "\n",
        "The definition of SentencePieceText proto is found [here](https://github.com/google/sentencepiece/blob/3be3f2e11e2bb923c579c6be5e7335809341587f/src/sentencepiece.proto#L23).\n"
      ]
    },
    {
      "cell_type": "code",
      "execution_count": null,
      "metadata": {
        "colab": {
          "base_uri": "https://localhost:8080/",
          "height": 277
        },
        "id": "JTYrvL6KkmVK",
        "outputId": "1459a127-7aed-4296-f8e6-0c5e76c6c3d6"
      },
      "outputs": [
        {
          "name": "stdout",
          "output_type": "stream",
          "text": [
            "Requirement already satisfied: protobuf in /usr/local/lib/python3.6/dist-packages (3.7.0)\n",
            "Requirement already satisfied: six>=1.9 in /usr/local/lib/python3.6/dist-packages (from protobuf) (1.11.0)\n",
            "Requirement already satisfied: setuptools in /usr/local/lib/python3.6/dist-packages (from protobuf) (40.8.0)\n",
            "--2019-03-27 21:42:35--  https://raw.githubusercontent.com/google/sentencepiece/master/python/sentencepiece_pb2.py\n",
            "Resolving raw.githubusercontent.com (raw.githubusercontent.com)... 151.101.0.133, 151.101.64.133, 151.101.128.133, ...\n",
            "Connecting to raw.githubusercontent.com (raw.githubusercontent.com)|151.101.0.133|:443... connected.\n",
            "HTTP request sent, awaiting response... 200 OK\n",
            "Length: 7382 (7.2K) [text/plain]\n",
            "Saving to: ‘sentencepiece_pb2.py.1’\n",
            "\n",
            "sentencepiece_pb2.p 100%[===================>]   7.21K  --.-KB/s    in 0s      \n",
            "\n",
            "2019-03-27 21:42:35 (52.3 MB/s) - ‘sentencepiece_pb2.py.1’ saved [7382/7382]\n",
            "\n"
          ]
        }
      ],
      "source": [
        "!pip install protobuf"
      ]
    },
    {
      "cell_type": "code",
      "execution_count": null,
      "metadata": {
        "colab": {
          "base_uri": "https://localhost:8080/",
          "height": 463
        },
        "id": "KdRy9sEvk7zw",
        "outputId": "80b1a4e5-8cbb-46bc-9549-e24444328f79"
      },
      "outputs": [
        {
          "name": "stdout",
          "output_type": "stream",
          "text": [
            "text: \"\\357\\275\\210\\357\\275\\205\\357\\275\\214\\357\\275\\214\\357\\275\\217\"\n",
            "pieces {\n",
            "  piece: \"\\342\\226\\201he\"\n",
            "  id: 28\n",
            "  surface: \"\\357\\275\\210\\357\\275\\205\"\n",
            "  begin: 0\n",
            "  end: 6\n",
            "}\n",
            "pieces {\n",
            "  piece: \"ll\"\n",
            "  id: 98\n",
            "  surface: \"\\357\\275\\214\\357\\275\\214\"\n",
            "  begin: 6\n",
            "  end: 12\n",
            "}\n",
            "pieces {\n",
            "  piece: \"o\"\n",
            "  id: 38\n",
            "  surface: \"\\357\\275\\217\"\n",
            "  begin: 12\n",
            "  end: 15\n",
            "}\n",
            "\n"
          ]
        },
        {
          "data": {
            "text/plain": [
              "489"
            ]
          },
          "execution_count": 50,
          "metadata": {
            "tags": []
          },
          "output_type": "execute_result"
        }
      ],
      "source": [
        "from sentencepiece import sentencepiece_pb2\n",
        "\n",
        "spm.SentencePieceTrainer.train(\"--input=botchan.txt --model_prefix=m --vocab_size=2000\")\n",
        "\n",
        "sp = spm.SentencePieceProcessor()\n",
        "sp.load(\"m.model\")\n",
        "\n",
        "# One best result\n",
        "spt = sentencepiece_pb2.SentencePieceText()\n",
        "spt.ParseFromString(sp.encode_as_serialized_proto(\"ｈｅｌｌｏ\"))  # Full width hello\n",
        "\n",
        "# begin/end (offsets) are pointing to the original input.\n",
        "print(spt)\n",
        "\n",
        "# Nbest results\n",
        "nspt = sentencepiece_pb2.NBestSentencePieceText()\n",
        "nspt.ParseFromString(sp.nbest_encode_as_serialized_proto(\"ｈｅｌｌｏ\", 5))\n",
        "# print(nspt)"
      ]
    }
  ],
  "metadata": {
    "colab": {
      "name": "Sentencepiece python module example",
      "provenance": []
    },
    "kernelspec": {
      "display_name": "Python 3",
      "name": "python3"
    },
    "language_info": {
      "name": "python",
      "version": "3.11.9"
    }
  },
  "nbformat": 4,
  "nbformat_minor": 0
}
