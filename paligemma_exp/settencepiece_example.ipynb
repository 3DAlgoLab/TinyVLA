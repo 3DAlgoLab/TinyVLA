{
 "cells": [
  {
   "cell_type": "code",
   "execution_count": 1,
   "metadata": {},
   "outputs": [
    {
     "name": "stdout",
     "output_type": "stream",
     "text": [
      "Tokenizer file: ./paligemma_tokenizer.model is already downloaded\n"
     ]
    }
   ],
   "source": [
    "import sentencepiece as spm\n",
    "import os\n",
    "\n",
    "\n",
    "TOKENIZER_PATH = \"./paligemma_tokenizer.model\"\n",
    "if not os.path.exists(TOKENIZER_PATH):\n",
    "    print(\"Downloading the model tokenizer...\")\n",
    "    !gsutil cp gs://big_vision/paligemma_tokenizer.model {TOKENIZER_PATH}\n",
    "    print(f\"Tokenizer path: {TOKENIZER_PATH}\")\n",
    "else:\n",
    "    print(f\"Tokenizer file: {TOKENIZER_PATH} is already downloaded\")\n"
   ]
  },
  {
   "cell_type": "code",
   "execution_count": 3,
   "metadata": {},
   "outputs": [
    {
     "name": "stdout",
     "output_type": "stream",
     "text": [
      "['This', '▁is', '▁a', '▁test']\n",
      "[1596, 603, 476, 2121]\n",
      " This is a test\n",
      "This is a test\n"
     ]
    }
   ],
   "source": [
    "sp = spm.SentencePieceProcessor(TOKENIZER_PATH)\n",
    "\n",
    "# encode: text => id\n",
    "print(sp.encode_as_pieces(\"This is a test\"))\n",
    "print(sp.encode_as_ids(\"This is a test\"))\n",
    "\n",
    "# decode: id => text\n",
    "print(sp.decode_pieces([\"▁This\", \"▁is\", \"▁a\", \"▁t\", \"est\"]))\n",
    "# print(sp.decode_ids([209, 31, 9, 375, 586]))\n",
    "\n",
    "print(sp.decode_ids([1596, 603, 476, 2121]))"
   ]
  }
 ],
 "metadata": {
  "kernelspec": {
   "display_name": "tiny",
   "language": "python",
   "name": "python3"
  },
  "language_info": {
   "codemirror_mode": {
    "name": "ipython",
    "version": 3
   },
   "file_extension": ".py",
   "mimetype": "text/x-python",
   "name": "python",
   "nbconvert_exporter": "python",
   "pygments_lexer": "ipython3",
   "version": "3.11.9"
  }
 },
 "nbformat": 4,
 "nbformat_minor": 2
}
