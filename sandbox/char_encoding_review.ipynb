{
 "cells": [
  {
   "cell_type": "markdown",
   "metadata": {},
   "source": [
    "# [Python Encoding Guide](https://realpython.com/python-encodings-guide/)\n",
    "\n",
    "# What's character encoding?\n",
    "It encompasses the following:\n",
    "\n",
    "- Lowercase English letters: a through z\n",
    "- Uppercase English letters: A through Z\n",
    "- Some punctuation and symbols: \"$\" and \"!\", to name a couple\n",
    "- Whitespace characters: an actual space (\" \"), as well as a newline, carriage return, horizontal tab, vertical tab, and a few others\n",
    "- Some non-printable characters: characters such as backspace, \"\\b\", that can’t be printed literally in the way that the letter A can\n",
    "\n",
    "\n",
    "So what is a more formal definition of a character encoding?\n",
    "\n",
    "At a very high level, it’s a way of translating characters (such as letters, punctuation, symbols, whitespace, and control characters) to integers and ultimately to bits. \n",
    "Each character can be encoded to a unique sequence of bits. \n",
    "Don’t worry if you’re shaky on the concept of bits, because we’ll get to them shortly.\n",
    "\n",
    "The various categories outlined represent groups of characters. Each single character has a corresponding code point, which you can think of as just an integer. \n",
    "Characters are segmented into different ranges within the ASCII table:\n",
    "\n",
    "\n",
    "Code  Point Range\t | Class\n",
    "-------------------|------\n",
    "0 through 31\t| Control/non-printable characters\n",
    "32 through 64\t| Punctuation, symbols, numbers, and space\n",
    "65 through 90\t| Uppercase English alphabet letters\n",
    "91 through 96\t| Additional graphemes, such as [ and \\\\\n",
    "97 through 122 |\tLowercase English alphabet letters\n",
    "123 through 126\t|Additional graphemes, such as { and \\|\n",
    "127\t| Control/non-printable character (DEL)\n",
    "\n",
    "The entire ASCII table contains 128 characters. \n",
    "This table captures the complete character set that ASCII permits. \n",
    "If you don’t see a character here, then you simply can’t express it as printed text under the ASCII encoding scheme."
   ]
  },
  {
   "cell_type": "code",
   "execution_count": 1,
   "metadata": {},
   "outputs": [],
   "source": [
    "# From lib/python3.7/string.py\n",
    "from icecream import ic\n",
    "\n",
    "whitespace = \" \\t\\n\\r\\v\\f\"\n",
    "ascii_lowercase = \"abcdefghijklmnopqrstuvwxyz\"\n",
    "ascii_uppercase = \"ABCDEFGHIJKLMNOPQRSTUVWXYZ\"\n",
    "ascii_letters = ascii_lowercase + ascii_uppercase\n",
    "\n",
    "digits = \"0123456789\"\n",
    "hexdigits = digits + \"abcdef\" + \"ABCDEF\"\n",
    "octdigits = \"01234567\"\n",
    "\n",
    "punctuation = r\"\"\"!\"#$%&'()*+,-./:;<=>?@[\\]^_`{|}~\"\"\"\n",
    "\n",
    "printable = digits + ascii_letters + punctuation + whitespace"
   ]
  },
  {
   "cell_type": "code",
   "execution_count": 2,
   "metadata": {},
   "outputs": [
    {
     "data": {
      "text/plain": [
       "\"What's wrong with ASCII\""
      ]
     },
     "execution_count": 2,
     "metadata": {},
     "output_type": "execute_result"
    }
   ],
   "source": [
    "import string\n",
    "\n",
    "s = \"What's wrong with ASCII?!?!?\"\n",
    "s.rstrip(string.punctuation)"
   ]
  },
  {
   "cell_type": "markdown",
   "metadata": {},
   "source": [
    "**Note**: string.printable includes all of `string.whitespace`. This disagrees slightly with another method for testing whether a character is considered printable, namely `str.isprintable()`, which will tell you that none of {'\\v', '\\n', '\\r', '\\f', '\\t'} are considered printable.\n",
    "\n",
    "The subtle difference is because of definition: `str.isprintable()` considers something printable if “all of its characters are considered printable in `repr()`.”"
   ]
  },
  {
   "cell_type": "code",
   "execution_count": 3,
   "metadata": {},
   "outputs": [
    {
     "name": "stdout",
     "output_type": "stream",
     "text": [
      "' \\t\\n\\r\\x0b\\x0c'\n"
     ]
    },
    {
     "data": {
      "text/plain": [
       "(' \\t\\n\\r\\x0b\\x0c', 'abcdefghijklmnopqrstuvwxyz')"
      ]
     },
     "execution_count": 3,
     "metadata": {},
     "output_type": "execute_result"
    }
   ],
   "source": [
    "print(string.whitespace.__repr__())\n",
    "\n",
    "(string.whitespace, string.ascii_lowercase)"
   ]
  },
  {
   "cell_type": "markdown",
   "metadata": {},
   "source": []
  },
  {
   "cell_type": "code",
   "execution_count": 4,
   "metadata": {},
   "outputs": [
    {
     "name": "stdout",
     "output_type": "stream",
     "text": [
      "True\n",
      "False\n",
      "False\n",
      "False\n",
      "False\n",
      "False\n"
     ]
    }
   ],
   "source": [
    "for i in string.whitespace:\n",
    "    print(str.isprintable(i))"
   ]
  },
  {
   "cell_type": "markdown",
   "metadata": {},
   "source": [
    "Here’s a handy way to represent ASCII strings as sequences of bits in Python. \n",
    "- Each character from the ASCII string gets **pseudo-encoded** into 8 bits, with spaces in between the 8-bit sequences that each represent a single character:\n",
    "- `ord` return the unicode code point for a one-character string"
   ]
  },
  {
   "cell_type": "code",
   "execution_count": 5,
   "metadata": {},
   "outputs": [
    {
     "data": {
      "text/plain": [
       "'01100010 01101001 01110100 01110011'"
      ]
     },
     "execution_count": 5,
     "metadata": {},
     "output_type": "execute_result"
    }
   ],
   "source": [
    "def make_bitseq(s: str) -> str:\n",
    "    if not s.isascii():\n",
    "        raise ValueError(\"ASCII only allowed\")\n",
    "    return \" \".join(f\"{ord(i):08b}\" for i in s)\n",
    "\n",
    "\n",
    "make_bitseq(\"bits\")"
   ]
  },
  {
   "cell_type": "code",
   "execution_count": 6,
   "metadata": {},
   "outputs": [
    {
     "name": "stderr",
     "output_type": "stream",
     "text": [
      "ic| string.ascii_letters: 'abcdefghijklmnopqrstuvwxyzABCDEFGHIJKLMNOPQRSTUVWXYZ'\n"
     ]
    },
    {
     "data": {
      "text/plain": [
       "True"
      ]
     },
     "execution_count": 6,
     "metadata": {},
     "output_type": "execute_result"
    }
   ],
   "source": [
    "from icecream import ic\n",
    "\n",
    "ic(string.ascii_letters)\n",
    "str.isascii(\"]\")"
   ]
  },
  {
   "cell_type": "markdown",
   "metadata": {},
   "source": [
    "The f-string `f\"{ord(i):08b}\"` uses Python’s Format Specification Mini-Language, which is a way of specifying formatting for replacement fields in format strings:\n",
    "\n",
    "The left side of the colon, ord(i), is the actual object whose value will be formatted and inserted into the output. Using the Python `ord()` function gives you **the base-10 code point for a single str character**.\n",
    "\n",
    "The right hand side of the colon is the format specifier. **08 means width 8, 0 padded**, and the `b` functions as a sign to output the resulting number in base 2 (binary)."
   ]
  },
  {
   "cell_type": "code",
   "execution_count": 7,
   "metadata": {},
   "outputs": [
    {
     "name": "stderr",
     "output_type": "stream",
     "text": [
      "ic| f\"{5:08b}\": '00000101'\n"
     ]
    },
    {
     "data": {
      "text/plain": [
       "'00000101'"
      ]
     },
     "execution_count": 7,
     "metadata": {},
     "output_type": "execute_result"
    }
   ],
   "source": [
    "make_bitseq(\"1\")\n",
    "ic(f\"{5:08b}\")"
   ]
  },
  {
   "cell_type": "markdown",
   "metadata": {},
   "source": [
    "# We need More Bits!\n"
   ]
  },
  {
   "cell_type": "code",
   "execution_count": 8,
   "metadata": {},
   "outputs": [
    {
     "data": {
      "text/plain": [
       "(8, 7)"
      ]
     },
     "execution_count": 8,
     "metadata": {},
     "output_type": "execute_result"
    }
   ],
   "source": [
    "from math import ceil, log\n",
    "\n",
    "\n",
    "def n_bits_required(nvalues: int):\n",
    "    return ceil(log(nvalues, 2))\n",
    "\n",
    "\n",
    "(n_bits_required(256), n_bits_required(110))"
   ]
  },
  {
   "cell_type": "code",
   "execution_count": 9,
   "metadata": {},
   "outputs": [
    {
     "name": "stderr",
     "output_type": "stream",
     "text": [
      "ic| int(\"11\"): 11\n",
      "ic| int(\"11\", base=10): 11\n",
      "ic| int(\"11\", base=2): 3\n",
      "ic| int(\"11\", base=8): 9\n",
      "ic| int(\"11\", base=16): 17\n",
      "ic| None\n"
     ]
    }
   ],
   "source": [
    "ic(int(\"11\"))\n",
    "ic(int(\"11\", base=10))  # 10 is already default\n",
    "ic(int(\"11\", base=2))  # Binary\n",
    "ic(int(\"11\", base=8))  # Octal\n",
    "ic(int(\"11\", base=16))  # Hex\n",
    "ic(None)"
   ]
  },
  {
   "cell_type": "code",
   "execution_count": 10,
   "metadata": {},
   "outputs": [
    {
     "name": "stderr",
     "output_type": "stream",
     "text": [
      "ic| 11\n",
      "ic| 3\n",
      "ic| 9\n",
      "ic| 17\n"
     ]
    },
    {
     "data": {
      "text/plain": [
       "17"
      ]
     },
     "execution_count": 10,
     "metadata": {},
     "output_type": "execute_result"
    }
   ],
   "source": [
    "ic(11)\n",
    "\n",
    "ic(0b11)  # Binary literal\n",
    "\n",
    "ic(0o11)  # Octal literal\n",
    "\n",
    "ic(0x11)  # Hex literal"
   ]
  },
  {
   "cell_type": "markdown",
   "metadata": {},
   "source": [
    "# Enter Unicode\n",
    "As you saw, the problem with ASCII is that it’s not nearly a big enough set of characters to accommodate the world’s set of languages, dialects, symbols, and glyphs. (It’s not even big enough for English alone.)\n",
    "\n",
    "Unicode fundamentally serves the same purpose as ASCII, but it just encompasses a way, way, way bigger set of code points. There are a handful of encodings that emerged chronologically between ASCII and Unicode, but they are not really worth mentioning just yet because Unicode and one of its encoding schemes, **UTF-8**, has become so predominantly used.\n",
    "\n",
    "Think of Unicode as a massive version of the ASCII table—one that has 1,114,112 possible code points. \n",
    "- That’s 0 through 1,114,111, or 0 through 17 * (216) - 1, or 0x10ffff hexadecimal. \n",
    "- In fact, ASCII is a perfect subset of Unicode. \n",
    "  - The first 128 characters in the Unicode table correspond precisely to the ASCII characters that you’d reasonably expect them to.\n",
    "\n",
    "In the interest of being technically exacting, Unicode itself is not an **encoding**. \n",
    "- Rather, Unicode is implemented by different character encodings, which you’ll see soon. \n",
    "- Unicode is better thought of as _a map (something like a dict)_ or a 2-column database table. \n",
    "- It maps characters (like \"a\", \"¢\", or even \"ቈ\") to distinct, positive integers. \n",
    "- A character encoding needs to offer a bit more.\n",
    "\n",
    "Unicode contains virtually every character that you can imagine, including additional non-printable ones too. One of my favorites is the pesky right-to-left mark, which has code point 8207 and is used in text with both left-to-right and right-to-left language scripts, such as an article containing both English and Arabic paragraphs.\n",
    "\n",
    "**Note**: The world of character encodings is one of many fine-grained technical details over which some people love to nitpick about.(문자 인코딩의 세계는 세세한 기술적 세부 사항 중 하나로, 일부 사람들은 이를 까다롭게 따지는 것을 좋아합니다.) One such detail is that only 1,111,998 of the Unicode code points are actually usable, due to a couple of archaic reasons."
   ]
  },
  {
   "attachments": {
    "image-2.png": {
     "image/png": "[encoded data removed]"
    }
   },
   "cell_type": "markdown",
   "metadata": {},
   "source": [
    "# Unicode vs UTF-8\n",
    "It didn’t take long for people to realize that all of the world’s characters could not be packed into one byte each. It’s evident from this that modern, more comprehensive encodings would need to use multiple bytes to encode some characters.\n",
    "\n",
    "You also saw above that Unicode is not technically a full-blown character encoding. Why is that?\n",
    "\n",
    "There is one thing that Unicode doesn’t tell you: it doesn’t tell you how to get actual bits from text—just code points. It doesn’t tell you enough about how to convert text to **binary** data and vice versa.\n",
    "\n",
    "Unicode is an abstract encoding standard, not an encoding. That’s where UTF-8 and other encoding schemes come into play. The Unicode standard (a map of characters to code points) defines several different encodings from its single character set.\n",
    "\n",
    "UTF-8 as well as its lesser-used cousins, UTF-16 and UTF-32, are encoding formats for representing Unicode characters as binary data of one or more bytes per character. We’ll discuss UTF-16 and UTF-32 in a moment, **but UTF-8 has taken the largest share of the pie by far.**\n",
    "\n",
    "That brings us to a definition that is long overdue. What does it mean, formally, to encode and decode?\n",
    "\n",
    "# Encoding and Decoding in Python 3\n",
    "Python 3’s `str` type is meant to represent human-readable text and can contain any Unicode character.\n",
    "\n",
    "The `bytes` type, conversely, represents binary data, or sequences of raw bytes, that do not intrinsically have an encoding attached to it.\n",
    "\n",
    "Encoding and decoding is the process of going from one to the other:\n",
    "\n",
    "![image-2.png](attachment:image-2.png)\n",
    "\n",
    "\n",
    "In `.encode()` and `.decode()`, the encoding parameter is \"_utf-8_\" by default. \n",
    "\n",
    "Though it is generally safer and more unambiguous to specify it. "
   ]
  },
  {
   "cell_type": "code",
   "execution_count": 11,
   "metadata": {},
   "outputs": [
    {
     "name": "stderr",
     "output_type": "stream",
     "text": [
      "ic| \"résumé\".encode(\"utf-8\"): b'r\\xc3\\xa9sum\\xc3\\xa9'\n",
      "ic| \"El Niño\".encode(\"utf-8\"): b'El Ni\\xc3\\xb1o'\n",
      "ic| \"El Ni\".encode(\"utf-8\"): b'El Ni'\n",
      "ic| \"ñ\".encode(\"utf-8\"): b'\\xc3\\xb1'\n",
      "ic| b\"r\\xc3\\xa9sum\\xc3\\xa9\".decode(): 'résumé'\n",
      "    b\"El Ni\\xc3\\xb1o\".decode(): 'El Niño'\n"
     ]
    },
    {
     "data": {
      "text/plain": [
       "('résumé', 'El Niño')"
      ]
     },
     "execution_count": 11,
     "metadata": {},
     "output_type": "execute_result"
    }
   ],
   "source": [
    "ic(\"résumé\".encode(\"utf-8\"))\n",
    "\n",
    "ic(\"El Niño\".encode(\"utf-8\"))\n",
    "ic(\"El Ni\".encode(\"utf-8\"))\n",
    "ic(\"ñ\".encode(\"utf-8\"))\n",
    "\n",
    "\n",
    "ic(b\"r\\xc3\\xa9sum\\xc3\\xa9\".decode(), b\"El Ni\\xc3\\xb1o\".decode())"
   ]
  },
  {
   "cell_type": "markdown",
   "metadata": {},
   "source": [
    "This is why, when calling `\"El Niño\".encode(\"utf-8\")`, the ASCII-compatible \"El\" is allowed to be represented as it is, but _the n with tilde_ is escaped to \"\\xc3\\xb1\". That messy-looking sequence represents two bytes, `0xc3` and `0xb1` in **hex**:"
   ]
  },
  {
   "cell_type": "markdown",
   "metadata": {},
   "source": []
  },
  {
   "cell_type": "code",
   "execution_count": 12,
   "metadata": {},
   "outputs": [
    {
     "data": {
      "text/plain": [
       "'11000011 10110001'"
      ]
     },
     "execution_count": 12,
     "metadata": {},
     "output_type": "execute_result"
    }
   ],
   "source": [
    "\" \".join(f\"{i:08b}\" for i in (0xC3, 0xB1))"
   ]
  },
  {
   "cell_type": "markdown",
   "metadata": {},
   "source": [
    "# Python3 Unicode Features\n",
    "- Python 3 source code is assumed to be in UTF-8 by default.\n",
    "- All text(`str`) is Unicode by default. "
   ]
  },
  {
   "cell_type": "code",
   "execution_count": 13,
   "metadata": {},
   "outputs": [
    {
     "data": {
      "text/plain": [
       "'UTF-8'"
      ]
     },
     "execution_count": 13,
     "metadata": {},
     "output_type": "execute_result"
    }
   ],
   "source": [
    "import locale\n",
    "\n",
    "locale.getpreferredencoding()"
   ]
  },
  {
   "cell_type": "markdown",
   "metadata": {},
   "source": [
    "On windows 11 Korean, \n",
    "\n",
    "```python\n",
    ">>> import locale\n",
    ">>> locale.getpreferredencoding()\n",
    "'cp949'\n",
    "```"
   ]
  },
  {
   "cell_type": "markdown",
   "metadata": {},
   "source": [
    "# One Byte, Two Bytes, Three Bytes, Four\n",
    "\n",
    "A crucial feature is that UTF-8 is a **variable-length encoding**. It’s tempting to gloss over what this means, but it’s worth delving into.\n",
    "\n",
    "Think back to the section on ASCII. Everything in extended-ASCII-land demands at most one byte of space. You can quickly prove this with the following generator expression:"
   ]
  },
  {
   "cell_type": "code",
   "execution_count": 16,
   "metadata": {},
   "outputs": [
    {
     "name": "stderr",
     "output_type": "stream",
     "text": [
      "ic| len(ibrow): 1\n",
      "ic| len(ibrow.encode('utf-8')): 4\n"
     ]
    },
    {
     "data": {
      "text/plain": [
       "4"
      ]
     },
     "execution_count": 16,
     "metadata": {},
     "output_type": "execute_result"
    }
   ],
   "source": [
    "all(len(chr(i).encode(\"ascii\")) == 1 for i in range(128))\n",
    "\n",
    "# for i in range(128):\n",
    "#     print(len(chr(i)))\n",
    "\n",
    "\n",
    "ibrow = \"🤨\"\n",
    "ic(len(ibrow))\n",
    "ic(len(ibrow.encode(\"utf-8\")))"
   ]
  },
  {
   "cell_type": "markdown",
   "metadata": {},
   "source": [
    "Feature of `len()`\n",
    "\n",
    "- The length of a single Unicode character as a Python str will always be 1, no matter how many bytes it occupies.\n",
    "- The length of the same character encoded to bytes will be anywhere between 1 and **4**."
   ]
  },
  {
   "cell_type": "code",
   "execution_count": 20,
   "metadata": {},
   "outputs": [
    {
     "name": "stderr",
     "output_type": "stream",
     "text": [
      "ic| b\"0\".decode(): '0'\n",
      "ic| \"😓\".encode(): b'\\xf0\\x9f\\x98\\x93'\n"
     ]
    },
    {
     "data": {
      "text/plain": [
       "'😓'"
      ]
     },
     "execution_count": 20,
     "metadata": {},
     "output_type": "execute_result"
    }
   ],
   "source": [
    "ic(b\"0\".decode())\n",
    "ic(\"😓\".encode())\n",
    "\n",
    "b\"\\xf0\\x9f\\x98\\x93\".decode()"
   ]
  },
  {
   "cell_type": "code",
   "execution_count": 23,
   "metadata": {},
   "outputs": [
    {
     "data": {
      "text/plain": [
       "b'\\xf0\\x9f\\x98\\x93'"
      ]
     },
     "execution_count": 23,
     "metadata": {},
     "output_type": "execute_result"
    }
   ],
   "source": [
    "# bytes(\"😓\") # it does not work\n",
    "bytes(\"😓\", encoding=\"utf-8\")"
   ]
  },
  {
   "cell_type": "markdown",
   "metadata": {},
   "source": [
    "These can be logically grouped together based on their purpose:\n",
    "\n",
    "- ascii(), bin(), hex(), and oct() are for obtaining a different representation of an input. Each one produces a str. The first, ascii(), produces an ASCII only representation of an object, with non-ASCII characters escaped. The remaining three give binary, hexadecimal, and octal representations of an integer, respectively. These are only representations, not a fundamental change in the input.\n",
    "\n",
    "- bytes(), str(), and int() are class constructors for their respective types, bytes, str, and int. They each offer ways of coercing the input into the desired type. For instance, as you saw earlier, while int(11.0) is probably more common, you might also see int('11', base=16).\n",
    "\n",
    "- ord() and chr() are inverses of each other in that the Python `ord()` function converts a str character to its base-10 code point, while `chr()` does the opposite.\n",
    "\n",
    "- Here’s a more detailed look at each of these nine functions:"
   ]
  },
  {
   "cell_type": "code",
   "execution_count": 26,
   "metadata": {},
   "outputs": [
    {
     "data": {
      "text/plain": [
       "(97, 'a')"
      ]
     },
     "execution_count": 26,
     "metadata": {},
     "output_type": "execute_result"
    }
   ],
   "source": [
    "(ord(\"a\"), chr(97))"
   ]
  },
  {
   "cell_type": "code",
   "execution_count": 41,
   "metadata": {},
   "outputs": [
    {
     "data": {
      "text/plain": [
       "281"
      ]
     },
     "execution_count": 41,
     "metadata": {},
     "output_type": "execute_result"
    }
   ],
   "source": [
    "# The Python ord() function converts a single Unicode character\n",
    "# to its integer code point:\n",
    "\n",
    "ord(\"ę\")"
   ]
  },
  {
   "cell_type": "code",
   "execution_count": 27,
   "metadata": {},
   "outputs": [
    {
     "data": {
      "text/plain": [
       "'0x64'"
      ]
     },
     "execution_count": 27,
     "metadata": {},
     "output_type": "execute_result"
    }
   ],
   "source": [
    "# Hex example\n",
    "hex(100)"
   ]
  },
  {
   "cell_type": "code",
   "execution_count": 28,
   "metadata": {},
   "outputs": [
    {
     "data": {
      "text/plain": [
       "(11, 3, 9)"
      ]
     },
     "execution_count": 28,
     "metadata": {},
     "output_type": "execute_result"
    }
   ],
   "source": [
    "(int(\"11\"), int(\"11\", base=2), int(\"11\", base=8))"
   ]
  },
  {
   "cell_type": "code",
   "execution_count": 37,
   "metadata": {},
   "outputs": [
    {
     "data": {
      "text/plain": [
       "(3851, 3851, 2831)"
      ]
     },
     "execution_count": 37,
     "metadata": {},
     "output_type": "execute_result"
    }
   ],
   "source": [
    "(\n",
    "    int.from_bytes(b\"\\x0f\\x0b\"),\n",
    "    int.from_bytes(b\"\\x0f\\x0b\", byteorder=\"big\"),\n",
    "    int.from_bytes(b\"\\x0f\\x0b\", byteorder=\"little\"),\n",
    ")"
   ]
  },
  {
   "cell_type": "code",
   "execution_count": 40,
   "metadata": {},
   "outputs": [
    {
     "name": "stderr",
     "output_type": "stream",
     "text": [
      "ic| 'big endian:', 16**2 * 15 + 11: 3851\n",
      "ic| 'little endian:', 16**2 * 11 + 15: 2831\n"
     ]
    },
    {
     "data": {
      "text/plain": [
       "('little endian:', 2831)"
      ]
     },
     "execution_count": 40,
     "metadata": {},
     "output_type": "execute_result"
    }
   ],
   "source": [
    "ic(\"big endian:\", 16**2 * 15 + 11)\n",
    "ic(\"little endian:\", 16**2 * 11 + 15)"
   ]
  },
  {
   "cell_type": "code",
   "execution_count": 42,
   "metadata": {},
   "outputs": [
    {
     "data": {
      "text/plain": [
       "True"
      ]
     },
     "execution_count": 42,
     "metadata": {},
     "output_type": "execute_result"
    }
   ],
   "source": [
    "(\"a\" == \"\\x61\" == \"\\N{LATIN SMALL LETTER A}\" == \"\\u0061\" == \"\\U00000061\")"
   ]
  }
 ],
 "metadata": {
  "kernelspec": {
   "display_name": "tiny",
   "language": "python",
   "name": "python3"
  },
  "language_info": {
   "codemirror_mode": {
    "name": "ipython",
    "version": 3
   },
   "file_extension": ".py",
   "mimetype": "text/x-python",
   "name": "python",
   "nbconvert_exporter": "python",
   "pygments_lexer": "ipython3",
   "version": "3.11.9"
  }
 },
 "nbformat": 4,
 "nbformat_minor": 2
}
