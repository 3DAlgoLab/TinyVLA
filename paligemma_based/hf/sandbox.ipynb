{
 "cells": [
  {
   "cell_type": "code",
   "execution_count": null,
   "metadata": {},
   "outputs": [],
   "source": [
    "from peft import replace_lora_weights_loftq\n",
    "from transformers import BitsAndBytesConfig\n",
    "\n",
    "\n",
    "bnb_config = BitsAndBytesConfig(load_in_4bit=True, ...)\n",
    "base_model = AutoModelForCausalLM.from_pretrained(..., quantization_config=bnb_config)\n",
    "\n",
    "# note: don't pass init_lora_weights=\"loftq\" or loftq_config!\n",
    "lora_config = LoraConfig(task_type=\"CAUSAL_LM\")\n",
    "peft_model = get_peft_model(base_model, lora_config)\n",
    "replace_lora_weights_loftq(peft_model)"
   ]
  }
 ],
 "metadata": {
  "kernelspec": {
   "display_name": "hf",
   "language": "python",
   "name": "python3"
  },
  "language_info": {
   "codemirror_mode": {
    "name": "ipython",
    "version": 3
   },
   "file_extension": ".py",
   "mimetype": "text/x-python",
   "name": "python",
   "nbconvert_exporter": "python",
   "pygments_lexer": "ipython3",
   "version": "3.11.9"
  }
 },
 "nbformat": 4,
 "nbformat_minor": 2
}
