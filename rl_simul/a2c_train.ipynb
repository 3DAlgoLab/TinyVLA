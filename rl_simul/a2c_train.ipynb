{
 "cells": [
  {
   "cell_type": "code",
   "execution_count": null,
   "metadata": {},
   "outputs": [],
   "source": [
    "import os\n",
    "\n",
    "import gymnasium as gym\n",
    "import panda_gym\n",
    "\n",
    "from huggingface_sb3 import load_from_hub, package_to_hub\n",
    "\n",
    "from stable_baselines3 import A2C\n",
    "from stable_baselines3.common.evaluation import evaluate_policy\n",
    "from stable_baselines3.common.vec_env import DummyVecEnv, VecNormalize\n",
    "from stable_baselines3.common.env_util import make_vec_env\n",
    "\n",
    "from huggingface_hub import notebook_login"
   ]
  },
  {
   "cell_type": "code",
   "execution_count": null,
   "metadata": {},
   "outputs": [],
   "source": [
    "# from pyvirtualdisplay import Display\n",
    "\n",
    "# virtual_display = Display(size=(800, 600))\n",
    "# virtual_display.start()"
   ]
  },
  {
   "cell_type": "code",
   "execution_count": null,
   "metadata": {},
   "outputs": [],
   "source": [
    "# create environment\n",
    "import pprint\n",
    "\n",
    "env_id = \"PandaReachDense-v3\"\n",
    "env = gym.make(env_id)\n",
    "\n",
    "# state & action\n",
    "s_size = env.observation_space.shape\n",
    "a_size = env.action_space.shape\n",
    "\n",
    "print(\"_____OBSERVATION SPACE_____ \\n\")\n",
    "print(\"The State Space is: \", s_size)\n",
    "# print(\"Sample observation\", env.observation_space.sample())  # Get a random observation\n",
    "obs1 = env.observation_space.sample()\n",
    "pprint.pp(obs1)"
   ]
  },
  {
   "cell_type": "code",
   "execution_count": null,
   "metadata": {},
   "outputs": [],
   "source": [
    "print(\"\\n _____ACTION SPACE_____ \\n\")\n",
    "print(\"The Action Space is: \", a_size)\n",
    "print(\"Action Space Sample\", env.action_space.sample())  # Take a random action"
   ]
  },
  {
   "cell_type": "code",
   "execution_count": null,
   "metadata": {},
   "outputs": [],
   "source": [
    "env = make_vec_env(env_id, n_envs=4)\n",
    "env = VecNormalize(env, norm_obs=True, norm_reward=True, clip_obs=10.0)\n",
    "\n",
    "model = A2C(policy=\"MultiInputPolicy\", env=env, verbose=1)\n",
    "model.learn(50_000, progress_bar=True)\n",
    "\n",
    "model.save(\"a2c_panda_reach\")\n",
    "env.save(\"vec_normalize.pkl\")"
   ]
  },
  {
   "cell_type": "code",
   "execution_count": null,
   "metadata": {},
   "outputs": [],
   "source": [
    "# Evaluate the agent\n",
    "\n",
    "from stable_baselines3.common.vec_env import DummyVecEnv, VecNormalize\n",
    "\n",
    "eval_env = DummyVecEnv([lambda: gym.make(env_id)])\n",
    "eval_env = VecNormalize.load(\"vec_normalize.pkl\", eval_env)\n",
    "\n",
    "eval_env.render_mode = \"rgb_array\"\n",
    "eval_env.training = False\n",
    "eval_env.norm_reward = False  # not need at test time\n",
    "\n",
    "model = A2C.load(\"a2c_panda_reach\")\n",
    "mean_reward, std_reward = evaluate_policy(model, eval_env)\n",
    "\n",
    "print(f\"Mean reward = {mean_reward:.2f} +/- {std_reward:.2f}\")"
   ]
  },
  {
   "cell_type": "code",
   "execution_count": null,
   "metadata": {},
   "outputs": [],
   "source": []
  }
 ],
 "metadata": {
  "kernelspec": {
   "display_name": "rl",
   "language": "python",
   "name": "python3"
  },
  "language_info": {
   "codemirror_mode": {
    "name": "ipython",
    "version": 3
   },
   "file_extension": ".py",
   "mimetype": "text/x-python",
   "name": "python",
   "nbconvert_exporter": "python",
   "pygments_lexer": "ipython3",
   "version": "3.10.14"
  }
 },
 "nbformat": 4,
 "nbformat_minor": 2
}
