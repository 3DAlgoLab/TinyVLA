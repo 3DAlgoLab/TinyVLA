{
 "cells": [
  {
   "cell_type": "code",
   "execution_count": null,
   "metadata": {},
   "outputs": [],
   "source": [
    "import os\n",
    "\n",
    "from language_table.environments import blocks\n",
    "from language_table.environments import language_table\n",
    "from language_table.environments.rewards import block2block\n",
    "\n",
    "from matplotlib import pyplot as plt\n",
    "import mediapy\n",
    "import numpy as np\n",
    "import tensorflow_datasets as tfds\n",
    "from icecream import ic\n",
    "\n",
    "np.set_printoptions(precision=3)"
   ]
  },
  {
   "cell_type": "code",
   "execution_count": null,
   "metadata": {},
   "outputs": [],
   "source": [
    "# tf dataset handling\n",
    "import tensorflow as tf\n",
    "\n",
    "dataset = tf.data.Dataset.range(10)\n",
    "\n",
    "for i in dataset:\n",
    "    print(i)"
   ]
  },
  {
   "cell_type": "code",
   "execution_count": null,
   "metadata": {},
   "outputs": [],
   "source": [
    "dataset = tf.data.Dataset.from_tensor_slices({\"a\": ([1, 2], [3, 4]), \"b\": [5, 6]})\n",
    "list(dataset.as_numpy_iterator())"
   ]
  },
  {
   "cell_type": "code",
   "execution_count": null,
   "metadata": {},
   "outputs": [],
   "source": [
    "DATASET_PATH = \"/data/language_table\"\n",
    "builder = tfds.builder_from_directory(DATASET_PATH)\n",
    "episode_ds = builder.as_dataset(split=\"train\")\n",
    "print(episode_ds.element_spec)"
   ]
  },
  {
   "cell_type": "code",
   "execution_count": null,
   "metadata": {},
   "outputs": [],
   "source": [
    "def decode_inst(inst):\n",
    "    \"\"\"Utility to decode encoded language instruction\"\"\"\n",
    "    return bytes(inst[np.where(inst != 0)].tolist()).decode(\"utf-8\")"
   ]
  },
  {
   "cell_type": "code",
   "execution_count": null,
   "metadata": {},
   "outputs": [],
   "source": [
    "def show_episode(episode):\n",
    "    \"\"\"Utility to visualize an episode\"\"\"\n",
    "    print(\"Episode id:\", episode[\"episode_id\"].numpy())\n",
    "    frames = []\n",
    "    actions = []\n",
    "    for step in episode[\"steps\"].as_numpy_iterator():\n",
    "        frames.append(step[\"observation\"][\"rgb\"])\n",
    "        actions.append(step[\"action\"])\n",
    "\n",
    "    print(\"step numbers: \", len(frames))\n",
    "    mediapy.show_video(\n",
    "        frames, title=decode_inst(step[\"observation\"][\"instruction\"]), fps=5\n",
    "    )\n",
    "    # draw the action sequence\n",
    "    actions = np.array(actions).T\n",
    "    print(\"action sequence:\")\n",
    "    print(actions)"
   ]
  },
  {
   "cell_type": "code",
   "execution_count": null,
   "metadata": {},
   "outputs": [],
   "source": [
    "# episodes_iter = iter(episode_ds.take(10))\n",
    "\n",
    "sample_episodes = tf.data.Dataset.sample_from_datasets(episode_ds)\n",
    "episodes_iter = iter(sample_episodes)\n",
    "\n",
    "for episode in episodes_iter:\n",
    "    show_episode(episode)"
   ]
  }
 ],
 "metadata": {
  "kernelspec": {
   "display_name": "tiny",
   "language": "python",
   "name": "python3"
  },
  "language_info": {
   "codemirror_mode": {
    "name": "ipython",
    "version": 3
   },
   "file_extension": ".py",
   "mimetype": "text/x-python",
   "name": "python",
   "nbconvert_exporter": "python",
   "pygments_lexer": "ipython3",
   "version": "3.11.9"
  }
 },
 "nbformat": 4,
 "nbformat_minor": 2
}
