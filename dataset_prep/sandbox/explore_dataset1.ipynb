{
 "cells": [
  {
   "cell_type": "code",
   "execution_count": 35,
   "metadata": {},
   "outputs": [],
   "source": [
    "import os\n",
    "\n",
    "from language_table.environments import blocks\n",
    "from language_table.environments import language_table\n",
    "from language_table.environments.rewards import block2block\n",
    "\n",
    "from matplotlib import pyplot as plt\n",
    "import mediapy\n",
    "import numpy as np\n",
    "import tensorflow_datasets as tfds\n",
    "from icecream import ic\n",
    "\n",
    "np.set_printoptions(precision=3)"
   ]
  },
  {
   "cell_type": "code",
   "execution_count": 36,
   "metadata": {},
   "outputs": [
    {
     "name": "stdout",
     "output_type": "stream",
     "text": [
      "tf.Tensor(0, shape=(), dtype=int64)\n",
      "tf.Tensor(1, shape=(), dtype=int64)\n",
      "tf.Tensor(2, shape=(), dtype=int64)\n",
      "tf.Tensor(3, shape=(), dtype=int64)\n",
      "tf.Tensor(4, shape=(), dtype=int64)\n",
      "tf.Tensor(5, shape=(), dtype=int64)\n",
      "tf.Tensor(6, shape=(), dtype=int64)\n",
      "tf.Tensor(7, shape=(), dtype=int64)\n",
      "tf.Tensor(8, shape=(), dtype=int64)\n",
      "tf.Tensor(9, shape=(), dtype=int64)\n"
     ]
    },
    {
     "name": "stderr",
     "output_type": "stream",
     "text": [
      "2024-05-31 01:25:01.713274: W tensorflow/core/framework/local_rendezvous.cc:404] Local rendezvous is aborting with status: OUT_OF_RANGE: End of sequence\n"
     ]
    }
   ],
   "source": [
    "# tf dataset handling\n",
    "import tensorflow as tf\n",
    "\n",
    "dataset = tf.data.Dataset.range(10)\n",
    "\n",
    "for i in dataset:\n",
    "    print(i)"
   ]
  },
  {
   "cell_type": "code",
   "execution_count": 37,
   "metadata": {},
   "outputs": [
    {
     "name": "stderr",
     "output_type": "stream",
     "text": [
      "2024-05-31 01:25:01.736558: W tensorflow/core/framework/local_rendezvous.cc:404] Local rendezvous is aborting with status: OUT_OF_RANGE: End of sequence\n"
     ]
    },
    {
     "data": {
      "text/plain": [
       "[{'a': (1, 3), 'b': 5}, {'a': (2, 4), 'b': 6}]"
      ]
     },
     "execution_count": 37,
     "metadata": {},
     "output_type": "execute_result"
    }
   ],
   "source": [
    "dataset = tf.data.Dataset.from_tensor_slices({\"a\": ([1, 2], [3, 4]), \"b\": [5, 6]})\n",
    "list(dataset.as_numpy_iterator())"
   ]
  },
  {
   "cell_type": "code",
   "execution_count": 38,
   "metadata": {},
   "outputs": [
    {
     "name": "stdout",
     "output_type": "stream",
     "text": [
      "{'episode_id': TensorSpec(shape=(), dtype=tf.string, name=None), 'steps': DatasetSpec({'action': TensorSpec(shape=(2,), dtype=tf.float32, name=None), 'is_first': TensorSpec(shape=(), dtype=tf.bool, name=None), 'is_last': TensorSpec(shape=(), dtype=tf.bool, name=None), 'is_terminal': TensorSpec(shape=(), dtype=tf.bool, name=None), 'observation': {'effector_target_translation': TensorSpec(shape=(2,), dtype=tf.float32, name=None), 'effector_translation': TensorSpec(shape=(2,), dtype=tf.float32, name=None), 'instruction': TensorSpec(shape=(512,), dtype=tf.int32, name=None), 'rgb': TensorSpec(shape=(360, 640, 3), dtype=tf.uint8, name=None)}, 'reward': TensorSpec(shape=(), dtype=tf.float32, name=None)}, TensorShape([]))}\n"
     ]
    }
   ],
   "source": [
    "DATASET_PATH = \"/data/language_table\"\n",
    "builder = tfds.builder_from_directory(DATASET_PATH)\n",
    "episode_ds = builder.as_dataset(split=\"train\")\n",
    "print(episode_ds.element_spec)"
   ]
  },
  {
   "cell_type": "code",
   "execution_count": 39,
   "metadata": {},
   "outputs": [],
   "source": [
    "def decode_inst(inst):\n",
    "    \"\"\"Utility to decode encoded language instruction\"\"\"\n",
    "    return bytes(inst[np.where(inst != 0)].tolist()).decode(\"utf-8\")"
   ]
  },
  {
   "cell_type": "code",
   "execution_count": 44,
   "metadata": {},
   "outputs": [],
   "source": [
    "def show_episode(episode):\n",
    "    \"\"\"Utility to visualize an episode\"\"\"\n",
    "    print(\"Episode id:\", episode[\"episode_id\"].numpy())\n",
    "    frames = []\n",
    "    actions = []\n",
    "    for step in episode[\"steps\"].as_numpy_iterator():\n",
    "        frames.append(step[\"observation\"][\"rgb\"])\n",
    "        actions.append(step[\"action\"])\n",
    "\n",
    "    print(\"step numbers: \", len(frames))\n",
    "    mediapy.show_video(\n",
    "        frames, title=decode_inst(step[\"observation\"][\"instruction\"]), fps=5\n",
    "    )\n",
    "    # draw the action sequence\n",
    "    actions = np.array(actions).T\n",
    "    print(\"action sequence:\")\n",
    "    print(actions)"
   ]
  },
  {
   "cell_type": "code",
   "execution_count": 48,
   "metadata": {},
   "outputs": [
    {
     "name": "stderr",
     "output_type": "stream",
     "text": [
      "Exception ignored in: <bound method IPythonKernel._clean_thread_parent_frames of <ipykernel.ipkernel.IPythonKernel object at 0x766c7e94ee90>>\n",
      "Traceback (most recent call last):\n",
      "  File \"/home/j2y/envs/tiny/lib/python3.11/site-packages/ipykernel/ipkernel.py\", line 790, in _clean_thread_parent_frames\n",
      "    active_threads = {thread.ident for thread in threading.enumerate()}\n",
      "                                                 ^^^^^^^^^^^^^^^^^^^^^\n",
      "  File \"/home/j2y/.pyenv/versions/3.11.9/lib/python3.11/threading.py\", line 1509, in enumerate\n",
      "    with _active_limbo_lock:\n",
      "KeyboardInterrupt: \n"
     ]
    }
   ],
   "source": [
    "# episodes_iter = iter(episode_ds.take(10))\n",
    "\n",
    "sample_episodes = tf.data.Dataset.sample_from_datasets(episode_ds)\n",
    "episodes_iter = iter(sample_episodes)\n",
    "\n",
    "for episode in episodes_iter:\n",
    "    show_episode(episode)"
   ]
  }
 ],
 "metadata": {
  "kernelspec": {
   "display_name": "tiny",
   "language": "python",
   "name": "python3"
  },
  "language_info": {
   "codemirror_mode": {
    "name": "ipython",
    "version": 3
   },
   "file_extension": ".py",
   "mimetype": "text/x-python",
   "name": "python",
   "nbconvert_exporter": "python",
   "pygments_lexer": "ipython3",
   "version": "3.11.9"
  }
 },
 "nbformat": 4,
 "nbformat_minor": 2
}
