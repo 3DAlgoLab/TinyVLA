{
 "cells": [
  {
   "cell_type": "code",
   "execution_count": 3,
   "metadata": {},
   "outputs": [],
   "source": [
    "import tensorflow as tf\n",
    "import json\n",
    "\n",
    "# Assume you have a list of dictionaries\n",
    "data = [{\"name\": \"John\", \"age\": 30}, {\"name\": \"Mike\", \"age\": 25}]\n",
    "\n",
    "\n",
    "def write_jsonl(data, filename):\n",
    "    with open(filename, \"w\") as f:\n",
    "        for element in data:\n",
    "            # Write as a JSON formatted string\n",
    "            f.write(json.dumps(element) + \"\\n\")\n",
    "\n",
    "\n",
    "write_jsonl(data, \"output.jsonl\")"
   ]
  }
 ],
 "metadata": {
  "kernelspec": {
   "display_name": "vla",
   "language": "python",
   "name": "python3"
  },
  "language_info": {
   "codemirror_mode": {
    "name": "ipython",
    "version": 3
   },
   "file_extension": ".py",
   "mimetype": "text/x-python",
   "name": "python",
   "nbconvert_exporter": "python",
   "pygments_lexer": "ipython3",
   "version": "3.11.9"
  }
 },
 "nbformat": 4,
 "nbformat_minor": 2
}
