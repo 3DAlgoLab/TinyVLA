{
 "cells": [
  {
   "cell_type": "code",
   "execution_count": 1,
   "metadata": {},
   "outputs": [],
   "source": [
    "import json\n",
    "\n",
    "# Assume you have a list of dictionaries\n",
    "data = [{\"name\": \"John\", \"age\": 30}, {\"name\": \"Mike\", \"age\": 25}]\n",
    "\n",
    "\n",
    "def write_jsonl(data, filename):\n",
    "    with open(filename, \"w\") as f:\n",
    "        for element in data:\n",
    "            # Write as a JSON formatted string\n",
    "            f.write(json.dumps(element) + \"\\n\")\n",
    "\n",
    "\n",
    "write_jsonl(data, \"output.jsonl\")"
   ]
  },
  {
   "cell_type": "code",
   "execution_count": 8,
   "metadata": {},
   "outputs": [],
   "source": [
    "import tensorflow as tf\n",
    "import numpy as np\n",
    "\n",
    "data = np.arange(100)\n",
    "data = data.reshape(-1, 1)\n",
    "ds1 = tf.data.Dataset.from_tensor_slices(data)"
   ]
  },
  {
   "cell_type": "code",
   "execution_count": 9,
   "metadata": {},
   "outputs": [
    {
     "name": "stderr",
     "output_type": "stream",
     "text": [
      "2024-06-17 12:31:34.305240: W tensorflow/core/framework/local_rendezvous.cc:404] Local rendezvous is aborting with status: OUT_OF_RANGE: End of sequence\n"
     ]
    },
    {
     "data": {
      "text/plain": [
       "[array([0]),\n",
       " array([1]),\n",
       " array([2]),\n",
       " array([3]),\n",
       " array([4]),\n",
       " array([5]),\n",
       " array([6]),\n",
       " array([7]),\n",
       " array([8]),\n",
       " array([9]),\n",
       " array([10]),\n",
       " array([11]),\n",
       " array([12]),\n",
       " array([13]),\n",
       " array([14]),\n",
       " array([15]),\n",
       " array([16]),\n",
       " array([17]),\n",
       " array([18]),\n",
       " array([19]),\n",
       " array([20]),\n",
       " array([21]),\n",
       " array([22]),\n",
       " array([23]),\n",
       " array([24]),\n",
       " array([25]),\n",
       " array([26]),\n",
       " array([27]),\n",
       " array([28]),\n",
       " array([29]),\n",
       " array([30]),\n",
       " array([31]),\n",
       " array([32]),\n",
       " array([33]),\n",
       " array([34]),\n",
       " array([35]),\n",
       " array([36]),\n",
       " array([37]),\n",
       " array([38]),\n",
       " array([39]),\n",
       " array([40]),\n",
       " array([41]),\n",
       " array([42]),\n",
       " array([43]),\n",
       " array([44]),\n",
       " array([45]),\n",
       " array([46]),\n",
       " array([47]),\n",
       " array([48]),\n",
       " array([49]),\n",
       " array([50]),\n",
       " array([51]),\n",
       " array([52]),\n",
       " array([53]),\n",
       " array([54]),\n",
       " array([55]),\n",
       " array([56]),\n",
       " array([57]),\n",
       " array([58]),\n",
       " array([59]),\n",
       " array([60]),\n",
       " array([61]),\n",
       " array([62]),\n",
       " array([63]),\n",
       " array([64]),\n",
       " array([65]),\n",
       " array([66]),\n",
       " array([67]),\n",
       " array([68]),\n",
       " array([69]),\n",
       " array([70]),\n",
       " array([71]),\n",
       " array([72]),\n",
       " array([73]),\n",
       " array([74]),\n",
       " array([75]),\n",
       " array([76]),\n",
       " array([77]),\n",
       " array([78]),\n",
       " array([79]),\n",
       " array([80]),\n",
       " array([81]),\n",
       " array([82]),\n",
       " array([83]),\n",
       " array([84]),\n",
       " array([85]),\n",
       " array([86]),\n",
       " array([87]),\n",
       " array([88]),\n",
       " array([89]),\n",
       " array([90]),\n",
       " array([91]),\n",
       " array([92]),\n",
       " array([93]),\n",
       " array([94]),\n",
       " array([95]),\n",
       " array([96]),\n",
       " array([97]),\n",
       " array([98]),\n",
       " array([99])]"
      ]
     },
     "execution_count": 9,
     "metadata": {},
     "output_type": "execute_result"
    }
   ],
   "source": [
    "list(ds1.as_numpy_iterator())"
   ]
  },
  {
   "cell_type": "code",
   "execution_count": 10,
   "metadata": {},
   "outputs": [
    {
     "data": {
      "text/plain": [
       "tensorflow.python.data.ops.from_tensor_slices_op._TensorSliceDataset"
      ]
     },
     "execution_count": 10,
     "metadata": {},
     "output_type": "execute_result"
    }
   ],
   "source": [
    "type(ds1)"
   ]
  },
  {
   "cell_type": "code",
   "execution_count": null,
   "metadata": {},
   "outputs": [],
   "source": []
  },
  {
   "cell_type": "code",
   "execution_count": 11,
   "metadata": {},
   "outputs": [
    {
     "name": "stderr",
     "output_type": "stream",
     "text": [
      "2024-06-17 12:31:41.639709: W tensorflow/core/framework/local_rendezvous.cc:404] Local rendezvous is aborting with status: OUT_OF_RANGE: End of sequence\n"
     ]
    }
   ],
   "source": [
    "train_data, val_data = tf.keras.utils.split_dataset(\n",
    "    ds1, left_size=0.8, right_size=0.2, shuffle=True\n",
    ")"
   ]
  },
  {
   "cell_type": "code",
   "execution_count": 12,
   "metadata": {},
   "outputs": [
    {
     "name": "stderr",
     "output_type": "stream",
     "text": [
      "2024-06-17 12:32:01.691422: W tensorflow/core/framework/local_rendezvous.cc:404] Local rendezvous is aborting with status: OUT_OF_RANGE: End of sequence\n"
     ]
    },
    {
     "data": {
      "text/plain": [
       "[(51,),\n",
       " (38,),\n",
       " (25,),\n",
       " (69,),\n",
       " (75,),\n",
       " (76,),\n",
       " (34,),\n",
       " (4,),\n",
       " (59,),\n",
       " (39,),\n",
       " (64,),\n",
       " (17,),\n",
       " (48,),\n",
       " (27,),\n",
       " (98,),\n",
       " (60,),\n",
       " (43,),\n",
       " (5,),\n",
       " (36,),\n",
       " (66,),\n",
       " (89,),\n",
       " (26,),\n",
       " (15,),\n",
       " (68,),\n",
       " (23,),\n",
       " (50,),\n",
       " (21,),\n",
       " (28,),\n",
       " (40,),\n",
       " (12,),\n",
       " (33,),\n",
       " (58,),\n",
       " (93,),\n",
       " (52,),\n",
       " (10,),\n",
       " (32,),\n",
       " (57,),\n",
       " (55,),\n",
       " (13,),\n",
       " (22,),\n",
       " (31,),\n",
       " (71,),\n",
       " (8,),\n",
       " (54,),\n",
       " (95,),\n",
       " (37,),\n",
       " (85,),\n",
       " (77,),\n",
       " (44,),\n",
       " (72,),\n",
       " (99,),\n",
       " (46,),\n",
       " (20,),\n",
       " (63,),\n",
       " (78,),\n",
       " (74,),\n",
       " (92,),\n",
       " (56,),\n",
       " (0,),\n",
       " (45,),\n",
       " (16,),\n",
       " (47,),\n",
       " (24,),\n",
       " (62,),\n",
       " (97,),\n",
       " (9,),\n",
       " (61,),\n",
       " (86,),\n",
       " (49,),\n",
       " (82,),\n",
       " (2,),\n",
       " (79,),\n",
       " (70,),\n",
       " (14,),\n",
       " (41,),\n",
       " (53,),\n",
       " (29,),\n",
       " (83,),\n",
       " (81,),\n",
       " (65,)]"
      ]
     },
     "execution_count": 12,
     "metadata": {},
     "output_type": "execute_result"
    }
   ],
   "source": [
    "list(train_data.as_numpy_iterator())"
   ]
  }
 ],
 "metadata": {
  "kernelspec": {
   "display_name": "vla",
   "language": "python",
   "name": "python3"
  },
  "language_info": {
   "codemirror_mode": {
    "name": "ipython",
    "version": 3
   },
   "file_extension": ".py",
   "mimetype": "text/x-python",
   "name": "python",
   "nbconvert_exporter": "python",
   "pygments_lexer": "ipython3",
   "version": "3.11.9"
  }
 },
 "nbformat": 4,
 "nbformat_minor": 2
}
